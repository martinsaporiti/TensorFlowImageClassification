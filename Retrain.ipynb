{
 "cells": [
  {
   "cell_type": "markdown",
   "metadata": {},
   "source": [
    "# Definimos la arquitectura a utilizar por el algoritmo "
   ]
  },
  {
   "cell_type": "code",
   "execution_count": null,
   "metadata": {},
   "outputs": [],
   "source": [
    "IMAGE_SIZE=224\n",
    "ARCHITECTURE=\"mobilenet_0.50_%s\" %(IMAGE_SIZE) \n",
    "print('ARCHITECTURE:', ARCHITECTURE)"
   ]
  },
  {
   "cell_type": "markdown",
   "metadata": {},
   "source": [
    "# Ejecutamos el algoritmo de entrenamiento de tensorflow.\n",
    "### Parámetros importantes\n",
    "* architecture: Arquitectura a utilizar para el entrenamiento.\n",
    "* image_dir: carpeta donde se encuentran las imágenes a clasificar"
   ]
  },
  {
   "cell_type": "code",
   "execution_count": 46,
   "metadata": {},
   "outputs": [
    {
     "name": "stdout",
     "output_type": "stream",
     "text": [
      ">> Downloading mobilenet_v1_0.50_224_frozen.tgz 100.1%\n"
     ]
    },
    {
     "name": "stderr",
     "output_type": "stream",
     "text": [
      "--- Logging error ---\n",
      "Traceback (most recent call last):\n",
      "  File \"/Library/Frameworks/Python.framework/Versions/3.6/lib/python3.6/logging/__init__.py\", line 992, in emit\n",
      "    msg = self.format(record)\n",
      "  File \"/Library/Frameworks/Python.framework/Versions/3.6/lib/python3.6/logging/__init__.py\", line 838, in format\n",
      "    return fmt.format(record)\n",
      "  File \"/Library/Frameworks/Python.framework/Versions/3.6/lib/python3.6/logging/__init__.py\", line 575, in format\n",
      "    record.message = record.getMessage()\n",
      "  File \"/Library/Frameworks/Python.framework/Versions/3.6/lib/python3.6/logging/__init__.py\", line 338, in getMessage\n",
      "    msg = msg % self.args\n",
      "TypeError: not all arguments converted during string formatting\n",
      "Call stack:\n",
      "  File \"/Library/Frameworks/Python.framework/Versions/3.6/lib/python3.6/runpy.py\", line 193, in _run_module_as_main\n",
      "    \"__main__\", mod_spec)\n",
      "  File \"/Library/Frameworks/Python.framework/Versions/3.6/lib/python3.6/runpy.py\", line 85, in _run_code\n",
      "    exec(code, run_globals)\n",
      "  File \"/Users/sapo/Development/workspace-python/ml/env/lib/python3.6/site-packages/ipykernel_launcher.py\", line 16, in <module>\n",
      "    app.launch_new_instance()\n",
      "  File \"/Users/sapo/Development/workspace-python/ml/env/lib/python3.6/site-packages/traitlets/config/application.py\", line 658, in launch_instance\n",
      "    app.start()\n",
      "  File \"/Users/sapo/Development/workspace-python/ml/env/lib/python3.6/site-packages/ipykernel/kernelapp.py\", line 486, in start\n",
      "    self.io_loop.start()\n",
      "  File \"/Users/sapo/Development/workspace-python/ml/env/lib/python3.6/site-packages/tornado/platform/asyncio.py\", line 127, in start\n",
      "    self.asyncio_loop.run_forever()\n",
      "  File \"/Library/Frameworks/Python.framework/Versions/3.6/lib/python3.6/asyncio/base_events.py\", line 421, in run_forever\n",
      "    self._run_once()\n",
      "  File \"/Library/Frameworks/Python.framework/Versions/3.6/lib/python3.6/asyncio/base_events.py\", line 1431, in _run_once\n",
      "    handle._run()\n",
      "  File \"/Library/Frameworks/Python.framework/Versions/3.6/lib/python3.6/asyncio/events.py\", line 145, in _run\n",
      "    self._callback(*self._args)\n",
      "  File \"/Users/sapo/Development/workspace-python/ml/env/lib/python3.6/site-packages/tornado/platform/asyncio.py\", line 117, in _handle_events\n",
      "    handler_func(fileobj, events)\n",
      "  File \"/Users/sapo/Development/workspace-python/ml/env/lib/python3.6/site-packages/tornado/stack_context.py\", line 276, in null_wrapper\n",
      "    return fn(*args, **kwargs)\n",
      "  File \"/Users/sapo/Development/workspace-python/ml/env/lib/python3.6/site-packages/zmq/eventloop/zmqstream.py\", line 450, in _handle_events\n",
      "    self._handle_recv()\n",
      "  File \"/Users/sapo/Development/workspace-python/ml/env/lib/python3.6/site-packages/zmq/eventloop/zmqstream.py\", line 480, in _handle_recv\n",
      "    self._run_callback(callback, msg)\n",
      "  File \"/Users/sapo/Development/workspace-python/ml/env/lib/python3.6/site-packages/zmq/eventloop/zmqstream.py\", line 432, in _run_callback\n",
      "    callback(*args, **kwargs)\n",
      "  File \"/Users/sapo/Development/workspace-python/ml/env/lib/python3.6/site-packages/tornado/stack_context.py\", line 276, in null_wrapper\n",
      "    return fn(*args, **kwargs)\n",
      "  File \"/Users/sapo/Development/workspace-python/ml/env/lib/python3.6/site-packages/ipykernel/kernelbase.py\", line 283, in dispatcher\n",
      "    return self.dispatch_shell(stream, msg)\n",
      "  File \"/Users/sapo/Development/workspace-python/ml/env/lib/python3.6/site-packages/ipykernel/kernelbase.py\", line 233, in dispatch_shell\n",
      "    handler(stream, idents, msg)\n",
      "  File \"/Users/sapo/Development/workspace-python/ml/env/lib/python3.6/site-packages/ipykernel/kernelbase.py\", line 399, in execute_request\n",
      "    user_expressions, allow_stdin)\n",
      "  File \"/Users/sapo/Development/workspace-python/ml/env/lib/python3.6/site-packages/ipykernel/ipkernel.py\", line 208, in do_execute\n",
      "    res = shell.run_cell(code, store_history=store_history, silent=silent)\n",
      "  File \"/Users/sapo/Development/workspace-python/ml/env/lib/python3.6/site-packages/ipykernel/zmqshell.py\", line 537, in run_cell\n",
      "    return super(ZMQInteractiveShell, self).run_cell(*args, **kwargs)\n",
      "  File \"/Users/sapo/Development/workspace-python/ml/env/lib/python3.6/site-packages/IPython/core/interactiveshell.py\", line 2662, in run_cell\n",
      "    raw_cell, store_history, silent, shell_futures)\n",
      "  File \"/Users/sapo/Development/workspace-python/ml/env/lib/python3.6/site-packages/IPython/core/interactiveshell.py\", line 2785, in _run_cell\n",
      "    interactivity=interactivity, compiler=compiler, result=result)\n",
      "  File \"/Users/sapo/Development/workspace-python/ml/env/lib/python3.6/site-packages/IPython/core/interactiveshell.py\", line 2909, in run_ast_nodes\n",
      "    if self.run_code(code, result):\n",
      "  File \"/Users/sapo/Development/workspace-python/ml/env/lib/python3.6/site-packages/IPython/core/interactiveshell.py\", line 2963, in run_code\n",
      "    exec(code_obj, self.user_global_ns, self.user_ns)\n",
      "  File \"<ipython-input-46-8fd11f69be6c>\", line 1, in <module>\n",
      "    get_ipython().run_line_magic('run', '-i \"retrain.py\"    --bottleneck_dir=tf_files/bottlenecks --how_many_training_steps=500    --model_dir=tf_files/models/  --summaries_dir=tf_files/training_summaries/    --output_graph=tf_files/retrained_graph.pb   --output_labels=tf_files/retrained_labels.txt --architecture=\"{ARCHITECTURE}\"     --image_dir=data --logdir=tf_files/log_dir')\n",
      "  File \"/Users/sapo/Development/workspace-python/ml/env/lib/python3.6/site-packages/IPython/core/interactiveshell.py\", line 2131, in run_line_magic\n",
      "    result = fn(*args,**kwargs)\n",
      "  File \"<decorator-gen-60>\", line 2, in run\n",
      "  File \"/Users/sapo/Development/workspace-python/ml/env/lib/python3.6/site-packages/IPython/core/magic.py\", line 187, in <lambda>\n",
      "    call = lambda f, *a, **k: f(*a, **k)\n",
      "  File \"/Users/sapo/Development/workspace-python/ml/env/lib/python3.6/site-packages/IPython/core/magics/execution.py\", line 775, in run\n",
      "    run()\n",
      "  File \"/Users/sapo/Development/workspace-python/ml/env/lib/python3.6/site-packages/IPython/core/magics/execution.py\", line 761, in run\n",
      "    exit_ignore=exit_ignore)\n",
      "  File \"/Users/sapo/Development/workspace-python/ml/env/lib/python3.6/site-packages/IPython/core/interactiveshell.py\", line 2527, in safe_execfile\n",
      "    self.compile if shell_futures else None)\n",
      "  File \"/Users/sapo/Development/workspace-python/ml/env/lib/python3.6/site-packages/IPython/utils/py3compat.py\", line 188, in execfile\n",
      "    exec(compiler(f.read(), fname, 'exec'), glob, loc)\n",
      "  File \"/Users/sapo/Development/workspace-python/ml/tf-diez-test/retrain.py\", line 1326, in <module>\n",
      "    tf.app.run(main=main, argv=[sys.argv[0]] + unparsed)\n",
      "  File \"/Users/sapo/Development/workspace-python/ml/env/lib/python3.6/site-packages/tensorflow/python/platform/app.py\", line 126, in run\n",
      "    _sys.exit(main(argv))\n",
      "  File \"/Users/sapo/Development/workspace-python/ml/tf-diez-test/retrain.py\", line 982, in main\n",
      "    maybe_download_and_extract(model_info['data_url'])\n",
      "  File \"/Users/sapo/Development/workspace-python/ml/tf-diez-test/retrain.py\", line 339, in maybe_download_and_extract\n",
      "    'bytes.')\n",
      "  File \"/Users/sapo/Development/workspace-python/ml/env/lib/python3.6/site-packages/tensorflow/python/platform/tf_logging.py\", line 116, in info\n",
      "    _get_logger().info(msg, *args, **kwargs)\n",
      "Message: 'Successfully downloaded'\n",
      "Arguments: ('mobilenet_v1_0.50_224_frozen.tgz', 6308169, 'bytes.')\n",
      "--- Logging error ---\n",
      "Traceback (most recent call last):\n",
      "  File \"/Library/Frameworks/Python.framework/Versions/3.6/lib/python3.6/logging/__init__.py\", line 992, in emit\n",
      "    msg = self.format(record)\n",
      "  File \"/Library/Frameworks/Python.framework/Versions/3.6/lib/python3.6/logging/__init__.py\", line 838, in format\n",
      "    return fmt.format(record)\n",
      "  File \"/Library/Frameworks/Python.framework/Versions/3.6/lib/python3.6/logging/__init__.py\", line 575, in format\n",
      "    record.message = record.getMessage()\n",
      "  File \"/Library/Frameworks/Python.framework/Versions/3.6/lib/python3.6/logging/__init__.py\", line 338, in getMessage\n",
      "    msg = msg % self.args\n",
      "TypeError: not all arguments converted during string formatting\n",
      "Call stack:\n",
      "  File \"/Library/Frameworks/Python.framework/Versions/3.6/lib/python3.6/runpy.py\", line 193, in _run_module_as_main\n",
      "    \"__main__\", mod_spec)\n",
      "  File \"/Library/Frameworks/Python.framework/Versions/3.6/lib/python3.6/runpy.py\", line 85, in _run_code\n",
      "    exec(code, run_globals)\n",
      "  File \"/Users/sapo/Development/workspace-python/ml/env/lib/python3.6/site-packages/ipykernel_launcher.py\", line 16, in <module>\n",
      "    app.launch_new_instance()\n",
      "  File \"/Users/sapo/Development/workspace-python/ml/env/lib/python3.6/site-packages/traitlets/config/application.py\", line 658, in launch_instance\n",
      "    app.start()\n",
      "  File \"/Users/sapo/Development/workspace-python/ml/env/lib/python3.6/site-packages/ipykernel/kernelapp.py\", line 486, in start\n",
      "    self.io_loop.start()\n",
      "  File \"/Users/sapo/Development/workspace-python/ml/env/lib/python3.6/site-packages/tornado/platform/asyncio.py\", line 127, in start\n",
      "    self.asyncio_loop.run_forever()\n",
      "  File \"/Library/Frameworks/Python.framework/Versions/3.6/lib/python3.6/asyncio/base_events.py\", line 421, in run_forever\n",
      "    self._run_once()\n",
      "  File \"/Library/Frameworks/Python.framework/Versions/3.6/lib/python3.6/asyncio/base_events.py\", line 1431, in _run_once\n",
      "    handle._run()\n",
      "  File \"/Library/Frameworks/Python.framework/Versions/3.6/lib/python3.6/asyncio/events.py\", line 145, in _run\n",
      "    self._callback(*self._args)\n",
      "  File \"/Users/sapo/Development/workspace-python/ml/env/lib/python3.6/site-packages/tornado/platform/asyncio.py\", line 117, in _handle_events\n",
      "    handler_func(fileobj, events)\n",
      "  File \"/Users/sapo/Development/workspace-python/ml/env/lib/python3.6/site-packages/tornado/stack_context.py\", line 276, in null_wrapper\n",
      "    return fn(*args, **kwargs)\n",
      "  File \"/Users/sapo/Development/workspace-python/ml/env/lib/python3.6/site-packages/zmq/eventloop/zmqstream.py\", line 450, in _handle_events\n",
      "    self._handle_recv()\n",
      "  File \"/Users/sapo/Development/workspace-python/ml/env/lib/python3.6/site-packages/zmq/eventloop/zmqstream.py\", line 480, in _handle_recv\n",
      "    self._run_callback(callback, msg)\n",
      "  File \"/Users/sapo/Development/workspace-python/ml/env/lib/python3.6/site-packages/zmq/eventloop/zmqstream.py\", line 432, in _run_callback\n",
      "    callback(*args, **kwargs)\n",
      "  File \"/Users/sapo/Development/workspace-python/ml/env/lib/python3.6/site-packages/tornado/stack_context.py\", line 276, in null_wrapper\n",
      "    return fn(*args, **kwargs)\n",
      "  File \"/Users/sapo/Development/workspace-python/ml/env/lib/python3.6/site-packages/ipykernel/kernelbase.py\", line 283, in dispatcher\n",
      "    return self.dispatch_shell(stream, msg)\n",
      "  File \"/Users/sapo/Development/workspace-python/ml/env/lib/python3.6/site-packages/ipykernel/kernelbase.py\", line 233, in dispatch_shell\n",
      "    handler(stream, idents, msg)\n",
      "  File \"/Users/sapo/Development/workspace-python/ml/env/lib/python3.6/site-packages/ipykernel/kernelbase.py\", line 399, in execute_request\n",
      "    user_expressions, allow_stdin)\n",
      "  File \"/Users/sapo/Development/workspace-python/ml/env/lib/python3.6/site-packages/ipykernel/ipkernel.py\", line 208, in do_execute\n",
      "    res = shell.run_cell(code, store_history=store_history, silent=silent)\n",
      "  File \"/Users/sapo/Development/workspace-python/ml/env/lib/python3.6/site-packages/ipykernel/zmqshell.py\", line 537, in run_cell\n",
      "    return super(ZMQInteractiveShell, self).run_cell(*args, **kwargs)\n",
      "  File \"/Users/sapo/Development/workspace-python/ml/env/lib/python3.6/site-packages/IPython/core/interactiveshell.py\", line 2662, in run_cell\n",
      "    raw_cell, store_history, silent, shell_futures)\n",
      "  File \"/Users/sapo/Development/workspace-python/ml/env/lib/python3.6/site-packages/IPython/core/interactiveshell.py\", line 2785, in _run_cell\n",
      "    interactivity=interactivity, compiler=compiler, result=result)\n",
      "  File \"/Users/sapo/Development/workspace-python/ml/env/lib/python3.6/site-packages/IPython/core/interactiveshell.py\", line 2909, in run_ast_nodes\n",
      "    if self.run_code(code, result):\n",
      "  File \"/Users/sapo/Development/workspace-python/ml/env/lib/python3.6/site-packages/IPython/core/interactiveshell.py\", line 2963, in run_code\n",
      "    exec(code_obj, self.user_global_ns, self.user_ns)\n",
      "  File \"<ipython-input-46-8fd11f69be6c>\", line 1, in <module>\n",
      "    get_ipython().run_line_magic('run', '-i \"retrain.py\"    --bottleneck_dir=tf_files/bottlenecks --how_many_training_steps=500    --model_dir=tf_files/models/  --summaries_dir=tf_files/training_summaries/    --output_graph=tf_files/retrained_graph.pb   --output_labels=tf_files/retrained_labels.txt --architecture=\"{ARCHITECTURE}\"     --image_dir=data --logdir=tf_files/log_dir')\n",
      "  File \"/Users/sapo/Development/workspace-python/ml/env/lib/python3.6/site-packages/IPython/core/interactiveshell.py\", line 2131, in run_line_magic\n",
      "    result = fn(*args,**kwargs)\n",
      "  File \"<decorator-gen-60>\", line 2, in run\n",
      "  File \"/Users/sapo/Development/workspace-python/ml/env/lib/python3.6/site-packages/IPython/core/magic.py\", line 187, in <lambda>\n",
      "    call = lambda f, *a, **k: f(*a, **k)\n",
      "  File \"/Users/sapo/Development/workspace-python/ml/env/lib/python3.6/site-packages/IPython/core/magics/execution.py\", line 775, in run\n",
      "    run()\n",
      "  File \"/Users/sapo/Development/workspace-python/ml/env/lib/python3.6/site-packages/IPython/core/magics/execution.py\", line 761, in run\n",
      "    exit_ignore=exit_ignore)\n",
      "  File \"/Users/sapo/Development/workspace-python/ml/env/lib/python3.6/site-packages/IPython/core/interactiveshell.py\", line 2527, in safe_execfile\n",
      "    self.compile if shell_futures else None)\n",
      "  File \"/Users/sapo/Development/workspace-python/ml/env/lib/python3.6/site-packages/IPython/utils/py3compat.py\", line 188, in execfile\n",
      "    exec(compiler(f.read(), fname, 'exec'), glob, loc)\n",
      "  File \"/Users/sapo/Development/workspace-python/ml/tf-diez-test/retrain.py\", line 1326, in <module>\n",
      "    tf.app.run(main=main, argv=[sys.argv[0]] + unparsed)\n",
      "  File \"/Users/sapo/Development/workspace-python/ml/env/lib/python3.6/site-packages/tensorflow/python/platform/app.py\", line 126, in run\n",
      "    _sys.exit(main(argv))\n",
      "  File \"/Users/sapo/Development/workspace-python/ml/tf-diez-test/retrain.py\", line 982, in main\n",
      "    maybe_download_and_extract(model_info['data_url'])\n",
      "  File \"/Users/sapo/Development/workspace-python/ml/tf-diez-test/retrain.py\", line 339, in maybe_download_and_extract\n",
      "    'bytes.')\n",
      "  File \"/Users/sapo/Development/workspace-python/ml/env/lib/python3.6/site-packages/tensorflow/python/platform/tf_logging.py\", line 116, in info\n",
      "    _get_logger().info(msg, *args, **kwargs)\n",
      "Message: 'Successfully downloaded'\n",
      "Arguments: ('mobilenet_v1_0.50_224_frozen.tgz', 6308169, 'bytes.')\n"
     ]
    },
    {
     "name": "stdout",
     "output_type": "stream",
     "text": [
      "INFO:tensorflow:Looking for images in 'maradona'\n"
     ]
    },
    {
     "name": "stderr",
     "output_type": "stream",
     "text": [
      "INFO:tensorflow:Looking for images in 'maradona'\n"
     ]
    },
    {
     "name": "stdout",
     "output_type": "stream",
     "text": [
      "INFO:tensorflow:Looking for images in 'messi'\n"
     ]
    },
    {
     "name": "stderr",
     "output_type": "stream",
     "text": [
      "INFO:tensorflow:Looking for images in 'messi'\n"
     ]
    },
    {
     "name": "stdout",
     "output_type": "stream",
     "text": [
      "INFO:tensorflow:Creating bottleneck at tf_files/bottlenecks/maradona/9k= (7).jpg_mobilenet_0.50_224.txt\n"
     ]
    },
    {
     "name": "stderr",
     "output_type": "stream",
     "text": [
      "INFO:tensorflow:Creating bottleneck at tf_files/bottlenecks/maradona/9k= (7).jpg_mobilenet_0.50_224.txt\n"
     ]
    },
    {
     "name": "stdout",
     "output_type": "stream",
     "text": [
      "INFO:tensorflow:Creating bottleneck at tf_files/bottlenecks/maradona/images (1).jpg_mobilenet_0.50_224.txt\n"
     ]
    },
    {
     "name": "stderr",
     "output_type": "stream",
     "text": [
      "INFO:tensorflow:Creating bottleneck at tf_files/bottlenecks/maradona/images (1).jpg_mobilenet_0.50_224.txt\n"
     ]
    },
    {
     "name": "stdout",
     "output_type": "stream",
     "text": [
      "INFO:tensorflow:Creating bottleneck at tf_files/bottlenecks/maradona/Z (2).jpg_mobilenet_0.50_224.txt\n"
     ]
    },
    {
     "name": "stderr",
     "output_type": "stream",
     "text": [
      "INFO:tensorflow:Creating bottleneck at tf_files/bottlenecks/maradona/Z (2).jpg_mobilenet_0.50_224.txt\n"
     ]
    },
    {
     "name": "stdout",
     "output_type": "stream",
     "text": [
      "INFO:tensorflow:Creating bottleneck at tf_files/bottlenecks/maradona/images (13).jpg_mobilenet_0.50_224.txt\n"
     ]
    },
    {
     "name": "stderr",
     "output_type": "stream",
     "text": [
      "INFO:tensorflow:Creating bottleneck at tf_files/bottlenecks/maradona/images (13).jpg_mobilenet_0.50_224.txt\n"
     ]
    },
    {
     "name": "stdout",
     "output_type": "stream",
     "text": [
      "INFO:tensorflow:Creating bottleneck at tf_files/bottlenecks/maradona/Z.jpg_mobilenet_0.50_224.txt\n"
     ]
    },
    {
     "name": "stderr",
     "output_type": "stream",
     "text": [
      "INFO:tensorflow:Creating bottleneck at tf_files/bottlenecks/maradona/Z.jpg_mobilenet_0.50_224.txt\n"
     ]
    },
    {
     "name": "stdout",
     "output_type": "stream",
     "text": [
      "INFO:tensorflow:Creating bottleneck at tf_files/bottlenecks/maradona/2Q== (2).jpg_mobilenet_0.50_224.txt\n"
     ]
    },
    {
     "name": "stderr",
     "output_type": "stream",
     "text": [
      "INFO:tensorflow:Creating bottleneck at tf_files/bottlenecks/maradona/2Q== (2).jpg_mobilenet_0.50_224.txt\n"
     ]
    },
    {
     "name": "stdout",
     "output_type": "stream",
     "text": [
      "INFO:tensorflow:Creating bottleneck at tf_files/bottlenecks/maradona/images (12).jpg_mobilenet_0.50_224.txt\n"
     ]
    },
    {
     "name": "stderr",
     "output_type": "stream",
     "text": [
      "INFO:tensorflow:Creating bottleneck at tf_files/bottlenecks/maradona/images (12).jpg_mobilenet_0.50_224.txt\n"
     ]
    },
    {
     "name": "stdout",
     "output_type": "stream",
     "text": [
      "INFO:tensorflow:Creating bottleneck at tf_files/bottlenecks/maradona/Z (3).jpg_mobilenet_0.50_224.txt\n"
     ]
    },
    {
     "name": "stderr",
     "output_type": "stream",
     "text": [
      "INFO:tensorflow:Creating bottleneck at tf_files/bottlenecks/maradona/Z (3).jpg_mobilenet_0.50_224.txt\n"
     ]
    },
    {
     "name": "stdout",
     "output_type": "stream",
     "text": [
      "INFO:tensorflow:Creating bottleneck at tf_files/bottlenecks/maradona/9k= (6).jpg_mobilenet_0.50_224.txt\n"
     ]
    },
    {
     "name": "stderr",
     "output_type": "stream",
     "text": [
      "INFO:tensorflow:Creating bottleneck at tf_files/bottlenecks/maradona/9k= (6).jpg_mobilenet_0.50_224.txt\n"
     ]
    },
    {
     "name": "stdout",
     "output_type": "stream",
     "text": [
      "INFO:tensorflow:Creating bottleneck at tf_files/bottlenecks/maradona/images (19).jpg_mobilenet_0.50_224.txt\n"
     ]
    },
    {
     "name": "stderr",
     "output_type": "stream",
     "text": [
      "INFO:tensorflow:Creating bottleneck at tf_files/bottlenecks/maradona/images (19).jpg_mobilenet_0.50_224.txt\n"
     ]
    },
    {
     "name": "stdout",
     "output_type": "stream",
     "text": [
      "INFO:tensorflow:Creating bottleneck at tf_files/bottlenecks/maradona/images (7).jpg_mobilenet_0.50_224.txt\n"
     ]
    },
    {
     "name": "stderr",
     "output_type": "stream",
     "text": [
      "INFO:tensorflow:Creating bottleneck at tf_files/bottlenecks/maradona/images (7).jpg_mobilenet_0.50_224.txt\n"
     ]
    },
    {
     "name": "stdout",
     "output_type": "stream",
     "text": [
      "INFO:tensorflow:Creating bottleneck at tf_files/bottlenecks/maradona/images (15).jpg_mobilenet_0.50_224.txt\n"
     ]
    },
    {
     "name": "stderr",
     "output_type": "stream",
     "text": [
      "INFO:tensorflow:Creating bottleneck at tf_files/bottlenecks/maradona/images (15).jpg_mobilenet_0.50_224.txt\n"
     ]
    },
    {
     "name": "stdout",
     "output_type": "stream",
     "text": [
      "INFO:tensorflow:Creating bottleneck at tf_files/bottlenecks/maradona/images (14).jpg_mobilenet_0.50_224.txt\n"
     ]
    },
    {
     "name": "stderr",
     "output_type": "stream",
     "text": [
      "INFO:tensorflow:Creating bottleneck at tf_files/bottlenecks/maradona/images (14).jpg_mobilenet_0.50_224.txt\n"
     ]
    },
    {
     "name": "stdout",
     "output_type": "stream",
     "text": [
      "INFO:tensorflow:Creating bottleneck at tf_files/bottlenecks/maradona/images (6).jpg_mobilenet_0.50_224.txt\n"
     ]
    },
    {
     "name": "stderr",
     "output_type": "stream",
     "text": [
      "INFO:tensorflow:Creating bottleneck at tf_files/bottlenecks/maradona/images (6).jpg_mobilenet_0.50_224.txt\n"
     ]
    },
    {
     "name": "stdout",
     "output_type": "stream",
     "text": [
      "INFO:tensorflow:Creating bottleneck at tf_files/bottlenecks/maradona/images (22).jpg_mobilenet_0.50_224.txt\n"
     ]
    },
    {
     "name": "stderr",
     "output_type": "stream",
     "text": [
      "INFO:tensorflow:Creating bottleneck at tf_files/bottlenecks/maradona/images (22).jpg_mobilenet_0.50_224.txt\n"
     ]
    },
    {
     "name": "stdout",
     "output_type": "stream",
     "text": [
      "INFO:tensorflow:Creating bottleneck at tf_files/bottlenecks/maradona/2Q== (4).jpg_mobilenet_0.50_224.txt\n"
     ]
    },
    {
     "name": "stderr",
     "output_type": "stream",
     "text": [
      "INFO:tensorflow:Creating bottleneck at tf_files/bottlenecks/maradona/2Q== (4).jpg_mobilenet_0.50_224.txt\n"
     ]
    },
    {
     "name": "stdout",
     "output_type": "stream",
     "text": [
      "INFO:tensorflow:Creating bottleneck at tf_files/bottlenecks/maradona/images (18).jpg_mobilenet_0.50_224.txt\n"
     ]
    },
    {
     "name": "stderr",
     "output_type": "stream",
     "text": [
      "INFO:tensorflow:Creating bottleneck at tf_files/bottlenecks/maradona/images (18).jpg_mobilenet_0.50_224.txt\n"
     ]
    },
    {
     "name": "stdout",
     "output_type": "stream",
     "text": [
      "INFO:tensorflow:Creating bottleneck at tf_files/bottlenecks/maradona/images (21).jpg_mobilenet_0.50_224.txt\n"
     ]
    },
    {
     "name": "stderr",
     "output_type": "stream",
     "text": [
      "INFO:tensorflow:Creating bottleneck at tf_files/bottlenecks/maradona/images (21).jpg_mobilenet_0.50_224.txt\n"
     ]
    },
    {
     "name": "stdout",
     "output_type": "stream",
     "text": [
      "INFO:tensorflow:Creating bottleneck at tf_files/bottlenecks/maradona/images (9).jpg_mobilenet_0.50_224.txt\n"
     ]
    },
    {
     "name": "stderr",
     "output_type": "stream",
     "text": [
      "INFO:tensorflow:Creating bottleneck at tf_files/bottlenecks/maradona/images (9).jpg_mobilenet_0.50_224.txt\n"
     ]
    },
    {
     "name": "stdout",
     "output_type": "stream",
     "text": [
      "INFO:tensorflow:Creating bottleneck at tf_files/bottlenecks/maradona/images (5).jpg_mobilenet_0.50_224.txt\n"
     ]
    },
    {
     "name": "stderr",
     "output_type": "stream",
     "text": [
      "INFO:tensorflow:Creating bottleneck at tf_files/bottlenecks/maradona/images (5).jpg_mobilenet_0.50_224.txt\n"
     ]
    },
    {
     "name": "stdout",
     "output_type": "stream",
     "text": [
      "INFO:tensorflow:Creating bottleneck at tf_files/bottlenecks/maradona/9k= (3).jpg_mobilenet_0.50_224.txt\n"
     ]
    },
    {
     "name": "stderr",
     "output_type": "stream",
     "text": [
      "INFO:tensorflow:Creating bottleneck at tf_files/bottlenecks/maradona/9k= (3).jpg_mobilenet_0.50_224.txt\n"
     ]
    },
    {
     "name": "stdout",
     "output_type": "stream",
     "text": [
      "INFO:tensorflow:Creating bottleneck at tf_files/bottlenecks/maradona/9k= (2).jpg_mobilenet_0.50_224.txt\n"
     ]
    },
    {
     "name": "stderr",
     "output_type": "stream",
     "text": [
      "INFO:tensorflow:Creating bottleneck at tf_files/bottlenecks/maradona/9k= (2).jpg_mobilenet_0.50_224.txt\n"
     ]
    },
    {
     "name": "stdout",
     "output_type": "stream",
     "text": [
      "INFO:tensorflow:Creating bottleneck at tf_files/bottlenecks/maradona/images (4).jpg_mobilenet_0.50_224.txt\n"
     ]
    },
    {
     "name": "stderr",
     "output_type": "stream",
     "text": [
      "INFO:tensorflow:Creating bottleneck at tf_files/bottlenecks/maradona/images (4).jpg_mobilenet_0.50_224.txt\n"
     ]
    },
    {
     "name": "stdout",
     "output_type": "stream",
     "text": [
      "INFO:tensorflow:Creating bottleneck at tf_files/bottlenecks/maradona/images (8).jpg_mobilenet_0.50_224.txt\n"
     ]
    },
    {
     "name": "stderr",
     "output_type": "stream",
     "text": [
      "INFO:tensorflow:Creating bottleneck at tf_files/bottlenecks/maradona/images (8).jpg_mobilenet_0.50_224.txt\n"
     ]
    },
    {
     "name": "stdout",
     "output_type": "stream",
     "text": [
      "INFO:tensorflow:Creating bottleneck at tf_files/bottlenecks/maradona/images (20).jpg_mobilenet_0.50_224.txt\n"
     ]
    },
    {
     "name": "stderr",
     "output_type": "stream",
     "text": [
      "INFO:tensorflow:Creating bottleneck at tf_files/bottlenecks/maradona/images (20).jpg_mobilenet_0.50_224.txt\n"
     ]
    },
    {
     "name": "stdout",
     "output_type": "stream",
     "text": [
      "INFO:tensorflow:Creating bottleneck at tf_files/bottlenecks/maradona/images (11).jpg_mobilenet_0.50_224.txt\n"
     ]
    },
    {
     "name": "stderr",
     "output_type": "stream",
     "text": [
      "INFO:tensorflow:Creating bottleneck at tf_files/bottlenecks/maradona/images (11).jpg_mobilenet_0.50_224.txt\n"
     ]
    },
    {
     "name": "stdout",
     "output_type": "stream",
     "text": [
      "INFO:tensorflow:Creating bottleneck at tf_files/bottlenecks/maradona/images (3).jpg_mobilenet_0.50_224.txt\n"
     ]
    },
    {
     "name": "stderr",
     "output_type": "stream",
     "text": [
      "INFO:tensorflow:Creating bottleneck at tf_files/bottlenecks/maradona/images (3).jpg_mobilenet_0.50_224.txt\n"
     ]
    },
    {
     "name": "stdout",
     "output_type": "stream",
     "text": [
      "INFO:tensorflow:Creating bottleneck at tf_files/bottlenecks/maradona/9k= (5).jpg_mobilenet_0.50_224.txt\n"
     ]
    },
    {
     "name": "stderr",
     "output_type": "stream",
     "text": [
      "INFO:tensorflow:Creating bottleneck at tf_files/bottlenecks/maradona/9k= (5).jpg_mobilenet_0.50_224.txt\n"
     ]
    },
    {
     "name": "stdout",
     "output_type": "stream",
     "text": [
      "INFO:tensorflow:Creating bottleneck at tf_files/bottlenecks/maradona/9k= (4).jpg_mobilenet_0.50_224.txt\n"
     ]
    },
    {
     "name": "stderr",
     "output_type": "stream",
     "text": [
      "INFO:tensorflow:Creating bottleneck at tf_files/bottlenecks/maradona/9k= (4).jpg_mobilenet_0.50_224.txt\n"
     ]
    },
    {
     "name": "stdout",
     "output_type": "stream",
     "text": [
      "INFO:tensorflow:Creating bottleneck at tf_files/bottlenecks/maradona/images.jpg_mobilenet_0.50_224.txt\n"
     ]
    },
    {
     "name": "stderr",
     "output_type": "stream",
     "text": [
      "INFO:tensorflow:Creating bottleneck at tf_files/bottlenecks/maradona/images.jpg_mobilenet_0.50_224.txt\n"
     ]
    },
    {
     "name": "stdout",
     "output_type": "stream",
     "text": [
      "INFO:tensorflow:Creating bottleneck at tf_files/bottlenecks/maradona/images (2).jpg_mobilenet_0.50_224.txt\n"
     ]
    },
    {
     "name": "stderr",
     "output_type": "stream",
     "text": [
      "INFO:tensorflow:Creating bottleneck at tf_files/bottlenecks/maradona/images (2).jpg_mobilenet_0.50_224.txt\n"
     ]
    },
    {
     "name": "stdout",
     "output_type": "stream",
     "text": [
      "INFO:tensorflow:Creating bottleneck at tf_files/bottlenecks/maradona/images (10).jpg_mobilenet_0.50_224.txt\n"
     ]
    },
    {
     "name": "stderr",
     "output_type": "stream",
     "text": [
      "INFO:tensorflow:Creating bottleneck at tf_files/bottlenecks/maradona/images (10).jpg_mobilenet_0.50_224.txt\n"
     ]
    },
    {
     "name": "stdout",
     "output_type": "stream",
     "text": [
      "INFO:tensorflow:Creating bottleneck at tf_files/bottlenecks/maradona/9k= (1).jpg_mobilenet_0.50_224.txt\n"
     ]
    },
    {
     "name": "stderr",
     "output_type": "stream",
     "text": [
      "INFO:tensorflow:Creating bottleneck at tf_files/bottlenecks/maradona/9k= (1).jpg_mobilenet_0.50_224.txt\n"
     ]
    },
    {
     "name": "stdout",
     "output_type": "stream",
     "text": [
      "INFO:tensorflow:Creating bottleneck at tf_files/bottlenecks/maradona/9k=.jpg_mobilenet_0.50_224.txt\n"
     ]
    },
    {
     "name": "stderr",
     "output_type": "stream",
     "text": [
      "INFO:tensorflow:Creating bottleneck at tf_files/bottlenecks/maradona/9k=.jpg_mobilenet_0.50_224.txt\n"
     ]
    },
    {
     "name": "stdout",
     "output_type": "stream",
     "text": [
      "INFO:tensorflow:Creating bottleneck at tf_files/bottlenecks/maradona/images (16).jpg_mobilenet_0.50_224.txt\n"
     ]
    },
    {
     "name": "stderr",
     "output_type": "stream",
     "text": [
      "INFO:tensorflow:Creating bottleneck at tf_files/bottlenecks/maradona/images (16).jpg_mobilenet_0.50_224.txt\n"
     ]
    },
    {
     "name": "stdout",
     "output_type": "stream",
     "text": [
      "INFO:tensorflow:Creating bottleneck at tf_files/bottlenecks/maradona/Z (1).jpg_mobilenet_0.50_224.txt\n"
     ]
    },
    {
     "name": "stderr",
     "output_type": "stream",
     "text": [
      "INFO:tensorflow:Creating bottleneck at tf_files/bottlenecks/maradona/Z (1).jpg_mobilenet_0.50_224.txt\n"
     ]
    },
    {
     "name": "stdout",
     "output_type": "stream",
     "text": [
      "INFO:tensorflow:Creating bottleneck at tf_files/bottlenecks/maradona/2Q== (3).jpg_mobilenet_0.50_224.txt\n"
     ]
    },
    {
     "name": "stderr",
     "output_type": "stream",
     "text": [
      "INFO:tensorflow:Creating bottleneck at tf_files/bottlenecks/maradona/2Q== (3).jpg_mobilenet_0.50_224.txt\n"
     ]
    },
    {
     "name": "stdout",
     "output_type": "stream",
     "text": [
      "INFO:tensorflow:Creating bottleneck at tf_files/bottlenecks/maradona/images (17).jpg_mobilenet_0.50_224.txt\n"
     ]
    },
    {
     "name": "stderr",
     "output_type": "stream",
     "text": [
      "INFO:tensorflow:Creating bottleneck at tf_files/bottlenecks/maradona/images (17).jpg_mobilenet_0.50_224.txt\n"
     ]
    },
    {
     "name": "stdout",
     "output_type": "stream",
     "text": [
      "INFO:tensorflow:Creating bottleneck at tf_files/bottlenecks/maradona/2Q== (1).jpg_mobilenet_0.50_224.txt\n"
     ]
    },
    {
     "name": "stderr",
     "output_type": "stream",
     "text": [
      "INFO:tensorflow:Creating bottleneck at tf_files/bottlenecks/maradona/2Q== (1).jpg_mobilenet_0.50_224.txt\n"
     ]
    },
    {
     "name": "stdout",
     "output_type": "stream",
     "text": [
      "INFO:tensorflow:Creating bottleneck at tf_files/bottlenecks/maradona/2Q==.jpg_mobilenet_0.50_224.txt\n"
     ]
    },
    {
     "name": "stderr",
     "output_type": "stream",
     "text": [
      "INFO:tensorflow:Creating bottleneck at tf_files/bottlenecks/maradona/2Q==.jpg_mobilenet_0.50_224.txt\n"
     ]
    },
    {
     "name": "stdout",
     "output_type": "stream",
     "text": [
      "INFO:tensorflow:Creating bottleneck at tf_files/bottlenecks/messi/images (1).jpg_mobilenet_0.50_224.txt\n"
     ]
    },
    {
     "name": "stderr",
     "output_type": "stream",
     "text": [
      "INFO:tensorflow:Creating bottleneck at tf_files/bottlenecks/messi/images (1).jpg_mobilenet_0.50_224.txt\n"
     ]
    },
    {
     "name": "stdout",
     "output_type": "stream",
     "text": [
      "INFO:tensorflow:Creating bottleneck at tf_files/bottlenecks/messi/Z (2).jpg_mobilenet_0.50_224.txt\n"
     ]
    },
    {
     "name": "stderr",
     "output_type": "stream",
     "text": [
      "INFO:tensorflow:Creating bottleneck at tf_files/bottlenecks/messi/Z (2).jpg_mobilenet_0.50_224.txt\n"
     ]
    },
    {
     "name": "stdout",
     "output_type": "stream",
     "text": [
      "INFO:tensorflow:Creating bottleneck at tf_files/bottlenecks/messi/images (13).jpg_mobilenet_0.50_224.txt\n"
     ]
    },
    {
     "name": "stderr",
     "output_type": "stream",
     "text": [
      "INFO:tensorflow:Creating bottleneck at tf_files/bottlenecks/messi/images (13).jpg_mobilenet_0.50_224.txt\n"
     ]
    },
    {
     "name": "stdout",
     "output_type": "stream",
     "text": [
      "INFO:tensorflow:Creating bottleneck at tf_files/bottlenecks/messi/Z.jpg_mobilenet_0.50_224.txt\n"
     ]
    },
    {
     "name": "stderr",
     "output_type": "stream",
     "text": [
      "INFO:tensorflow:Creating bottleneck at tf_files/bottlenecks/messi/Z.jpg_mobilenet_0.50_224.txt\n"
     ]
    },
    {
     "name": "stdout",
     "output_type": "stream",
     "text": [
      "INFO:tensorflow:Creating bottleneck at tf_files/bottlenecks/messi/2Q== (2).jpg_mobilenet_0.50_224.txt\n"
     ]
    },
    {
     "name": "stderr",
     "output_type": "stream",
     "text": [
      "INFO:tensorflow:Creating bottleneck at tf_files/bottlenecks/messi/2Q== (2).jpg_mobilenet_0.50_224.txt\n"
     ]
    },
    {
     "name": "stdout",
     "output_type": "stream",
     "text": [
      "INFO:tensorflow:Creating bottleneck at tf_files/bottlenecks/messi/images (12).jpg_mobilenet_0.50_224.txt\n"
     ]
    },
    {
     "name": "stderr",
     "output_type": "stream",
     "text": [
      "INFO:tensorflow:Creating bottleneck at tf_files/bottlenecks/messi/images (12).jpg_mobilenet_0.50_224.txt\n"
     ]
    },
    {
     "name": "stdout",
     "output_type": "stream",
     "text": [
      "INFO:tensorflow:Creating bottleneck at tf_files/bottlenecks/messi/Z (3).jpg_mobilenet_0.50_224.txt\n"
     ]
    },
    {
     "name": "stderr",
     "output_type": "stream",
     "text": [
      "INFO:tensorflow:Creating bottleneck at tf_files/bottlenecks/messi/Z (3).jpg_mobilenet_0.50_224.txt\n"
     ]
    },
    {
     "name": "stdout",
     "output_type": "stream",
     "text": [
      "INFO:tensorflow:Creating bottleneck at tf_files/bottlenecks/messi/9k= (6).jpg_mobilenet_0.50_224.txt\n"
     ]
    },
    {
     "name": "stderr",
     "output_type": "stream",
     "text": [
      "INFO:tensorflow:Creating bottleneck at tf_files/bottlenecks/messi/9k= (6).jpg_mobilenet_0.50_224.txt\n"
     ]
    },
    {
     "name": "stdout",
     "output_type": "stream",
     "text": [
      "INFO:tensorflow:Creating bottleneck at tf_files/bottlenecks/messi/9k= (1).jpg_mobilenet_0.50_224.txt\n"
     ]
    },
    {
     "name": "stderr",
     "output_type": "stream",
     "text": [
      "INFO:tensorflow:Creating bottleneck at tf_files/bottlenecks/messi/9k= (1).jpg_mobilenet_0.50_224.txt\n"
     ]
    },
    {
     "name": "stdout",
     "output_type": "stream",
     "text": [
      "INFO:tensorflow:Creating bottleneck at tf_files/bottlenecks/messi/images (7).jpg_mobilenet_0.50_224.txt\n"
     ]
    },
    {
     "name": "stderr",
     "output_type": "stream",
     "text": [
      "INFO:tensorflow:Creating bottleneck at tf_files/bottlenecks/messi/images (7).jpg_mobilenet_0.50_224.txt\n"
     ]
    },
    {
     "name": "stdout",
     "output_type": "stream",
     "text": [
      "INFO:tensorflow:Creating bottleneck at tf_files/bottlenecks/messi/images (15).jpg_mobilenet_0.50_224.txt\n"
     ]
    },
    {
     "name": "stderr",
     "output_type": "stream",
     "text": [
      "INFO:tensorflow:Creating bottleneck at tf_files/bottlenecks/messi/images (15).jpg_mobilenet_0.50_224.txt\n"
     ]
    },
    {
     "name": "stdout",
     "output_type": "stream",
     "text": [
      "INFO:tensorflow:Creating bottleneck at tf_files/bottlenecks/messi/images (6).jpg_mobilenet_0.50_224.txt\n"
     ]
    },
    {
     "name": "stderr",
     "output_type": "stream",
     "text": [
      "INFO:tensorflow:Creating bottleneck at tf_files/bottlenecks/messi/images (6).jpg_mobilenet_0.50_224.txt\n"
     ]
    },
    {
     "name": "stdout",
     "output_type": "stream",
     "text": [
      "INFO:tensorflow:Creating bottleneck at tf_files/bottlenecks/messi/9k=.jpg_mobilenet_0.50_224.txt\n"
     ]
    },
    {
     "name": "stderr",
     "output_type": "stream",
     "text": [
      "INFO:tensorflow:Creating bottleneck at tf_files/bottlenecks/messi/9k=.jpg_mobilenet_0.50_224.txt\n"
     ]
    },
    {
     "name": "stdout",
     "output_type": "stream",
     "text": [
      "INFO:tensorflow:Creating bottleneck at tf_files/bottlenecks/messi/Z (6).jpg_mobilenet_0.50_224.txt\n"
     ]
    },
    {
     "name": "stderr",
     "output_type": "stream",
     "text": [
      "INFO:tensorflow:Creating bottleneck at tf_files/bottlenecks/messi/Z (6).jpg_mobilenet_0.50_224.txt\n"
     ]
    },
    {
     "name": "stdout",
     "output_type": "stream",
     "text": [
      "INFO:tensorflow:Creating bottleneck at tf_files/bottlenecks/messi/images (5).jpg_mobilenet_0.50_224.txt\n"
     ]
    },
    {
     "name": "stderr",
     "output_type": "stream",
     "text": [
      "INFO:tensorflow:Creating bottleneck at tf_files/bottlenecks/messi/images (5).jpg_mobilenet_0.50_224.txt\n"
     ]
    },
    {
     "name": "stdout",
     "output_type": "stream",
     "text": [
      "INFO:tensorflow:Creating bottleneck at tf_files/bottlenecks/messi/9k= (3).jpg_mobilenet_0.50_224.txt\n"
     ]
    },
    {
     "name": "stderr",
     "output_type": "stream",
     "text": [
      "INFO:tensorflow:Creating bottleneck at tf_files/bottlenecks/messi/9k= (3).jpg_mobilenet_0.50_224.txt\n"
     ]
    },
    {
     "name": "stdout",
     "output_type": "stream",
     "text": [
      "INFO:tensorflow:Creating bottleneck at tf_files/bottlenecks/messi/9k= (2).jpg_mobilenet_0.50_224.txt\n"
     ]
    },
    {
     "name": "stderr",
     "output_type": "stream",
     "text": [
      "INFO:tensorflow:Creating bottleneck at tf_files/bottlenecks/messi/9k= (2).jpg_mobilenet_0.50_224.txt\n"
     ]
    },
    {
     "name": "stdout",
     "output_type": "stream",
     "text": [
      "INFO:tensorflow:Creating bottleneck at tf_files/bottlenecks/messi/images (8).jpg_mobilenet_0.50_224.txt\n"
     ]
    },
    {
     "name": "stderr",
     "output_type": "stream",
     "text": [
      "INFO:tensorflow:Creating bottleneck at tf_files/bottlenecks/messi/images (8).jpg_mobilenet_0.50_224.txt\n"
     ]
    },
    {
     "name": "stdout",
     "output_type": "stream",
     "text": [
      "INFO:tensorflow:Creating bottleneck at tf_files/bottlenecks/messi/images (3).jpg_mobilenet_0.50_224.txt\n"
     ]
    },
    {
     "name": "stderr",
     "output_type": "stream",
     "text": [
      "INFO:tensorflow:Creating bottleneck at tf_files/bottlenecks/messi/images (3).jpg_mobilenet_0.50_224.txt\n"
     ]
    },
    {
     "name": "stdout",
     "output_type": "stream",
     "text": [
      "INFO:tensorflow:Creating bottleneck at tf_files/bottlenecks/messi/9k= (5).jpg_mobilenet_0.50_224.txt\n"
     ]
    },
    {
     "name": "stderr",
     "output_type": "stream",
     "text": [
      "INFO:tensorflow:Creating bottleneck at tf_files/bottlenecks/messi/9k= (5).jpg_mobilenet_0.50_224.txt\n"
     ]
    },
    {
     "name": "stdout",
     "output_type": "stream",
     "text": [
      "INFO:tensorflow:Creating bottleneck at tf_files/bottlenecks/messi/2Q== (1).jpg_mobilenet_0.50_224.txt\n"
     ]
    },
    {
     "name": "stderr",
     "output_type": "stream",
     "text": [
      "INFO:tensorflow:Creating bottleneck at tf_files/bottlenecks/messi/2Q== (1).jpg_mobilenet_0.50_224.txt\n"
     ]
    },
    {
     "name": "stdout",
     "output_type": "stream",
     "text": [
      "INFO:tensorflow:Creating bottleneck at tf_files/bottlenecks/messi/2Q==.jpg_mobilenet_0.50_224.txt\n"
     ]
    },
    {
     "name": "stderr",
     "output_type": "stream",
     "text": [
      "INFO:tensorflow:Creating bottleneck at tf_files/bottlenecks/messi/2Q==.jpg_mobilenet_0.50_224.txt\n"
     ]
    },
    {
     "name": "stdout",
     "output_type": "stream",
     "text": [
      "INFO:tensorflow:Creating bottleneck at tf_files/bottlenecks/messi/9k= (4).jpg_mobilenet_0.50_224.txt\n"
     ]
    },
    {
     "name": "stderr",
     "output_type": "stream",
     "text": [
      "INFO:tensorflow:Creating bottleneck at tf_files/bottlenecks/messi/9k= (4).jpg_mobilenet_0.50_224.txt\n"
     ]
    },
    {
     "name": "stdout",
     "output_type": "stream",
     "text": [
      "INFO:tensorflow:Creating bottleneck at tf_files/bottlenecks/messi/images.jpg_mobilenet_0.50_224.txt\n"
     ]
    },
    {
     "name": "stderr",
     "output_type": "stream",
     "text": [
      "INFO:tensorflow:Creating bottleneck at tf_files/bottlenecks/messi/images.jpg_mobilenet_0.50_224.txt\n"
     ]
    },
    {
     "name": "stdout",
     "output_type": "stream",
     "text": [
      "INFO:tensorflow:Creating bottleneck at tf_files/bottlenecks/messi/Z (1).jpg_mobilenet_0.50_224.txt\n"
     ]
    },
    {
     "name": "stderr",
     "output_type": "stream",
     "text": [
      "INFO:tensorflow:Creating bottleneck at tf_files/bottlenecks/messi/Z (1).jpg_mobilenet_0.50_224.txt\n"
     ]
    },
    {
     "name": "stdout",
     "output_type": "stream",
     "text": [
      "INFO:tensorflow:Creating bottleneck at tf_files/bottlenecks/messi/images (10).jpg_mobilenet_0.50_224.txt\n"
     ]
    },
    {
     "name": "stderr",
     "output_type": "stream",
     "text": [
      "INFO:tensorflow:Creating bottleneck at tf_files/bottlenecks/messi/images (10).jpg_mobilenet_0.50_224.txt\n"
     ]
    },
    {
     "name": "stdout",
     "output_type": "stream",
     "text": [
      "INFO:tensorflow:Creating bottleneck at tf_files/bottlenecks/messi/9k= (7).jpg_mobilenet_0.50_224.txt\n"
     ]
    },
    {
     "name": "stderr",
     "output_type": "stream",
     "text": [
      "INFO:tensorflow:Creating bottleneck at tf_files/bottlenecks/messi/9k= (7).jpg_mobilenet_0.50_224.txt\n"
     ]
    },
    {
     "name": "stdout",
     "output_type": "stream",
     "text": [
      "INFO:tensorflow:Creating bottleneck at tf_files/bottlenecks/messi/Z (4).jpg_mobilenet_0.50_224.txt\n"
     ]
    },
    {
     "name": "stderr",
     "output_type": "stream",
     "text": [
      "INFO:tensorflow:Creating bottleneck at tf_files/bottlenecks/messi/Z (4).jpg_mobilenet_0.50_224.txt\n"
     ]
    },
    {
     "name": "stdout",
     "output_type": "stream",
     "text": [
      "INFO:tensorflow:Creating bottleneck at tf_files/bottlenecks/messi/images (2).jpg_mobilenet_0.50_224.txt\n"
     ]
    },
    {
     "name": "stderr",
     "output_type": "stream",
     "text": [
      "INFO:tensorflow:Creating bottleneck at tf_files/bottlenecks/messi/images (2).jpg_mobilenet_0.50_224.txt\n"
     ]
    },
    {
     "name": "stdout",
     "output_type": "stream",
     "text": [
      "INFO:tensorflow:Creating bottleneck at tf_files/bottlenecks/messi/2Q== (3).jpg_mobilenet_0.50_224.txt\n"
     ]
    },
    {
     "name": "stderr",
     "output_type": "stream",
     "text": [
      "INFO:tensorflow:Creating bottleneck at tf_files/bottlenecks/messi/2Q== (3).jpg_mobilenet_0.50_224.txt\n"
     ]
    },
    {
     "name": "stdout",
     "output_type": "stream",
     "text": [
      "INFO:tensorflow:Creating bottleneck at tf_files/bottlenecks/messi/images (14).jpg_mobilenet_0.50_224.txt\n"
     ]
    },
    {
     "name": "stderr",
     "output_type": "stream",
     "text": [
      "INFO:tensorflow:Creating bottleneck at tf_files/bottlenecks/messi/images (14).jpg_mobilenet_0.50_224.txt\n"
     ]
    },
    {
     "name": "stdout",
     "output_type": "stream",
     "text": [
      "INFO:tensorflow:Creating bottleneck at tf_files/bottlenecks/messi/Z (5).jpg_mobilenet_0.50_224.txt\n"
     ]
    },
    {
     "name": "stderr",
     "output_type": "stream",
     "text": [
      "INFO:tensorflow:Creating bottleneck at tf_files/bottlenecks/messi/Z (5).jpg_mobilenet_0.50_224.txt\n"
     ]
    },
    {
     "name": "stdout",
     "output_type": "stream",
     "text": [
      "INFO:tensorflow:Creating bottleneck at tf_files/bottlenecks/messi/2Q== (4).jpg_mobilenet_0.50_224.txt\n"
     ]
    },
    {
     "name": "stderr",
     "output_type": "stream",
     "text": [
      "INFO:tensorflow:Creating bottleneck at tf_files/bottlenecks/messi/2Q== (4).jpg_mobilenet_0.50_224.txt\n"
     ]
    },
    {
     "name": "stdout",
     "output_type": "stream",
     "text": [
      "INFO:tensorflow:Creating bottleneck at tf_files/bottlenecks/messi/images (9).jpg_mobilenet_0.50_224.txt\n"
     ]
    },
    {
     "name": "stderr",
     "output_type": "stream",
     "text": [
      "INFO:tensorflow:Creating bottleneck at tf_files/bottlenecks/messi/images (9).jpg_mobilenet_0.50_224.txt\n"
     ]
    },
    {
     "name": "stdout",
     "output_type": "stream",
     "text": [
      "INFO:tensorflow:Creating bottleneck at tf_files/bottlenecks/messi/images (4).jpg_mobilenet_0.50_224.txt\n"
     ]
    },
    {
     "name": "stderr",
     "output_type": "stream",
     "text": [
      "INFO:tensorflow:Creating bottleneck at tf_files/bottlenecks/messi/images (4).jpg_mobilenet_0.50_224.txt\n"
     ]
    },
    {
     "name": "stdout",
     "output_type": "stream",
     "text": [
      "INFO:tensorflow:Creating bottleneck at tf_files/bottlenecks/messi/images (11).jpg_mobilenet_0.50_224.txt\n"
     ]
    },
    {
     "name": "stderr",
     "output_type": "stream",
     "text": [
      "INFO:tensorflow:Creating bottleneck at tf_files/bottlenecks/messi/images (11).jpg_mobilenet_0.50_224.txt\n"
     ]
    },
    {
     "name": "stdout",
     "output_type": "stream",
     "text": [
      "INFO:tensorflow:2018-06-07 16:40:45.595895: Step 0: Train accuracy = 55.0%\n"
     ]
    },
    {
     "name": "stderr",
     "output_type": "stream",
     "text": [
      "INFO:tensorflow:2018-06-07 16:40:45.595895: Step 0: Train accuracy = 55.0%\n"
     ]
    },
    {
     "name": "stdout",
     "output_type": "stream",
     "text": [
      "INFO:tensorflow:2018-06-07 16:40:45.597565: Step 0: Cross entropy = 1.783842\n"
     ]
    },
    {
     "name": "stderr",
     "output_type": "stream",
     "text": [
      "INFO:tensorflow:2018-06-07 16:40:45.597565: Step 0: Cross entropy = 1.783842\n"
     ]
    },
    {
     "name": "stdout",
     "output_type": "stream",
     "text": [
      "INFO:tensorflow:2018-06-07 16:40:45.802598: Step 0: Validation accuracy = 55.0% (N=100)\n"
     ]
    },
    {
     "name": "stderr",
     "output_type": "stream",
     "text": [
      "INFO:tensorflow:2018-06-07 16:40:45.802598: Step 0: Validation accuracy = 55.0% (N=100)\n"
     ]
    },
    {
     "name": "stdout",
     "output_type": "stream",
     "text": [
      "INFO:tensorflow:2018-06-07 16:40:46.216573: Step 10: Train accuracy = 58.0%\n"
     ]
    },
    {
     "name": "stderr",
     "output_type": "stream",
     "text": [
      "INFO:tensorflow:2018-06-07 16:40:46.216573: Step 10: Train accuracy = 58.0%\n"
     ]
    },
    {
     "name": "stdout",
     "output_type": "stream",
     "text": [
      "INFO:tensorflow:2018-06-07 16:40:46.217594: Step 10: Cross entropy = 4.258680\n"
     ]
    },
    {
     "name": "stderr",
     "output_type": "stream",
     "text": [
      "INFO:tensorflow:2018-06-07 16:40:46.217594: Step 10: Cross entropy = 4.258680\n"
     ]
    },
    {
     "name": "stdout",
     "output_type": "stream",
     "text": [
      "INFO:tensorflow:2018-06-07 16:40:46.266851: Step 10: Validation accuracy = 44.0% (N=100)\n"
     ]
    },
    {
     "name": "stderr",
     "output_type": "stream",
     "text": [
      "INFO:tensorflow:2018-06-07 16:40:46.266851: Step 10: Validation accuracy = 44.0% (N=100)\n"
     ]
    },
    {
     "name": "stdout",
     "output_type": "stream",
     "text": [
      "INFO:tensorflow:2018-06-07 16:40:46.683135: Step 20: Train accuracy = 95.0%\n"
     ]
    },
    {
     "name": "stderr",
     "output_type": "stream",
     "text": [
      "INFO:tensorflow:2018-06-07 16:40:46.683135: Step 20: Train accuracy = 95.0%\n"
     ]
    },
    {
     "name": "stdout",
     "output_type": "stream",
     "text": [
      "INFO:tensorflow:2018-06-07 16:40:46.684127: Step 20: Cross entropy = 0.062226\n"
     ]
    },
    {
     "name": "stderr",
     "output_type": "stream",
     "text": [
      "INFO:tensorflow:2018-06-07 16:40:46.684127: Step 20: Cross entropy = 0.062226\n"
     ]
    },
    {
     "name": "stdout",
     "output_type": "stream",
     "text": [
      "INFO:tensorflow:2018-06-07 16:40:46.731049: Step 20: Validation accuracy = 82.0% (N=100)\n"
     ]
    },
    {
     "name": "stderr",
     "output_type": "stream",
     "text": [
      "INFO:tensorflow:2018-06-07 16:40:46.731049: Step 20: Validation accuracy = 82.0% (N=100)\n"
     ]
    },
    {
     "name": "stdout",
     "output_type": "stream",
     "text": [
      "INFO:tensorflow:2018-06-07 16:40:47.134760: Step 30: Train accuracy = 100.0%\n"
     ]
    },
    {
     "name": "stderr",
     "output_type": "stream",
     "text": [
      "INFO:tensorflow:2018-06-07 16:40:47.134760: Step 30: Train accuracy = 100.0%\n"
     ]
    },
    {
     "name": "stdout",
     "output_type": "stream",
     "text": [
      "INFO:tensorflow:2018-06-07 16:40:47.135924: Step 30: Cross entropy = 0.007036\n"
     ]
    },
    {
     "name": "stderr",
     "output_type": "stream",
     "text": [
      "INFO:tensorflow:2018-06-07 16:40:47.135924: Step 30: Cross entropy = 0.007036\n"
     ]
    },
    {
     "name": "stdout",
     "output_type": "stream",
     "text": [
      "INFO:tensorflow:2018-06-07 16:40:47.182272: Step 30: Validation accuracy = 84.0% (N=100)\n"
     ]
    },
    {
     "name": "stderr",
     "output_type": "stream",
     "text": [
      "INFO:tensorflow:2018-06-07 16:40:47.182272: Step 30: Validation accuracy = 84.0% (N=100)\n"
     ]
    },
    {
     "name": "stdout",
     "output_type": "stream",
     "text": [
      "INFO:tensorflow:2018-06-07 16:40:47.580020: Step 40: Train accuracy = 100.0%\n"
     ]
    },
    {
     "name": "stderr",
     "output_type": "stream",
     "text": [
      "INFO:tensorflow:2018-06-07 16:40:47.580020: Step 40: Train accuracy = 100.0%\n"
     ]
    },
    {
     "name": "stdout",
     "output_type": "stream",
     "text": [
      "INFO:tensorflow:2018-06-07 16:40:47.581210: Step 40: Cross entropy = 0.007652\n"
     ]
    },
    {
     "name": "stderr",
     "output_type": "stream",
     "text": [
      "INFO:tensorflow:2018-06-07 16:40:47.581210: Step 40: Cross entropy = 0.007652\n"
     ]
    },
    {
     "name": "stdout",
     "output_type": "stream",
     "text": [
      "INFO:tensorflow:2018-06-07 16:40:47.629647: Step 40: Validation accuracy = 93.0% (N=100)\n"
     ]
    },
    {
     "name": "stderr",
     "output_type": "stream",
     "text": [
      "INFO:tensorflow:2018-06-07 16:40:47.629647: Step 40: Validation accuracy = 93.0% (N=100)\n"
     ]
    },
    {
     "name": "stdout",
     "output_type": "stream",
     "text": [
      "INFO:tensorflow:2018-06-07 16:40:48.029368: Step 50: Train accuracy = 100.0%\n"
     ]
    },
    {
     "name": "stderr",
     "output_type": "stream",
     "text": [
      "INFO:tensorflow:2018-06-07 16:40:48.029368: Step 50: Train accuracy = 100.0%\n"
     ]
    },
    {
     "name": "stdout",
     "output_type": "stream",
     "text": [
      "INFO:tensorflow:2018-06-07 16:40:48.030857: Step 50: Cross entropy = 0.004225\n"
     ]
    },
    {
     "name": "stderr",
     "output_type": "stream",
     "text": [
      "INFO:tensorflow:2018-06-07 16:40:48.030857: Step 50: Cross entropy = 0.004225\n"
     ]
    },
    {
     "name": "stdout",
     "output_type": "stream",
     "text": [
      "INFO:tensorflow:2018-06-07 16:40:48.077695: Step 50: Validation accuracy = 88.0% (N=100)\n"
     ]
    },
    {
     "name": "stderr",
     "output_type": "stream",
     "text": [
      "INFO:tensorflow:2018-06-07 16:40:48.077695: Step 50: Validation accuracy = 88.0% (N=100)\n"
     ]
    },
    {
     "name": "stdout",
     "output_type": "stream",
     "text": [
      "INFO:tensorflow:2018-06-07 16:40:48.474961: Step 60: Train accuracy = 100.0%\n"
     ]
    },
    {
     "name": "stderr",
     "output_type": "stream",
     "text": [
      "INFO:tensorflow:2018-06-07 16:40:48.474961: Step 60: Train accuracy = 100.0%\n"
     ]
    },
    {
     "name": "stdout",
     "output_type": "stream",
     "text": [
      "INFO:tensorflow:2018-06-07 16:40:48.476217: Step 60: Cross entropy = 0.004617\n"
     ]
    },
    {
     "name": "stderr",
     "output_type": "stream",
     "text": [
      "INFO:tensorflow:2018-06-07 16:40:48.476217: Step 60: Cross entropy = 0.004617\n"
     ]
    },
    {
     "name": "stdout",
     "output_type": "stream",
     "text": [
      "INFO:tensorflow:2018-06-07 16:40:48.523937: Step 60: Validation accuracy = 88.0% (N=100)\n"
     ]
    },
    {
     "name": "stderr",
     "output_type": "stream",
     "text": [
      "INFO:tensorflow:2018-06-07 16:40:48.523937: Step 60: Validation accuracy = 88.0% (N=100)\n"
     ]
    },
    {
     "name": "stdout",
     "output_type": "stream",
     "text": [
      "INFO:tensorflow:2018-06-07 16:40:48.920723: Step 70: Train accuracy = 100.0%\n"
     ]
    },
    {
     "name": "stderr",
     "output_type": "stream",
     "text": [
      "INFO:tensorflow:2018-06-07 16:40:48.920723: Step 70: Train accuracy = 100.0%\n"
     ]
    },
    {
     "name": "stdout",
     "output_type": "stream",
     "text": [
      "INFO:tensorflow:2018-06-07 16:40:48.921887: Step 70: Cross entropy = 0.003808\n"
     ]
    },
    {
     "name": "stderr",
     "output_type": "stream",
     "text": [
      "INFO:tensorflow:2018-06-07 16:40:48.921887: Step 70: Cross entropy = 0.003808\n"
     ]
    },
    {
     "name": "stdout",
     "output_type": "stream",
     "text": [
      "INFO:tensorflow:2018-06-07 16:40:48.970567: Step 70: Validation accuracy = 87.0% (N=100)\n"
     ]
    },
    {
     "name": "stderr",
     "output_type": "stream",
     "text": [
      "INFO:tensorflow:2018-06-07 16:40:48.970567: Step 70: Validation accuracy = 87.0% (N=100)\n"
     ]
    },
    {
     "name": "stdout",
     "output_type": "stream",
     "text": [
      "INFO:tensorflow:2018-06-07 16:40:49.366993: Step 80: Train accuracy = 100.0%\n"
     ]
    },
    {
     "name": "stderr",
     "output_type": "stream",
     "text": [
      "INFO:tensorflow:2018-06-07 16:40:49.366993: Step 80: Train accuracy = 100.0%\n"
     ]
    },
    {
     "name": "stdout",
     "output_type": "stream",
     "text": [
      "INFO:tensorflow:2018-06-07 16:40:49.368108: Step 80: Cross entropy = 0.003914\n"
     ]
    },
    {
     "name": "stderr",
     "output_type": "stream",
     "text": [
      "INFO:tensorflow:2018-06-07 16:40:49.368108: Step 80: Cross entropy = 0.003914\n"
     ]
    },
    {
     "name": "stdout",
     "output_type": "stream",
     "text": [
      "INFO:tensorflow:2018-06-07 16:40:49.414394: Step 80: Validation accuracy = 92.0% (N=100)\n"
     ]
    },
    {
     "name": "stderr",
     "output_type": "stream",
     "text": [
      "INFO:tensorflow:2018-06-07 16:40:49.414394: Step 80: Validation accuracy = 92.0% (N=100)\n"
     ]
    },
    {
     "name": "stdout",
     "output_type": "stream",
     "text": [
      "INFO:tensorflow:2018-06-07 16:40:49.805658: Step 90: Train accuracy = 100.0%\n"
     ]
    },
    {
     "name": "stderr",
     "output_type": "stream",
     "text": [
      "INFO:tensorflow:2018-06-07 16:40:49.805658: Step 90: Train accuracy = 100.0%\n"
     ]
    },
    {
     "name": "stdout",
     "output_type": "stream",
     "text": [
      "INFO:tensorflow:2018-06-07 16:40:49.806847: Step 90: Cross entropy = 0.003979\n"
     ]
    },
    {
     "name": "stderr",
     "output_type": "stream",
     "text": [
      "INFO:tensorflow:2018-06-07 16:40:49.806847: Step 90: Cross entropy = 0.003979\n"
     ]
    },
    {
     "name": "stdout",
     "output_type": "stream",
     "text": [
      "INFO:tensorflow:2018-06-07 16:40:49.854793: Step 90: Validation accuracy = 88.0% (N=100)\n"
     ]
    },
    {
     "name": "stderr",
     "output_type": "stream",
     "text": [
      "INFO:tensorflow:2018-06-07 16:40:49.854793: Step 90: Validation accuracy = 88.0% (N=100)\n"
     ]
    },
    {
     "name": "stdout",
     "output_type": "stream",
     "text": [
      "INFO:tensorflow:2018-06-07 16:40:50.292263: Step 100: Train accuracy = 100.0%\n"
     ]
    },
    {
     "name": "stderr",
     "output_type": "stream",
     "text": [
      "INFO:tensorflow:2018-06-07 16:40:50.292263: Step 100: Train accuracy = 100.0%\n"
     ]
    },
    {
     "name": "stdout",
     "output_type": "stream",
     "text": [
      "INFO:tensorflow:2018-06-07 16:40:50.294953: Step 100: Cross entropy = 0.002511\n"
     ]
    },
    {
     "name": "stderr",
     "output_type": "stream",
     "text": [
      "INFO:tensorflow:2018-06-07 16:40:50.294953: Step 100: Cross entropy = 0.002511\n"
     ]
    },
    {
     "name": "stdout",
     "output_type": "stream",
     "text": [
      "INFO:tensorflow:2018-06-07 16:40:50.345508: Step 100: Validation accuracy = 91.0% (N=100)\n"
     ]
    },
    {
     "name": "stderr",
     "output_type": "stream",
     "text": [
      "INFO:tensorflow:2018-06-07 16:40:50.345508: Step 100: Validation accuracy = 91.0% (N=100)\n"
     ]
    },
    {
     "name": "stdout",
     "output_type": "stream",
     "text": [
      "INFO:tensorflow:2018-06-07 16:40:50.754072: Step 110: Train accuracy = 100.0%\n"
     ]
    },
    {
     "name": "stderr",
     "output_type": "stream",
     "text": [
      "INFO:tensorflow:2018-06-07 16:40:50.754072: Step 110: Train accuracy = 100.0%\n"
     ]
    },
    {
     "name": "stdout",
     "output_type": "stream",
     "text": [
      "INFO:tensorflow:2018-06-07 16:40:50.755428: Step 110: Cross entropy = 0.003593\n"
     ]
    },
    {
     "name": "stderr",
     "output_type": "stream",
     "text": [
      "INFO:tensorflow:2018-06-07 16:40:50.755428: Step 110: Cross entropy = 0.003593\n"
     ]
    },
    {
     "name": "stdout",
     "output_type": "stream",
     "text": [
      "INFO:tensorflow:2018-06-07 16:40:50.803501: Step 110: Validation accuracy = 92.0% (N=100)\n"
     ]
    },
    {
     "name": "stderr",
     "output_type": "stream",
     "text": [
      "INFO:tensorflow:2018-06-07 16:40:50.803501: Step 110: Validation accuracy = 92.0% (N=100)\n"
     ]
    },
    {
     "name": "stdout",
     "output_type": "stream",
     "text": [
      "INFO:tensorflow:2018-06-07 16:40:51.212587: Step 120: Train accuracy = 100.0%\n"
     ]
    },
    {
     "name": "stderr",
     "output_type": "stream",
     "text": [
      "INFO:tensorflow:2018-06-07 16:40:51.212587: Step 120: Train accuracy = 100.0%\n"
     ]
    },
    {
     "name": "stdout",
     "output_type": "stream",
     "text": [
      "INFO:tensorflow:2018-06-07 16:40:51.215008: Step 120: Cross entropy = 0.002571\n"
     ]
    },
    {
     "name": "stderr",
     "output_type": "stream",
     "text": [
      "INFO:tensorflow:2018-06-07 16:40:51.215008: Step 120: Cross entropy = 0.002571\n"
     ]
    },
    {
     "name": "stdout",
     "output_type": "stream",
     "text": [
      "INFO:tensorflow:2018-06-07 16:40:51.267203: Step 120: Validation accuracy = 86.0% (N=100)\n"
     ]
    },
    {
     "name": "stderr",
     "output_type": "stream",
     "text": [
      "INFO:tensorflow:2018-06-07 16:40:51.267203: Step 120: Validation accuracy = 86.0% (N=100)\n"
     ]
    },
    {
     "name": "stdout",
     "output_type": "stream",
     "text": [
      "INFO:tensorflow:2018-06-07 16:40:51.707148: Step 130: Train accuracy = 100.0%\n"
     ]
    },
    {
     "name": "stderr",
     "output_type": "stream",
     "text": [
      "INFO:tensorflow:2018-06-07 16:40:51.707148: Step 130: Train accuracy = 100.0%\n"
     ]
    },
    {
     "name": "stdout",
     "output_type": "stream",
     "text": [
      "INFO:tensorflow:2018-06-07 16:40:51.708330: Step 130: Cross entropy = 0.002559\n"
     ]
    },
    {
     "name": "stderr",
     "output_type": "stream",
     "text": [
      "INFO:tensorflow:2018-06-07 16:40:51.708330: Step 130: Cross entropy = 0.002559\n"
     ]
    },
    {
     "name": "stdout",
     "output_type": "stream",
     "text": [
      "INFO:tensorflow:2018-06-07 16:40:51.756854: Step 130: Validation accuracy = 85.0% (N=100)\n"
     ]
    },
    {
     "name": "stderr",
     "output_type": "stream",
     "text": [
      "INFO:tensorflow:2018-06-07 16:40:51.756854: Step 130: Validation accuracy = 85.0% (N=100)\n"
     ]
    },
    {
     "name": "stdout",
     "output_type": "stream",
     "text": [
      "INFO:tensorflow:2018-06-07 16:40:52.187853: Step 140: Train accuracy = 100.0%\n"
     ]
    },
    {
     "name": "stderr",
     "output_type": "stream",
     "text": [
      "INFO:tensorflow:2018-06-07 16:40:52.187853: Step 140: Train accuracy = 100.0%\n"
     ]
    },
    {
     "name": "stdout",
     "output_type": "stream",
     "text": [
      "INFO:tensorflow:2018-06-07 16:40:52.188936: Step 140: Cross entropy = 0.002175\n"
     ]
    },
    {
     "name": "stderr",
     "output_type": "stream",
     "text": [
      "INFO:tensorflow:2018-06-07 16:40:52.188936: Step 140: Cross entropy = 0.002175\n"
     ]
    },
    {
     "name": "stdout",
     "output_type": "stream",
     "text": [
      "INFO:tensorflow:2018-06-07 16:40:52.236442: Step 140: Validation accuracy = 88.0% (N=100)\n"
     ]
    },
    {
     "name": "stderr",
     "output_type": "stream",
     "text": [
      "INFO:tensorflow:2018-06-07 16:40:52.236442: Step 140: Validation accuracy = 88.0% (N=100)\n"
     ]
    },
    {
     "name": "stdout",
     "output_type": "stream",
     "text": [
      "INFO:tensorflow:2018-06-07 16:40:52.657287: Step 150: Train accuracy = 100.0%\n"
     ]
    },
    {
     "name": "stderr",
     "output_type": "stream",
     "text": [
      "INFO:tensorflow:2018-06-07 16:40:52.657287: Step 150: Train accuracy = 100.0%\n"
     ]
    },
    {
     "name": "stdout",
     "output_type": "stream",
     "text": [
      "INFO:tensorflow:2018-06-07 16:40:52.658519: Step 150: Cross entropy = 0.003224\n"
     ]
    },
    {
     "name": "stderr",
     "output_type": "stream",
     "text": [
      "INFO:tensorflow:2018-06-07 16:40:52.658519: Step 150: Cross entropy = 0.003224\n"
     ]
    },
    {
     "name": "stdout",
     "output_type": "stream",
     "text": [
      "INFO:tensorflow:2018-06-07 16:40:52.709111: Step 150: Validation accuracy = 91.0% (N=100)\n"
     ]
    },
    {
     "name": "stderr",
     "output_type": "stream",
     "text": [
      "INFO:tensorflow:2018-06-07 16:40:52.709111: Step 150: Validation accuracy = 91.0% (N=100)\n"
     ]
    },
    {
     "name": "stdout",
     "output_type": "stream",
     "text": [
      "INFO:tensorflow:2018-06-07 16:40:53.138259: Step 160: Train accuracy = 100.0%\n"
     ]
    },
    {
     "name": "stderr",
     "output_type": "stream",
     "text": [
      "INFO:tensorflow:2018-06-07 16:40:53.138259: Step 160: Train accuracy = 100.0%\n"
     ]
    },
    {
     "name": "stdout",
     "output_type": "stream",
     "text": [
      "INFO:tensorflow:2018-06-07 16:40:53.139407: Step 160: Cross entropy = 0.001801\n"
     ]
    },
    {
     "name": "stderr",
     "output_type": "stream",
     "text": [
      "INFO:tensorflow:2018-06-07 16:40:53.139407: Step 160: Cross entropy = 0.001801\n"
     ]
    },
    {
     "name": "stdout",
     "output_type": "stream",
     "text": [
      "INFO:tensorflow:2018-06-07 16:40:53.202095: Step 160: Validation accuracy = 86.0% (N=100)\n"
     ]
    },
    {
     "name": "stderr",
     "output_type": "stream",
     "text": [
      "INFO:tensorflow:2018-06-07 16:40:53.202095: Step 160: Validation accuracy = 86.0% (N=100)\n"
     ]
    },
    {
     "name": "stdout",
     "output_type": "stream",
     "text": [
      "INFO:tensorflow:2018-06-07 16:40:53.649327: Step 170: Train accuracy = 100.0%\n"
     ]
    },
    {
     "name": "stderr",
     "output_type": "stream",
     "text": [
      "INFO:tensorflow:2018-06-07 16:40:53.649327: Step 170: Train accuracy = 100.0%\n"
     ]
    },
    {
     "name": "stdout",
     "output_type": "stream",
     "text": [
      "INFO:tensorflow:2018-06-07 16:40:53.650462: Step 170: Cross entropy = 0.002530\n"
     ]
    },
    {
     "name": "stderr",
     "output_type": "stream",
     "text": [
      "INFO:tensorflow:2018-06-07 16:40:53.650462: Step 170: Cross entropy = 0.002530\n"
     ]
    },
    {
     "name": "stdout",
     "output_type": "stream",
     "text": [
      "INFO:tensorflow:2018-06-07 16:40:53.706704: Step 170: Validation accuracy = 84.0% (N=100)\n"
     ]
    },
    {
     "name": "stderr",
     "output_type": "stream",
     "text": [
      "INFO:tensorflow:2018-06-07 16:40:53.706704: Step 170: Validation accuracy = 84.0% (N=100)\n"
     ]
    },
    {
     "name": "stdout",
     "output_type": "stream",
     "text": [
      "INFO:tensorflow:2018-06-07 16:40:54.157417: Step 180: Train accuracy = 100.0%\n"
     ]
    },
    {
     "name": "stderr",
     "output_type": "stream",
     "text": [
      "INFO:tensorflow:2018-06-07 16:40:54.157417: Step 180: Train accuracy = 100.0%\n"
     ]
    },
    {
     "name": "stdout",
     "output_type": "stream",
     "text": [
      "INFO:tensorflow:2018-06-07 16:40:54.158620: Step 180: Cross entropy = 0.002781\n"
     ]
    },
    {
     "name": "stderr",
     "output_type": "stream",
     "text": [
      "INFO:tensorflow:2018-06-07 16:40:54.158620: Step 180: Cross entropy = 0.002781\n"
     ]
    },
    {
     "name": "stdout",
     "output_type": "stream",
     "text": [
      "INFO:tensorflow:2018-06-07 16:40:54.207748: Step 180: Validation accuracy = 90.0% (N=100)\n"
     ]
    },
    {
     "name": "stderr",
     "output_type": "stream",
     "text": [
      "INFO:tensorflow:2018-06-07 16:40:54.207748: Step 180: Validation accuracy = 90.0% (N=100)\n"
     ]
    },
    {
     "name": "stdout",
     "output_type": "stream",
     "text": [
      "INFO:tensorflow:2018-06-07 16:40:54.605354: Step 190: Train accuracy = 100.0%\n"
     ]
    },
    {
     "name": "stderr",
     "output_type": "stream",
     "text": [
      "INFO:tensorflow:2018-06-07 16:40:54.605354: Step 190: Train accuracy = 100.0%\n"
     ]
    },
    {
     "name": "stdout",
     "output_type": "stream",
     "text": [
      "INFO:tensorflow:2018-06-07 16:40:54.606510: Step 190: Cross entropy = 0.001527\n"
     ]
    },
    {
     "name": "stderr",
     "output_type": "stream",
     "text": [
      "INFO:tensorflow:2018-06-07 16:40:54.606510: Step 190: Cross entropy = 0.001527\n"
     ]
    },
    {
     "name": "stdout",
     "output_type": "stream",
     "text": [
      "INFO:tensorflow:2018-06-07 16:40:54.656430: Step 190: Validation accuracy = 84.0% (N=100)\n"
     ]
    },
    {
     "name": "stderr",
     "output_type": "stream",
     "text": [
      "INFO:tensorflow:2018-06-07 16:40:54.656430: Step 190: Validation accuracy = 84.0% (N=100)\n"
     ]
    },
    {
     "name": "stdout",
     "output_type": "stream",
     "text": [
      "INFO:tensorflow:2018-06-07 16:40:55.101232: Step 200: Train accuracy = 100.0%\n"
     ]
    },
    {
     "name": "stderr",
     "output_type": "stream",
     "text": [
      "INFO:tensorflow:2018-06-07 16:40:55.101232: Step 200: Train accuracy = 100.0%\n"
     ]
    },
    {
     "name": "stdout",
     "output_type": "stream",
     "text": [
      "INFO:tensorflow:2018-06-07 16:40:55.102317: Step 200: Cross entropy = 0.001609\n"
     ]
    },
    {
     "name": "stderr",
     "output_type": "stream",
     "text": [
      "INFO:tensorflow:2018-06-07 16:40:55.102317: Step 200: Cross entropy = 0.001609\n"
     ]
    },
    {
     "name": "stdout",
     "output_type": "stream",
     "text": [
      "INFO:tensorflow:2018-06-07 16:40:55.149396: Step 200: Validation accuracy = 90.0% (N=100)\n"
     ]
    },
    {
     "name": "stderr",
     "output_type": "stream",
     "text": [
      "INFO:tensorflow:2018-06-07 16:40:55.149396: Step 200: Validation accuracy = 90.0% (N=100)\n"
     ]
    },
    {
     "name": "stdout",
     "output_type": "stream",
     "text": [
      "INFO:tensorflow:2018-06-07 16:40:55.578522: Step 210: Train accuracy = 100.0%\n"
     ]
    },
    {
     "name": "stderr",
     "output_type": "stream",
     "text": [
      "INFO:tensorflow:2018-06-07 16:40:55.578522: Step 210: Train accuracy = 100.0%\n"
     ]
    },
    {
     "name": "stdout",
     "output_type": "stream",
     "text": [
      "INFO:tensorflow:2018-06-07 16:40:55.579768: Step 210: Cross entropy = 0.001763\n"
     ]
    },
    {
     "name": "stderr",
     "output_type": "stream",
     "text": [
      "INFO:tensorflow:2018-06-07 16:40:55.579768: Step 210: Cross entropy = 0.001763\n"
     ]
    },
    {
     "name": "stdout",
     "output_type": "stream",
     "text": [
      "INFO:tensorflow:2018-06-07 16:40:55.633479: Step 210: Validation accuracy = 85.0% (N=100)\n"
     ]
    },
    {
     "name": "stderr",
     "output_type": "stream",
     "text": [
      "INFO:tensorflow:2018-06-07 16:40:55.633479: Step 210: Validation accuracy = 85.0% (N=100)\n"
     ]
    },
    {
     "name": "stdout",
     "output_type": "stream",
     "text": [
      "INFO:tensorflow:2018-06-07 16:40:56.099357: Step 220: Train accuracy = 100.0%\n"
     ]
    },
    {
     "name": "stderr",
     "output_type": "stream",
     "text": [
      "INFO:tensorflow:2018-06-07 16:40:56.099357: Step 220: Train accuracy = 100.0%\n"
     ]
    },
    {
     "name": "stdout",
     "output_type": "stream",
     "text": [
      "INFO:tensorflow:2018-06-07 16:40:56.100775: Step 220: Cross entropy = 0.001830\n"
     ]
    },
    {
     "name": "stderr",
     "output_type": "stream",
     "text": [
      "INFO:tensorflow:2018-06-07 16:40:56.100775: Step 220: Cross entropy = 0.001830\n"
     ]
    },
    {
     "name": "stdout",
     "output_type": "stream",
     "text": [
      "INFO:tensorflow:2018-06-07 16:40:56.153898: Step 220: Validation accuracy = 86.0% (N=100)\n"
     ]
    },
    {
     "name": "stderr",
     "output_type": "stream",
     "text": [
      "INFO:tensorflow:2018-06-07 16:40:56.153898: Step 220: Validation accuracy = 86.0% (N=100)\n"
     ]
    },
    {
     "name": "stdout",
     "output_type": "stream",
     "text": [
      "INFO:tensorflow:2018-06-07 16:40:56.591747: Step 230: Train accuracy = 100.0%\n"
     ]
    },
    {
     "name": "stderr",
     "output_type": "stream",
     "text": [
      "INFO:tensorflow:2018-06-07 16:40:56.591747: Step 230: Train accuracy = 100.0%\n"
     ]
    },
    {
     "name": "stdout",
     "output_type": "stream",
     "text": [
      "INFO:tensorflow:2018-06-07 16:40:56.592992: Step 230: Cross entropy = 0.002228\n"
     ]
    },
    {
     "name": "stderr",
     "output_type": "stream",
     "text": [
      "INFO:tensorflow:2018-06-07 16:40:56.592992: Step 230: Cross entropy = 0.002228\n"
     ]
    },
    {
     "name": "stdout",
     "output_type": "stream",
     "text": [
      "INFO:tensorflow:2018-06-07 16:40:56.641804: Step 230: Validation accuracy = 87.0% (N=100)\n"
     ]
    },
    {
     "name": "stderr",
     "output_type": "stream",
     "text": [
      "INFO:tensorflow:2018-06-07 16:40:56.641804: Step 230: Validation accuracy = 87.0% (N=100)\n"
     ]
    },
    {
     "name": "stdout",
     "output_type": "stream",
     "text": [
      "INFO:tensorflow:2018-06-07 16:40:57.112844: Step 240: Train accuracy = 100.0%\n"
     ]
    },
    {
     "name": "stderr",
     "output_type": "stream",
     "text": [
      "INFO:tensorflow:2018-06-07 16:40:57.112844: Step 240: Train accuracy = 100.0%\n"
     ]
    },
    {
     "name": "stdout",
     "output_type": "stream",
     "text": [
      "INFO:tensorflow:2018-06-07 16:40:57.114305: Step 240: Cross entropy = 0.001710\n"
     ]
    },
    {
     "name": "stderr",
     "output_type": "stream",
     "text": [
      "INFO:tensorflow:2018-06-07 16:40:57.114305: Step 240: Cross entropy = 0.001710\n"
     ]
    },
    {
     "name": "stdout",
     "output_type": "stream",
     "text": [
      "INFO:tensorflow:2018-06-07 16:40:57.167800: Step 240: Validation accuracy = 83.0% (N=100)\n"
     ]
    },
    {
     "name": "stderr",
     "output_type": "stream",
     "text": [
      "INFO:tensorflow:2018-06-07 16:40:57.167800: Step 240: Validation accuracy = 83.0% (N=100)\n"
     ]
    },
    {
     "name": "stdout",
     "output_type": "stream",
     "text": [
      "INFO:tensorflow:2018-06-07 16:40:57.602334: Step 250: Train accuracy = 100.0%\n"
     ]
    },
    {
     "name": "stderr",
     "output_type": "stream",
     "text": [
      "INFO:tensorflow:2018-06-07 16:40:57.602334: Step 250: Train accuracy = 100.0%\n"
     ]
    },
    {
     "name": "stdout",
     "output_type": "stream",
     "text": [
      "INFO:tensorflow:2018-06-07 16:40:57.603371: Step 250: Cross entropy = 0.001639\n"
     ]
    },
    {
     "name": "stderr",
     "output_type": "stream",
     "text": [
      "INFO:tensorflow:2018-06-07 16:40:57.603371: Step 250: Cross entropy = 0.001639\n"
     ]
    },
    {
     "name": "stdout",
     "output_type": "stream",
     "text": [
      "INFO:tensorflow:2018-06-07 16:40:57.654135: Step 250: Validation accuracy = 90.0% (N=100)\n"
     ]
    },
    {
     "name": "stderr",
     "output_type": "stream",
     "text": [
      "INFO:tensorflow:2018-06-07 16:40:57.654135: Step 250: Validation accuracy = 90.0% (N=100)\n"
     ]
    },
    {
     "name": "stdout",
     "output_type": "stream",
     "text": [
      "INFO:tensorflow:2018-06-07 16:40:58.114603: Step 260: Train accuracy = 100.0%\n"
     ]
    },
    {
     "name": "stderr",
     "output_type": "stream",
     "text": [
      "INFO:tensorflow:2018-06-07 16:40:58.114603: Step 260: Train accuracy = 100.0%\n"
     ]
    },
    {
     "name": "stdout",
     "output_type": "stream",
     "text": [
      "INFO:tensorflow:2018-06-07 16:40:58.116575: Step 260: Cross entropy = 0.001552\n"
     ]
    },
    {
     "name": "stderr",
     "output_type": "stream",
     "text": [
      "INFO:tensorflow:2018-06-07 16:40:58.116575: Step 260: Cross entropy = 0.001552\n"
     ]
    },
    {
     "name": "stdout",
     "output_type": "stream",
     "text": [
      "INFO:tensorflow:2018-06-07 16:40:58.168476: Step 260: Validation accuracy = 88.0% (N=100)\n"
     ]
    },
    {
     "name": "stderr",
     "output_type": "stream",
     "text": [
      "INFO:tensorflow:2018-06-07 16:40:58.168476: Step 260: Validation accuracy = 88.0% (N=100)\n"
     ]
    },
    {
     "name": "stdout",
     "output_type": "stream",
     "text": [
      "INFO:tensorflow:2018-06-07 16:40:58.634673: Step 270: Train accuracy = 100.0%\n"
     ]
    },
    {
     "name": "stderr",
     "output_type": "stream",
     "text": [
      "INFO:tensorflow:2018-06-07 16:40:58.634673: Step 270: Train accuracy = 100.0%\n"
     ]
    },
    {
     "name": "stdout",
     "output_type": "stream",
     "text": [
      "INFO:tensorflow:2018-06-07 16:40:58.636358: Step 270: Cross entropy = 0.002098\n"
     ]
    },
    {
     "name": "stderr",
     "output_type": "stream",
     "text": [
      "INFO:tensorflow:2018-06-07 16:40:58.636358: Step 270: Cross entropy = 0.002098\n"
     ]
    },
    {
     "name": "stdout",
     "output_type": "stream",
     "text": [
      "INFO:tensorflow:2018-06-07 16:40:58.687564: Step 270: Validation accuracy = 92.0% (N=100)\n"
     ]
    },
    {
     "name": "stderr",
     "output_type": "stream",
     "text": [
      "INFO:tensorflow:2018-06-07 16:40:58.687564: Step 270: Validation accuracy = 92.0% (N=100)\n"
     ]
    },
    {
     "name": "stdout",
     "output_type": "stream",
     "text": [
      "INFO:tensorflow:2018-06-07 16:40:59.122721: Step 280: Train accuracy = 100.0%\n"
     ]
    },
    {
     "name": "stderr",
     "output_type": "stream",
     "text": [
      "INFO:tensorflow:2018-06-07 16:40:59.122721: Step 280: Train accuracy = 100.0%\n"
     ]
    },
    {
     "name": "stdout",
     "output_type": "stream",
     "text": [
      "INFO:tensorflow:2018-06-07 16:40:59.123823: Step 280: Cross entropy = 0.001643\n"
     ]
    },
    {
     "name": "stderr",
     "output_type": "stream",
     "text": [
      "INFO:tensorflow:2018-06-07 16:40:59.123823: Step 280: Cross entropy = 0.001643\n"
     ]
    },
    {
     "name": "stdout",
     "output_type": "stream",
     "text": [
      "INFO:tensorflow:2018-06-07 16:40:59.172674: Step 280: Validation accuracy = 91.0% (N=100)\n"
     ]
    },
    {
     "name": "stderr",
     "output_type": "stream",
     "text": [
      "INFO:tensorflow:2018-06-07 16:40:59.172674: Step 280: Validation accuracy = 91.0% (N=100)\n"
     ]
    },
    {
     "name": "stdout",
     "output_type": "stream",
     "text": [
      "INFO:tensorflow:2018-06-07 16:40:59.605957: Step 290: Train accuracy = 100.0%\n"
     ]
    },
    {
     "name": "stderr",
     "output_type": "stream",
     "text": [
      "INFO:tensorflow:2018-06-07 16:40:59.605957: Step 290: Train accuracy = 100.0%\n"
     ]
    },
    {
     "name": "stdout",
     "output_type": "stream",
     "text": [
      "INFO:tensorflow:2018-06-07 16:40:59.607014: Step 290: Cross entropy = 0.001132\n"
     ]
    },
    {
     "name": "stderr",
     "output_type": "stream",
     "text": [
      "INFO:tensorflow:2018-06-07 16:40:59.607014: Step 290: Cross entropy = 0.001132\n"
     ]
    },
    {
     "name": "stdout",
     "output_type": "stream",
     "text": [
      "INFO:tensorflow:2018-06-07 16:40:59.657930: Step 290: Validation accuracy = 92.0% (N=100)\n"
     ]
    },
    {
     "name": "stderr",
     "output_type": "stream",
     "text": [
      "INFO:tensorflow:2018-06-07 16:40:59.657930: Step 290: Validation accuracy = 92.0% (N=100)\n"
     ]
    },
    {
     "name": "stdout",
     "output_type": "stream",
     "text": [
      "INFO:tensorflow:2018-06-07 16:41:00.114832: Step 300: Train accuracy = 100.0%\n"
     ]
    },
    {
     "name": "stderr",
     "output_type": "stream",
     "text": [
      "INFO:tensorflow:2018-06-07 16:41:00.114832: Step 300: Train accuracy = 100.0%\n"
     ]
    },
    {
     "name": "stdout",
     "output_type": "stream",
     "text": [
      "INFO:tensorflow:2018-06-07 16:41:00.116142: Step 300: Cross entropy = 0.001355\n"
     ]
    },
    {
     "name": "stderr",
     "output_type": "stream",
     "text": [
      "INFO:tensorflow:2018-06-07 16:41:00.116142: Step 300: Cross entropy = 0.001355\n"
     ]
    },
    {
     "name": "stdout",
     "output_type": "stream",
     "text": [
      "INFO:tensorflow:2018-06-07 16:41:00.165364: Step 300: Validation accuracy = 85.0% (N=100)\n"
     ]
    },
    {
     "name": "stderr",
     "output_type": "stream",
     "text": [
      "INFO:tensorflow:2018-06-07 16:41:00.165364: Step 300: Validation accuracy = 85.0% (N=100)\n"
     ]
    },
    {
     "name": "stdout",
     "output_type": "stream",
     "text": [
      "INFO:tensorflow:2018-06-07 16:41:00.635862: Step 310: Train accuracy = 100.0%\n"
     ]
    },
    {
     "name": "stderr",
     "output_type": "stream",
     "text": [
      "INFO:tensorflow:2018-06-07 16:41:00.635862: Step 310: Train accuracy = 100.0%\n"
     ]
    },
    {
     "name": "stdout",
     "output_type": "stream",
     "text": [
      "INFO:tensorflow:2018-06-07 16:41:00.636935: Step 310: Cross entropy = 0.001611\n"
     ]
    },
    {
     "name": "stderr",
     "output_type": "stream",
     "text": [
      "INFO:tensorflow:2018-06-07 16:41:00.636935: Step 310: Cross entropy = 0.001611\n"
     ]
    },
    {
     "name": "stdout",
     "output_type": "stream",
     "text": [
      "INFO:tensorflow:2018-06-07 16:41:00.688405: Step 310: Validation accuracy = 90.0% (N=100)\n"
     ]
    },
    {
     "name": "stderr",
     "output_type": "stream",
     "text": [
      "INFO:tensorflow:2018-06-07 16:41:00.688405: Step 310: Validation accuracy = 90.0% (N=100)\n"
     ]
    },
    {
     "name": "stdout",
     "output_type": "stream",
     "text": [
      "INFO:tensorflow:2018-06-07 16:41:01.116136: Step 320: Train accuracy = 100.0%\n"
     ]
    },
    {
     "name": "stderr",
     "output_type": "stream",
     "text": [
      "INFO:tensorflow:2018-06-07 16:41:01.116136: Step 320: Train accuracy = 100.0%\n"
     ]
    },
    {
     "name": "stdout",
     "output_type": "stream",
     "text": [
      "INFO:tensorflow:2018-06-07 16:41:01.117294: Step 320: Cross entropy = 0.001619\n"
     ]
    },
    {
     "name": "stderr",
     "output_type": "stream",
     "text": [
      "INFO:tensorflow:2018-06-07 16:41:01.117294: Step 320: Cross entropy = 0.001619\n"
     ]
    },
    {
     "name": "stdout",
     "output_type": "stream",
     "text": [
      "INFO:tensorflow:2018-06-07 16:41:01.171146: Step 320: Validation accuracy = 91.0% (N=100)\n"
     ]
    },
    {
     "name": "stderr",
     "output_type": "stream",
     "text": [
      "INFO:tensorflow:2018-06-07 16:41:01.171146: Step 320: Validation accuracy = 91.0% (N=100)\n"
     ]
    },
    {
     "name": "stdout",
     "output_type": "stream",
     "text": [
      "INFO:tensorflow:2018-06-07 16:41:01.649877: Step 330: Train accuracy = 100.0%\n"
     ]
    },
    {
     "name": "stderr",
     "output_type": "stream",
     "text": [
      "INFO:tensorflow:2018-06-07 16:41:01.649877: Step 330: Train accuracy = 100.0%\n"
     ]
    },
    {
     "name": "stdout",
     "output_type": "stream",
     "text": [
      "INFO:tensorflow:2018-06-07 16:41:01.651225: Step 330: Cross entropy = 0.001657\n"
     ]
    },
    {
     "name": "stderr",
     "output_type": "stream",
     "text": [
      "INFO:tensorflow:2018-06-07 16:41:01.651225: Step 330: Cross entropy = 0.001657\n"
     ]
    },
    {
     "name": "stdout",
     "output_type": "stream",
     "text": [
      "INFO:tensorflow:2018-06-07 16:41:01.700240: Step 330: Validation accuracy = 85.0% (N=100)\n"
     ]
    },
    {
     "name": "stderr",
     "output_type": "stream",
     "text": [
      "INFO:tensorflow:2018-06-07 16:41:01.700240: Step 330: Validation accuracy = 85.0% (N=100)\n"
     ]
    },
    {
     "name": "stdout",
     "output_type": "stream",
     "text": [
      "INFO:tensorflow:2018-06-07 16:41:02.170330: Step 340: Train accuracy = 100.0%\n"
     ]
    },
    {
     "name": "stderr",
     "output_type": "stream",
     "text": [
      "INFO:tensorflow:2018-06-07 16:41:02.170330: Step 340: Train accuracy = 100.0%\n"
     ]
    },
    {
     "name": "stdout",
     "output_type": "stream",
     "text": [
      "INFO:tensorflow:2018-06-07 16:41:02.171797: Step 340: Cross entropy = 0.001483\n"
     ]
    },
    {
     "name": "stderr",
     "output_type": "stream",
     "text": [
      "INFO:tensorflow:2018-06-07 16:41:02.171797: Step 340: Cross entropy = 0.001483\n"
     ]
    },
    {
     "name": "stdout",
     "output_type": "stream",
     "text": [
      "INFO:tensorflow:2018-06-07 16:41:02.225621: Step 340: Validation accuracy = 89.0% (N=100)\n"
     ]
    },
    {
     "name": "stderr",
     "output_type": "stream",
     "text": [
      "INFO:tensorflow:2018-06-07 16:41:02.225621: Step 340: Validation accuracy = 89.0% (N=100)\n"
     ]
    },
    {
     "name": "stdout",
     "output_type": "stream",
     "text": [
      "INFO:tensorflow:2018-06-07 16:41:02.697316: Step 350: Train accuracy = 100.0%\n"
     ]
    },
    {
     "name": "stderr",
     "output_type": "stream",
     "text": [
      "INFO:tensorflow:2018-06-07 16:41:02.697316: Step 350: Train accuracy = 100.0%\n"
     ]
    },
    {
     "name": "stdout",
     "output_type": "stream",
     "text": [
      "INFO:tensorflow:2018-06-07 16:41:02.698882: Step 350: Cross entropy = 0.001120\n"
     ]
    },
    {
     "name": "stderr",
     "output_type": "stream",
     "text": [
      "INFO:tensorflow:2018-06-07 16:41:02.698882: Step 350: Cross entropy = 0.001120\n"
     ]
    },
    {
     "name": "stdout",
     "output_type": "stream",
     "text": [
      "INFO:tensorflow:2018-06-07 16:41:02.749772: Step 350: Validation accuracy = 87.0% (N=100)\n"
     ]
    },
    {
     "name": "stderr",
     "output_type": "stream",
     "text": [
      "INFO:tensorflow:2018-06-07 16:41:02.749772: Step 350: Validation accuracy = 87.0% (N=100)\n"
     ]
    },
    {
     "name": "stdout",
     "output_type": "stream",
     "text": [
      "INFO:tensorflow:2018-06-07 16:41:03.228736: Step 360: Train accuracy = 100.0%\n"
     ]
    },
    {
     "name": "stderr",
     "output_type": "stream",
     "text": [
      "INFO:tensorflow:2018-06-07 16:41:03.228736: Step 360: Train accuracy = 100.0%\n"
     ]
    },
    {
     "name": "stdout",
     "output_type": "stream",
     "text": [
      "INFO:tensorflow:2018-06-07 16:41:03.229951: Step 360: Cross entropy = 0.001550\n"
     ]
    },
    {
     "name": "stderr",
     "output_type": "stream",
     "text": [
      "INFO:tensorflow:2018-06-07 16:41:03.229951: Step 360: Cross entropy = 0.001550\n"
     ]
    },
    {
     "name": "stdout",
     "output_type": "stream",
     "text": [
      "INFO:tensorflow:2018-06-07 16:41:03.281404: Step 360: Validation accuracy = 89.0% (N=100)\n"
     ]
    },
    {
     "name": "stderr",
     "output_type": "stream",
     "text": [
      "INFO:tensorflow:2018-06-07 16:41:03.281404: Step 360: Validation accuracy = 89.0% (N=100)\n"
     ]
    },
    {
     "name": "stdout",
     "output_type": "stream",
     "text": [
      "INFO:tensorflow:2018-06-07 16:41:03.755502: Step 370: Train accuracy = 100.0%\n"
     ]
    },
    {
     "name": "stderr",
     "output_type": "stream",
     "text": [
      "INFO:tensorflow:2018-06-07 16:41:03.755502: Step 370: Train accuracy = 100.0%\n"
     ]
    },
    {
     "name": "stdout",
     "output_type": "stream",
     "text": [
      "INFO:tensorflow:2018-06-07 16:41:03.757282: Step 370: Cross entropy = 0.001500\n"
     ]
    },
    {
     "name": "stderr",
     "output_type": "stream",
     "text": [
      "INFO:tensorflow:2018-06-07 16:41:03.757282: Step 370: Cross entropy = 0.001500\n"
     ]
    },
    {
     "name": "stdout",
     "output_type": "stream",
     "text": [
      "INFO:tensorflow:2018-06-07 16:41:03.809469: Step 370: Validation accuracy = 89.0% (N=100)\n"
     ]
    },
    {
     "name": "stderr",
     "output_type": "stream",
     "text": [
      "INFO:tensorflow:2018-06-07 16:41:03.809469: Step 370: Validation accuracy = 89.0% (N=100)\n"
     ]
    },
    {
     "name": "stdout",
     "output_type": "stream",
     "text": [
      "INFO:tensorflow:2018-06-07 16:41:04.272349: Step 380: Train accuracy = 100.0%\n"
     ]
    },
    {
     "name": "stderr",
     "output_type": "stream",
     "text": [
      "INFO:tensorflow:2018-06-07 16:41:04.272349: Step 380: Train accuracy = 100.0%\n"
     ]
    },
    {
     "name": "stdout",
     "output_type": "stream",
     "text": [
      "INFO:tensorflow:2018-06-07 16:41:04.273731: Step 380: Cross entropy = 0.001317\n"
     ]
    },
    {
     "name": "stderr",
     "output_type": "stream",
     "text": [
      "INFO:tensorflow:2018-06-07 16:41:04.273731: Step 380: Cross entropy = 0.001317\n"
     ]
    },
    {
     "name": "stdout",
     "output_type": "stream",
     "text": [
      "INFO:tensorflow:2018-06-07 16:41:04.325933: Step 380: Validation accuracy = 84.0% (N=100)\n"
     ]
    },
    {
     "name": "stderr",
     "output_type": "stream",
     "text": [
      "INFO:tensorflow:2018-06-07 16:41:04.325933: Step 380: Validation accuracy = 84.0% (N=100)\n"
     ]
    },
    {
     "name": "stdout",
     "output_type": "stream",
     "text": [
      "INFO:tensorflow:2018-06-07 16:41:04.814934: Step 390: Train accuracy = 100.0%\n"
     ]
    },
    {
     "name": "stderr",
     "output_type": "stream",
     "text": [
      "INFO:tensorflow:2018-06-07 16:41:04.814934: Step 390: Train accuracy = 100.0%\n"
     ]
    },
    {
     "name": "stdout",
     "output_type": "stream",
     "text": [
      "INFO:tensorflow:2018-06-07 16:41:04.815952: Step 390: Cross entropy = 0.001160\n"
     ]
    },
    {
     "name": "stderr",
     "output_type": "stream",
     "text": [
      "INFO:tensorflow:2018-06-07 16:41:04.815952: Step 390: Cross entropy = 0.001160\n"
     ]
    },
    {
     "name": "stdout",
     "output_type": "stream",
     "text": [
      "INFO:tensorflow:2018-06-07 16:41:04.870350: Step 390: Validation accuracy = 87.0% (N=100)\n"
     ]
    },
    {
     "name": "stderr",
     "output_type": "stream",
     "text": [
      "INFO:tensorflow:2018-06-07 16:41:04.870350: Step 390: Validation accuracy = 87.0% (N=100)\n"
     ]
    },
    {
     "name": "stdout",
     "output_type": "stream",
     "text": [
      "INFO:tensorflow:2018-06-07 16:41:05.346826: Step 400: Train accuracy = 100.0%\n"
     ]
    },
    {
     "name": "stderr",
     "output_type": "stream",
     "text": [
      "INFO:tensorflow:2018-06-07 16:41:05.346826: Step 400: Train accuracy = 100.0%\n"
     ]
    },
    {
     "name": "stdout",
     "output_type": "stream",
     "text": [
      "INFO:tensorflow:2018-06-07 16:41:05.347930: Step 400: Cross entropy = 0.001039\n"
     ]
    },
    {
     "name": "stderr",
     "output_type": "stream",
     "text": [
      "INFO:tensorflow:2018-06-07 16:41:05.347930: Step 400: Cross entropy = 0.001039\n"
     ]
    },
    {
     "name": "stdout",
     "output_type": "stream",
     "text": [
      "INFO:tensorflow:2018-06-07 16:41:05.398972: Step 400: Validation accuracy = 89.0% (N=100)\n"
     ]
    },
    {
     "name": "stderr",
     "output_type": "stream",
     "text": [
      "INFO:tensorflow:2018-06-07 16:41:05.398972: Step 400: Validation accuracy = 89.0% (N=100)\n"
     ]
    },
    {
     "name": "stdout",
     "output_type": "stream",
     "text": [
      "INFO:tensorflow:2018-06-07 16:41:05.843463: Step 410: Train accuracy = 100.0%\n"
     ]
    },
    {
     "name": "stderr",
     "output_type": "stream",
     "text": [
      "INFO:tensorflow:2018-06-07 16:41:05.843463: Step 410: Train accuracy = 100.0%\n"
     ]
    },
    {
     "name": "stdout",
     "output_type": "stream",
     "text": [
      "INFO:tensorflow:2018-06-07 16:41:05.845243: Step 410: Cross entropy = 0.000986\n"
     ]
    },
    {
     "name": "stderr",
     "output_type": "stream",
     "text": [
      "INFO:tensorflow:2018-06-07 16:41:05.845243: Step 410: Cross entropy = 0.000986\n"
     ]
    },
    {
     "name": "stdout",
     "output_type": "stream",
     "text": [
      "INFO:tensorflow:2018-06-07 16:41:05.897544: Step 410: Validation accuracy = 92.0% (N=100)\n"
     ]
    },
    {
     "name": "stderr",
     "output_type": "stream",
     "text": [
      "INFO:tensorflow:2018-06-07 16:41:05.897544: Step 410: Validation accuracy = 92.0% (N=100)\n"
     ]
    },
    {
     "name": "stdout",
     "output_type": "stream",
     "text": [
      "INFO:tensorflow:2018-06-07 16:41:06.358761: Step 420: Train accuracy = 100.0%\n"
     ]
    },
    {
     "name": "stderr",
     "output_type": "stream",
     "text": [
      "INFO:tensorflow:2018-06-07 16:41:06.358761: Step 420: Train accuracy = 100.0%\n"
     ]
    },
    {
     "name": "stdout",
     "output_type": "stream",
     "text": [
      "INFO:tensorflow:2018-06-07 16:41:06.359964: Step 420: Cross entropy = 0.001248\n"
     ]
    },
    {
     "name": "stderr",
     "output_type": "stream",
     "text": [
      "INFO:tensorflow:2018-06-07 16:41:06.359964: Step 420: Cross entropy = 0.001248\n"
     ]
    },
    {
     "name": "stdout",
     "output_type": "stream",
     "text": [
      "INFO:tensorflow:2018-06-07 16:41:06.415358: Step 420: Validation accuracy = 91.0% (N=100)\n"
     ]
    },
    {
     "name": "stderr",
     "output_type": "stream",
     "text": [
      "INFO:tensorflow:2018-06-07 16:41:06.415358: Step 420: Validation accuracy = 91.0% (N=100)\n"
     ]
    },
    {
     "name": "stdout",
     "output_type": "stream",
     "text": [
      "INFO:tensorflow:2018-06-07 16:41:06.889059: Step 430: Train accuracy = 100.0%\n"
     ]
    },
    {
     "name": "stderr",
     "output_type": "stream",
     "text": [
      "INFO:tensorflow:2018-06-07 16:41:06.889059: Step 430: Train accuracy = 100.0%\n"
     ]
    },
    {
     "name": "stdout",
     "output_type": "stream",
     "text": [
      "INFO:tensorflow:2018-06-07 16:41:06.890391: Step 430: Cross entropy = 0.001228\n"
     ]
    },
    {
     "name": "stderr",
     "output_type": "stream",
     "text": [
      "INFO:tensorflow:2018-06-07 16:41:06.890391: Step 430: Cross entropy = 0.001228\n"
     ]
    },
    {
     "name": "stdout",
     "output_type": "stream",
     "text": [
      "INFO:tensorflow:2018-06-07 16:41:06.943099: Step 430: Validation accuracy = 88.0% (N=100)\n"
     ]
    },
    {
     "name": "stderr",
     "output_type": "stream",
     "text": [
      "INFO:tensorflow:2018-06-07 16:41:06.943099: Step 430: Validation accuracy = 88.0% (N=100)\n"
     ]
    },
    {
     "name": "stdout",
     "output_type": "stream",
     "text": [
      "INFO:tensorflow:2018-06-07 16:41:07.370392: Step 440: Train accuracy = 100.0%\n"
     ]
    },
    {
     "name": "stderr",
     "output_type": "stream",
     "text": [
      "INFO:tensorflow:2018-06-07 16:41:07.370392: Step 440: Train accuracy = 100.0%\n"
     ]
    },
    {
     "name": "stdout",
     "output_type": "stream",
     "text": [
      "INFO:tensorflow:2018-06-07 16:41:07.371740: Step 440: Cross entropy = 0.001107\n"
     ]
    },
    {
     "name": "stderr",
     "output_type": "stream",
     "text": [
      "INFO:tensorflow:2018-06-07 16:41:07.371740: Step 440: Cross entropy = 0.001107\n"
     ]
    },
    {
     "name": "stdout",
     "output_type": "stream",
     "text": [
      "INFO:tensorflow:2018-06-07 16:41:07.424326: Step 440: Validation accuracy = 86.0% (N=100)\n"
     ]
    },
    {
     "name": "stderr",
     "output_type": "stream",
     "text": [
      "INFO:tensorflow:2018-06-07 16:41:07.424326: Step 440: Validation accuracy = 86.0% (N=100)\n"
     ]
    },
    {
     "name": "stdout",
     "output_type": "stream",
     "text": [
      "INFO:tensorflow:2018-06-07 16:41:07.894148: Step 450: Train accuracy = 100.0%\n"
     ]
    },
    {
     "name": "stderr",
     "output_type": "stream",
     "text": [
      "INFO:tensorflow:2018-06-07 16:41:07.894148: Step 450: Train accuracy = 100.0%\n"
     ]
    },
    {
     "name": "stdout",
     "output_type": "stream",
     "text": [
      "INFO:tensorflow:2018-06-07 16:41:07.895879: Step 450: Cross entropy = 0.001277\n"
     ]
    },
    {
     "name": "stderr",
     "output_type": "stream",
     "text": [
      "INFO:tensorflow:2018-06-07 16:41:07.895879: Step 450: Cross entropy = 0.001277\n"
     ]
    },
    {
     "name": "stdout",
     "output_type": "stream",
     "text": [
      "INFO:tensorflow:2018-06-07 16:41:07.953435: Step 450: Validation accuracy = 86.0% (N=100)\n"
     ]
    },
    {
     "name": "stderr",
     "output_type": "stream",
     "text": [
      "INFO:tensorflow:2018-06-07 16:41:07.953435: Step 450: Validation accuracy = 86.0% (N=100)\n"
     ]
    },
    {
     "name": "stdout",
     "output_type": "stream",
     "text": [
      "INFO:tensorflow:2018-06-07 16:41:08.417629: Step 460: Train accuracy = 100.0%\n"
     ]
    },
    {
     "name": "stderr",
     "output_type": "stream",
     "text": [
      "INFO:tensorflow:2018-06-07 16:41:08.417629: Step 460: Train accuracy = 100.0%\n"
     ]
    },
    {
     "name": "stdout",
     "output_type": "stream",
     "text": [
      "INFO:tensorflow:2018-06-07 16:41:08.419111: Step 460: Cross entropy = 0.001117\n"
     ]
    },
    {
     "name": "stderr",
     "output_type": "stream",
     "text": [
      "INFO:tensorflow:2018-06-07 16:41:08.419111: Step 460: Cross entropy = 0.001117\n"
     ]
    },
    {
     "name": "stdout",
     "output_type": "stream",
     "text": [
      "INFO:tensorflow:2018-06-07 16:41:08.471487: Step 460: Validation accuracy = 87.0% (N=100)\n"
     ]
    },
    {
     "name": "stderr",
     "output_type": "stream",
     "text": [
      "INFO:tensorflow:2018-06-07 16:41:08.471487: Step 460: Validation accuracy = 87.0% (N=100)\n"
     ]
    },
    {
     "name": "stdout",
     "output_type": "stream",
     "text": [
      "INFO:tensorflow:2018-06-07 16:41:08.923895: Step 470: Train accuracy = 100.0%\n"
     ]
    },
    {
     "name": "stderr",
     "output_type": "stream",
     "text": [
      "INFO:tensorflow:2018-06-07 16:41:08.923895: Step 470: Train accuracy = 100.0%\n"
     ]
    },
    {
     "name": "stdout",
     "output_type": "stream",
     "text": [
      "INFO:tensorflow:2018-06-07 16:41:08.925003: Step 470: Cross entropy = 0.001047\n"
     ]
    },
    {
     "name": "stderr",
     "output_type": "stream",
     "text": [
      "INFO:tensorflow:2018-06-07 16:41:08.925003: Step 470: Cross entropy = 0.001047\n"
     ]
    },
    {
     "name": "stdout",
     "output_type": "stream",
     "text": [
      "INFO:tensorflow:2018-06-07 16:41:08.973902: Step 470: Validation accuracy = 92.0% (N=100)\n"
     ]
    },
    {
     "name": "stderr",
     "output_type": "stream",
     "text": [
      "INFO:tensorflow:2018-06-07 16:41:08.973902: Step 470: Validation accuracy = 92.0% (N=100)\n"
     ]
    },
    {
     "name": "stdout",
     "output_type": "stream",
     "text": [
      "INFO:tensorflow:2018-06-07 16:41:09.440189: Step 480: Train accuracy = 100.0%\n"
     ]
    },
    {
     "name": "stderr",
     "output_type": "stream",
     "text": [
      "INFO:tensorflow:2018-06-07 16:41:09.440189: Step 480: Train accuracy = 100.0%\n"
     ]
    },
    {
     "name": "stdout",
     "output_type": "stream",
     "text": [
      "INFO:tensorflow:2018-06-07 16:41:09.441249: Step 480: Cross entropy = 0.001168\n"
     ]
    },
    {
     "name": "stderr",
     "output_type": "stream",
     "text": [
      "INFO:tensorflow:2018-06-07 16:41:09.441249: Step 480: Cross entropy = 0.001168\n"
     ]
    },
    {
     "name": "stdout",
     "output_type": "stream",
     "text": [
      "INFO:tensorflow:2018-06-07 16:41:09.493111: Step 480: Validation accuracy = 91.0% (N=100)\n"
     ]
    },
    {
     "name": "stderr",
     "output_type": "stream",
     "text": [
      "INFO:tensorflow:2018-06-07 16:41:09.493111: Step 480: Validation accuracy = 91.0% (N=100)\n"
     ]
    },
    {
     "name": "stdout",
     "output_type": "stream",
     "text": [
      "INFO:tensorflow:2018-06-07 16:41:09.961292: Step 490: Train accuracy = 100.0%\n"
     ]
    },
    {
     "name": "stderr",
     "output_type": "stream",
     "text": [
      "INFO:tensorflow:2018-06-07 16:41:09.961292: Step 490: Train accuracy = 100.0%\n"
     ]
    },
    {
     "name": "stdout",
     "output_type": "stream",
     "text": [
      "INFO:tensorflow:2018-06-07 16:41:09.963254: Step 490: Cross entropy = 0.001400\n"
     ]
    },
    {
     "name": "stderr",
     "output_type": "stream",
     "text": [
      "INFO:tensorflow:2018-06-07 16:41:09.963254: Step 490: Cross entropy = 0.001400\n"
     ]
    },
    {
     "name": "stdout",
     "output_type": "stream",
     "text": [
      "INFO:tensorflow:2018-06-07 16:41:10.016021: Step 490: Validation accuracy = 88.0% (N=100)\n"
     ]
    },
    {
     "name": "stderr",
     "output_type": "stream",
     "text": [
      "INFO:tensorflow:2018-06-07 16:41:10.016021: Step 490: Validation accuracy = 88.0% (N=100)\n"
     ]
    },
    {
     "name": "stdout",
     "output_type": "stream",
     "text": [
      "INFO:tensorflow:2018-06-07 16:41:10.441434: Step 499: Train accuracy = 100.0%\n"
     ]
    },
    {
     "name": "stderr",
     "output_type": "stream",
     "text": [
      "INFO:tensorflow:2018-06-07 16:41:10.441434: Step 499: Train accuracy = 100.0%\n"
     ]
    },
    {
     "name": "stdout",
     "output_type": "stream",
     "text": [
      "INFO:tensorflow:2018-06-07 16:41:10.442626: Step 499: Cross entropy = 0.000691\n"
     ]
    },
    {
     "name": "stderr",
     "output_type": "stream",
     "text": [
      "INFO:tensorflow:2018-06-07 16:41:10.442626: Step 499: Cross entropy = 0.000691\n"
     ]
    },
    {
     "name": "stdout",
     "output_type": "stream",
     "text": [
      "INFO:tensorflow:2018-06-07 16:41:10.492462: Step 499: Validation accuracy = 89.0% (N=100)\n"
     ]
    },
    {
     "name": "stderr",
     "output_type": "stream",
     "text": [
      "INFO:tensorflow:2018-06-07 16:41:10.492462: Step 499: Validation accuracy = 89.0% (N=100)\n"
     ]
    },
    {
     "name": "stdout",
     "output_type": "stream",
     "text": [
      "INFO:tensorflow:Final test accuracy = 100.0% (N=7)\n"
     ]
    },
    {
     "name": "stderr",
     "output_type": "stream",
     "text": [
      "INFO:tensorflow:Final test accuracy = 100.0% (N=7)\n"
     ]
    },
    {
     "name": "stdout",
     "output_type": "stream",
     "text": [
      "INFO:tensorflow:Froze 2 variables.\n"
     ]
    },
    {
     "name": "stderr",
     "output_type": "stream",
     "text": [
      "INFO:tensorflow:Froze 2 variables.\n"
     ]
    },
    {
     "name": "stdout",
     "output_type": "stream",
     "text": [
      "Converted 2 variables to const ops.\n"
     ]
    }
   ],
   "source": [
    "%run -i \"retrain.py\" \\\n",
    "   --bottleneck_dir=tf_files/bottlenecks --how_many_training_steps=500 \\\n",
    "   --model_dir=tf_files/models/  --summaries_dir=tf_files/training_summaries/ \\\n",
    "   --output_graph=tf_files/retrained_graph.pb   --output_labels=tf_files/retrained_labels.txt --architecture=\"{ARCHITECTURE}\"  \\\n",
    "   --image_dir=data"
   ]
  },
  {
   "cell_type": "markdown",
   "metadata": {},
   "source": [
    "Testeamos el entrenamiento. En este caso esperamos que infiera que el personaje de la imagen sea Maradona."
   ]
  },
  {
   "cell_type": "code",
   "execution_count": 40,
   "metadata": {},
   "outputs": [
    {
     "name": "stdout",
     "output_type": "stream",
     "text": [
      "\n",
      "Evaluation time (1-image): 0.170s\n",
      "\n",
      "maradona (score=0.99992)\n",
      "messi (score=0.00008)\n"
     ]
    }
   ],
   "source": [
    "%run -i label_image.py --graph=tf_files/retrained_graph.pb --labels=tf_files/retrained_labels.txt --image=data/maradona.jpg"
   ]
  },
  {
   "cell_type": "markdown",
   "metadata": {},
   "source": [
    "Luego del entrenamiento, convertiremos el grafo generado a un modelo CoreML que puede correr en dispositivos con IOS."
   ]
  },
  {
   "cell_type": "code",
   "execution_count": 41,
   "metadata": {},
   "outputs": [],
   "source": [
    "import tfcoreml as tf_converter\n"
   ]
  },
  {
   "cell_type": "code",
   "execution_count": 42,
   "metadata": {},
   "outputs": [
    {
     "name": "stdout",
     "output_type": "stream",
     "text": [
      "Shapes not found for 4 tensors. Executing graph to determine shapes. \n",
      "Automatic shape interpretation succeeded for input blob input:0\n",
      "1/560: Analysing op name: MobilenetV1/Predictions/Reshape/shape ( type:  Const )\n",
      "2/560: Analysing op name: MobilenetV1/Logits/Conv2d_1c_1x1/biases ( type:  Const )\n",
      "3/560: Analysing op name: MobilenetV1/Logits/Conv2d_1c_1x1/biases/read ( type:  Identity )\n",
      "4/560: Analysing op name: MobilenetV1/Logits/Conv2d_1c_1x1/weights ( type:  Const )\n",
      "5/560: Analysing op name: MobilenetV1/Logits/Conv2d_1c_1x1/weights/read ( type:  Identity )\n",
      "6/560: Analysing op name: MobilenetV1/MobilenetV1/Conv2d_13_pointwise/BatchNorm/batchnorm/add/y ( type:  Const )\n",
      "7/560: Analysing op name: MobilenetV1/Conv2d_13_pointwise/BatchNorm/moving_variance ( type:  Const )\n",
      "8/560: Analysing op name: MobilenetV1/Conv2d_13_pointwise/BatchNorm/moving_variance/read ( type:  Identity )\n",
      "9/560: Analysing op name: MobilenetV1/MobilenetV1/Conv2d_13_pointwise/BatchNorm/batchnorm/add ( type:  Add )\n",
      "10/560: Analysing op name: MobilenetV1/MobilenetV1/Conv2d_13_pointwise/BatchNorm/batchnorm/Rsqrt ( type:  Rsqrt )\n",
      "11/560: Analysing op name: MobilenetV1/Conv2d_13_pointwise/BatchNorm/moving_mean ( type:  Const )\n",
      "12/560: Analysing op name: MobilenetV1/Conv2d_13_pointwise/BatchNorm/moving_mean/read ( type:  Identity )\n",
      "13/560: Analysing op name: MobilenetV1/Conv2d_13_pointwise/BatchNorm/gamma ( type:  Const )\n",
      "14/560: Analysing op name: MobilenetV1/Conv2d_13_pointwise/BatchNorm/gamma/read ( type:  Identity )\n",
      "15/560: Analysing op name: MobilenetV1/MobilenetV1/Conv2d_13_pointwise/BatchNorm/batchnorm/mul ( type:  Mul )\n",
      "16/560: Analysing op name: MobilenetV1/MobilenetV1/Conv2d_13_pointwise/BatchNorm/batchnorm/mul_2 ( type:  Mul )\n",
      "17/560: Analysing op name: MobilenetV1/Conv2d_13_pointwise/BatchNorm/beta ( type:  Const )\n",
      "18/560: Analysing op name: MobilenetV1/Conv2d_13_pointwise/BatchNorm/beta/read ( type:  Identity )\n",
      "19/560: Analysing op name: MobilenetV1/MobilenetV1/Conv2d_13_pointwise/BatchNorm/batchnorm/sub ( type:  Sub )\n",
      "20/560: Analysing op name: MobilenetV1/Conv2d_13_pointwise/weights ( type:  Const )\n",
      "21/560: Analysing op name: MobilenetV1/Conv2d_13_pointwise/weights/read ( type:  Identity )\n",
      "22/560: Analysing op name: MobilenetV1/MobilenetV1/Conv2d_13_depthwise/BatchNorm/batchnorm/add/y ( type:  Const )\n",
      "23/560: Analysing op name: MobilenetV1/Conv2d_13_depthwise/BatchNorm/moving_variance ( type:  Const )\n",
      "24/560: Analysing op name: MobilenetV1/Conv2d_13_depthwise/BatchNorm/moving_variance/read ( type:  Identity )\n",
      "25/560: Analysing op name: MobilenetV1/MobilenetV1/Conv2d_13_depthwise/BatchNorm/batchnorm/add ( type:  Add )\n",
      "26/560: Analysing op name: MobilenetV1/MobilenetV1/Conv2d_13_depthwise/BatchNorm/batchnorm/Rsqrt ( type:  Rsqrt )\n",
      "27/560: Analysing op name: MobilenetV1/Conv2d_13_depthwise/BatchNorm/moving_mean ( type:  Const )\n",
      "28/560: Analysing op name: MobilenetV1/Conv2d_13_depthwise/BatchNorm/moving_mean/read ( type:  Identity )\n",
      "29/560: Analysing op name: MobilenetV1/Conv2d_13_depthwise/BatchNorm/gamma ( type:  Const )\n",
      "30/560: Analysing op name: MobilenetV1/Conv2d_13_depthwise/BatchNorm/gamma/read ( type:  Identity )\n",
      "31/560: Analysing op name: MobilenetV1/MobilenetV1/Conv2d_13_depthwise/BatchNorm/batchnorm/mul ( type:  Mul )\n",
      "32/560: Analysing op name: MobilenetV1/MobilenetV1/Conv2d_13_depthwise/BatchNorm/batchnorm/mul_2 ( type:  Mul )\n",
      "33/560: Analysing op name: MobilenetV1/Conv2d_13_depthwise/BatchNorm/beta ( type:  Const )\n",
      "34/560: Analysing op name: MobilenetV1/Conv2d_13_depthwise/BatchNorm/beta/read ( type:  Identity )\n",
      "35/560: Analysing op name: MobilenetV1/MobilenetV1/Conv2d_13_depthwise/BatchNorm/batchnorm/sub ( type:  Sub )\n",
      "36/560: Analysing op name: MobilenetV1/Conv2d_13_depthwise/depthwise_weights ( type:  Const )\n",
      "37/560: Analysing op name: MobilenetV1/Conv2d_13_depthwise/depthwise_weights/read ( type:  Identity )\n",
      "38/560: Analysing op name: MobilenetV1/MobilenetV1/Conv2d_12_pointwise/BatchNorm/batchnorm/add/y ( type:  Const )\n",
      "39/560: Analysing op name: MobilenetV1/Conv2d_12_pointwise/BatchNorm/moving_variance ( type:  Const )\n",
      "40/560: Analysing op name: MobilenetV1/Conv2d_12_pointwise/BatchNorm/moving_variance/read ( type:  Identity )\n",
      "41/560: Analysing op name: MobilenetV1/MobilenetV1/Conv2d_12_pointwise/BatchNorm/batchnorm/add ( type:  Add )\n",
      "42/560: Analysing op name: MobilenetV1/MobilenetV1/Conv2d_12_pointwise/BatchNorm/batchnorm/Rsqrt ( type:  Rsqrt )\n",
      "43/560: Analysing op name: MobilenetV1/Conv2d_12_pointwise/BatchNorm/moving_mean ( type:  Const )\n",
      "44/560: Analysing op name: MobilenetV1/Conv2d_12_pointwise/BatchNorm/moving_mean/read ( type:  Identity )\n",
      "45/560: Analysing op name: MobilenetV1/Conv2d_12_pointwise/BatchNorm/gamma ( type:  Const )\n",
      "46/560: Analysing op name: MobilenetV1/Conv2d_12_pointwise/BatchNorm/gamma/read ( type:  Identity )\n",
      "47/560: Analysing op name: MobilenetV1/MobilenetV1/Conv2d_12_pointwise/BatchNorm/batchnorm/mul ( type:  Mul )\n",
      "48/560: Analysing op name: MobilenetV1/MobilenetV1/Conv2d_12_pointwise/BatchNorm/batchnorm/mul_2 ( type:  Mul )\n",
      "49/560: Analysing op name: MobilenetV1/Conv2d_12_pointwise/BatchNorm/beta ( type:  Const )\n",
      "50/560: Analysing op name: MobilenetV1/Conv2d_12_pointwise/BatchNorm/beta/read ( type:  Identity )\n",
      "51/560: Analysing op name: MobilenetV1/MobilenetV1/Conv2d_12_pointwise/BatchNorm/batchnorm/sub ( type:  Sub )\n",
      "52/560: Analysing op name: MobilenetV1/Conv2d_12_pointwise/weights ( type:  Const )\n",
      "53/560: Analysing op name: MobilenetV1/Conv2d_12_pointwise/weights/read ( type:  Identity )\n",
      "54/560: Analysing op name: MobilenetV1/MobilenetV1/Conv2d_12_depthwise/BatchNorm/batchnorm/add/y ( type:  Const )\n",
      "55/560: Analysing op name: MobilenetV1/Conv2d_12_depthwise/BatchNorm/moving_variance ( type:  Const )\n",
      "56/560: Analysing op name: MobilenetV1/Conv2d_12_depthwise/BatchNorm/moving_variance/read ( type:  Identity )\n",
      "57/560: Analysing op name: MobilenetV1/MobilenetV1/Conv2d_12_depthwise/BatchNorm/batchnorm/add ( type:  Add )\n",
      "58/560: Analysing op name: MobilenetV1/MobilenetV1/Conv2d_12_depthwise/BatchNorm/batchnorm/Rsqrt ( type:  Rsqrt )\n",
      "59/560: Analysing op name: MobilenetV1/Conv2d_12_depthwise/BatchNorm/moving_mean ( type:  Const )\n",
      "60/560: Analysing op name: MobilenetV1/Conv2d_12_depthwise/BatchNorm/moving_mean/read ( type:  Identity )\n",
      "61/560: Analysing op name: MobilenetV1/Conv2d_12_depthwise/BatchNorm/gamma ( type:  Const )\n",
      "62/560: Analysing op name: MobilenetV1/Conv2d_12_depthwise/BatchNorm/gamma/read ( type:  Identity )\n",
      "63/560: Analysing op name: MobilenetV1/MobilenetV1/Conv2d_12_depthwise/BatchNorm/batchnorm/mul ( type:  Mul )\n",
      "64/560: Analysing op name: MobilenetV1/MobilenetV1/Conv2d_12_depthwise/BatchNorm/batchnorm/mul_2 ( type:  Mul )\n",
      "65/560: Analysing op name: MobilenetV1/Conv2d_12_depthwise/BatchNorm/beta ( type:  Const )\n",
      "66/560: Analysing op name: MobilenetV1/Conv2d_12_depthwise/BatchNorm/beta/read ( type:  Identity )\n",
      "67/560: Analysing op name: MobilenetV1/MobilenetV1/Conv2d_12_depthwise/BatchNorm/batchnorm/sub ( type:  Sub )\n",
      "68/560: Analysing op name: MobilenetV1/Conv2d_12_depthwise/depthwise_weights ( type:  Const )\n",
      "69/560: Analysing op name: MobilenetV1/Conv2d_12_depthwise/depthwise_weights/read ( type:  Identity )\n",
      "70/560: Analysing op name: MobilenetV1/MobilenetV1/Conv2d_11_pointwise/BatchNorm/batchnorm/add/y ( type:  Const )\n",
      "71/560: Analysing op name: MobilenetV1/Conv2d_11_pointwise/BatchNorm/moving_variance ( type:  Const )\n",
      "72/560: Analysing op name: MobilenetV1/Conv2d_11_pointwise/BatchNorm/moving_variance/read ( type:  Identity )\n",
      "73/560: Analysing op name: MobilenetV1/MobilenetV1/Conv2d_11_pointwise/BatchNorm/batchnorm/add ( type:  Add )\n",
      "74/560: Analysing op name: MobilenetV1/MobilenetV1/Conv2d_11_pointwise/BatchNorm/batchnorm/Rsqrt ( type:  Rsqrt )\n",
      "75/560: Analysing op name: MobilenetV1/Conv2d_11_pointwise/BatchNorm/moving_mean ( type:  Const )\n",
      "76/560: Analysing op name: MobilenetV1/Conv2d_11_pointwise/BatchNorm/moving_mean/read ( type:  Identity )\n",
      "77/560: Analysing op name: MobilenetV1/Conv2d_11_pointwise/BatchNorm/gamma ( type:  Const )\n",
      "78/560: Analysing op name: MobilenetV1/Conv2d_11_pointwise/BatchNorm/gamma/read ( type:  Identity )\n",
      "79/560: Analysing op name: MobilenetV1/MobilenetV1/Conv2d_11_pointwise/BatchNorm/batchnorm/mul ( type:  Mul )\n",
      "80/560: Analysing op name: MobilenetV1/MobilenetV1/Conv2d_11_pointwise/BatchNorm/batchnorm/mul_2 ( type:  Mul )\n",
      "81/560: Analysing op name: MobilenetV1/Conv2d_11_pointwise/BatchNorm/beta ( type:  Const )\n",
      "82/560: Analysing op name: MobilenetV1/Conv2d_11_pointwise/BatchNorm/beta/read ( type:  Identity )\n",
      "83/560: Analysing op name: MobilenetV1/MobilenetV1/Conv2d_11_pointwise/BatchNorm/batchnorm/sub ( type:  Sub )\n",
      "84/560: Analysing op name: MobilenetV1/Conv2d_11_pointwise/weights ( type:  Const )\n",
      "85/560: Analysing op name: MobilenetV1/Conv2d_11_pointwise/weights/read ( type:  Identity )\n",
      "86/560: Analysing op name: MobilenetV1/MobilenetV1/Conv2d_11_depthwise/BatchNorm/batchnorm/add/y ( type:  Const )\n",
      "87/560: Analysing op name: MobilenetV1/Conv2d_11_depthwise/BatchNorm/moving_variance ( type:  Const )\n",
      "88/560: Analysing op name: MobilenetV1/Conv2d_11_depthwise/BatchNorm/moving_variance/read ( type:  Identity )\n",
      "89/560: Analysing op name: MobilenetV1/MobilenetV1/Conv2d_11_depthwise/BatchNorm/batchnorm/add ( type:  Add )\n",
      "90/560: Analysing op name: MobilenetV1/MobilenetV1/Conv2d_11_depthwise/BatchNorm/batchnorm/Rsqrt ( type:  Rsqrt )\n",
      "91/560: Analysing op name: MobilenetV1/Conv2d_11_depthwise/BatchNorm/moving_mean ( type:  Const )\n",
      "92/560: Analysing op name: MobilenetV1/Conv2d_11_depthwise/BatchNorm/moving_mean/read ( type:  Identity )\n",
      "93/560: Analysing op name: MobilenetV1/Conv2d_11_depthwise/BatchNorm/gamma ( type:  Const )\n",
      "94/560: Analysing op name: MobilenetV1/Conv2d_11_depthwise/BatchNorm/gamma/read ( type:  Identity )\n",
      "95/560: Analysing op name: MobilenetV1/MobilenetV1/Conv2d_11_depthwise/BatchNorm/batchnorm/mul ( type:  Mul )\n",
      "96/560: Analysing op name: MobilenetV1/MobilenetV1/Conv2d_11_depthwise/BatchNorm/batchnorm/mul_2 ( type:  Mul )\n",
      "97/560: Analysing op name: MobilenetV1/Conv2d_11_depthwise/BatchNorm/beta ( type:  Const )\n",
      "98/560: Analysing op name: MobilenetV1/Conv2d_11_depthwise/BatchNorm/beta/read ( type:  Identity )\n",
      "99/560: Analysing op name: MobilenetV1/MobilenetV1/Conv2d_11_depthwise/BatchNorm/batchnorm/sub ( type:  Sub )\n",
      "100/560: Analysing op name: MobilenetV1/Conv2d_11_depthwise/depthwise_weights ( type:  Const )\n",
      "101/560: Analysing op name: MobilenetV1/Conv2d_11_depthwise/depthwise_weights/read ( type:  Identity )\n",
      "102/560: Analysing op name: MobilenetV1/MobilenetV1/Conv2d_10_pointwise/BatchNorm/batchnorm/add/y ( type:  Const )\n",
      "103/560: Analysing op name: MobilenetV1/Conv2d_10_pointwise/BatchNorm/moving_variance ( type:  Const )\n",
      "104/560: Analysing op name: MobilenetV1/Conv2d_10_pointwise/BatchNorm/moving_variance/read ( type:  Identity )\n",
      "105/560: Analysing op name: MobilenetV1/MobilenetV1/Conv2d_10_pointwise/BatchNorm/batchnorm/add ( type:  Add )\n",
      "106/560: Analysing op name: MobilenetV1/MobilenetV1/Conv2d_10_pointwise/BatchNorm/batchnorm/Rsqrt ( type:  Rsqrt )\n",
      "107/560: Analysing op name: MobilenetV1/Conv2d_10_pointwise/BatchNorm/moving_mean ( type:  Const )\n",
      "108/560: Analysing op name: MobilenetV1/Conv2d_10_pointwise/BatchNorm/moving_mean/read ( type:  Identity )\n",
      "109/560: Analysing op name: MobilenetV1/Conv2d_10_pointwise/BatchNorm/gamma ( type:  Const )\n",
      "110/560: Analysing op name: MobilenetV1/Conv2d_10_pointwise/BatchNorm/gamma/read ( type:  Identity )\n",
      "111/560: Analysing op name: MobilenetV1/MobilenetV1/Conv2d_10_pointwise/BatchNorm/batchnorm/mul ( type:  Mul )\n",
      "112/560: Analysing op name: MobilenetV1/MobilenetV1/Conv2d_10_pointwise/BatchNorm/batchnorm/mul_2 ( type:  Mul )\n",
      "113/560: Analysing op name: MobilenetV1/Conv2d_10_pointwise/BatchNorm/beta ( type:  Const )\n",
      "114/560: Analysing op name: MobilenetV1/Conv2d_10_pointwise/BatchNorm/beta/read ( type:  Identity )\n",
      "115/560: Analysing op name: MobilenetV1/MobilenetV1/Conv2d_10_pointwise/BatchNorm/batchnorm/sub ( type:  Sub )\n",
      "116/560: Analysing op name: MobilenetV1/Conv2d_10_pointwise/weights ( type:  Const )\n",
      "117/560: Analysing op name: MobilenetV1/Conv2d_10_pointwise/weights/read ( type:  Identity )\n",
      "118/560: Analysing op name: MobilenetV1/MobilenetV1/Conv2d_10_depthwise/BatchNorm/batchnorm/add/y ( type:  Const )\n",
      "119/560: Analysing op name: MobilenetV1/Conv2d_10_depthwise/BatchNorm/moving_variance ( type:  Const )\n",
      "120/560: Analysing op name: MobilenetV1/Conv2d_10_depthwise/BatchNorm/moving_variance/read ( type:  Identity )\n",
      "121/560: Analysing op name: MobilenetV1/MobilenetV1/Conv2d_10_depthwise/BatchNorm/batchnorm/add ( type:  Add )\n",
      "122/560: Analysing op name: MobilenetV1/MobilenetV1/Conv2d_10_depthwise/BatchNorm/batchnorm/Rsqrt ( type:  Rsqrt )\n",
      "123/560: Analysing op name: MobilenetV1/Conv2d_10_depthwise/BatchNorm/moving_mean ( type:  Const )\n",
      "124/560: Analysing op name: MobilenetV1/Conv2d_10_depthwise/BatchNorm/moving_mean/read ( type:  Identity )\n",
      "125/560: Analysing op name: MobilenetV1/Conv2d_10_depthwise/BatchNorm/gamma ( type:  Const )\n",
      "126/560: Analysing op name: MobilenetV1/Conv2d_10_depthwise/BatchNorm/gamma/read ( type:  Identity )\n",
      "127/560: Analysing op name: MobilenetV1/MobilenetV1/Conv2d_10_depthwise/BatchNorm/batchnorm/mul ( type:  Mul )\n",
      "128/560: Analysing op name: MobilenetV1/MobilenetV1/Conv2d_10_depthwise/BatchNorm/batchnorm/mul_2 ( type:  Mul )\n",
      "129/560: Analysing op name: MobilenetV1/Conv2d_10_depthwise/BatchNorm/beta ( type:  Const )\n",
      "130/560: Analysing op name: MobilenetV1/Conv2d_10_depthwise/BatchNorm/beta/read ( type:  Identity )\n",
      "131/560: Analysing op name: MobilenetV1/MobilenetV1/Conv2d_10_depthwise/BatchNorm/batchnorm/sub ( type:  Sub )\n",
      "132/560: Analysing op name: MobilenetV1/Conv2d_10_depthwise/depthwise_weights ( type:  Const )\n",
      "133/560: Analysing op name: MobilenetV1/Conv2d_10_depthwise/depthwise_weights/read ( type:  Identity )\n",
      "134/560: Analysing op name: MobilenetV1/MobilenetV1/Conv2d_9_pointwise/BatchNorm/batchnorm/add/y ( type:  Const )\n",
      "135/560: Analysing op name: MobilenetV1/Conv2d_9_pointwise/BatchNorm/moving_variance ( type:  Const )\n",
      "136/560: Analysing op name: MobilenetV1/Conv2d_9_pointwise/BatchNorm/moving_variance/read ( type:  Identity )\n",
      "137/560: Analysing op name: MobilenetV1/MobilenetV1/Conv2d_9_pointwise/BatchNorm/batchnorm/add ( type:  Add )\n",
      "138/560: Analysing op name: MobilenetV1/MobilenetV1/Conv2d_9_pointwise/BatchNorm/batchnorm/Rsqrt ( type:  Rsqrt )\n",
      "139/560: Analysing op name: MobilenetV1/Conv2d_9_pointwise/BatchNorm/moving_mean ( type:  Const )\n",
      "140/560: Analysing op name: MobilenetV1/Conv2d_9_pointwise/BatchNorm/moving_mean/read ( type:  Identity )\n",
      "141/560: Analysing op name: MobilenetV1/Conv2d_9_pointwise/BatchNorm/gamma ( type:  Const )\n",
      "142/560: Analysing op name: MobilenetV1/Conv2d_9_pointwise/BatchNorm/gamma/read ( type:  Identity )\n",
      "143/560: Analysing op name: MobilenetV1/MobilenetV1/Conv2d_9_pointwise/BatchNorm/batchnorm/mul ( type:  Mul )\n",
      "144/560: Analysing op name: MobilenetV1/MobilenetV1/Conv2d_9_pointwise/BatchNorm/batchnorm/mul_2 ( type:  Mul )\n",
      "145/560: Analysing op name: MobilenetV1/Conv2d_9_pointwise/BatchNorm/beta ( type:  Const )\n",
      "146/560: Analysing op name: MobilenetV1/Conv2d_9_pointwise/BatchNorm/beta/read ( type:  Identity )\n",
      "147/560: Analysing op name: MobilenetV1/MobilenetV1/Conv2d_9_pointwise/BatchNorm/batchnorm/sub ( type:  Sub )\n",
      "148/560: Analysing op name: MobilenetV1/Conv2d_9_pointwise/weights ( type:  Const )\n",
      "149/560: Analysing op name: MobilenetV1/Conv2d_9_pointwise/weights/read ( type:  Identity )\n",
      "150/560: Analysing op name: MobilenetV1/MobilenetV1/Conv2d_9_depthwise/BatchNorm/batchnorm/add/y ( type:  Const )\n",
      "151/560: Analysing op name: MobilenetV1/Conv2d_9_depthwise/BatchNorm/moving_variance ( type:  Const )\n",
      "152/560: Analysing op name: MobilenetV1/Conv2d_9_depthwise/BatchNorm/moving_variance/read ( type:  Identity )\n",
      "153/560: Analysing op name: MobilenetV1/MobilenetV1/Conv2d_9_depthwise/BatchNorm/batchnorm/add ( type:  Add )\n",
      "154/560: Analysing op name: MobilenetV1/MobilenetV1/Conv2d_9_depthwise/BatchNorm/batchnorm/Rsqrt ( type:  Rsqrt )\n",
      "155/560: Analysing op name: MobilenetV1/Conv2d_9_depthwise/BatchNorm/moving_mean ( type:  Const )\n",
      "156/560: Analysing op name: MobilenetV1/Conv2d_9_depthwise/BatchNorm/moving_mean/read ( type:  Identity )\n",
      "157/560: Analysing op name: MobilenetV1/Conv2d_9_depthwise/BatchNorm/gamma ( type:  Const )\n",
      "158/560: Analysing op name: MobilenetV1/Conv2d_9_depthwise/BatchNorm/gamma/read ( type:  Identity )\n",
      "159/560: Analysing op name: MobilenetV1/MobilenetV1/Conv2d_9_depthwise/BatchNorm/batchnorm/mul ( type:  Mul )\n",
      "160/560: Analysing op name: MobilenetV1/MobilenetV1/Conv2d_9_depthwise/BatchNorm/batchnorm/mul_2 ( type:  Mul )\n",
      "161/560: Analysing op name: MobilenetV1/Conv2d_9_depthwise/BatchNorm/beta ( type:  Const )\n",
      "162/560: Analysing op name: MobilenetV1/Conv2d_9_depthwise/BatchNorm/beta/read ( type:  Identity )\n",
      "163/560: Analysing op name: MobilenetV1/MobilenetV1/Conv2d_9_depthwise/BatchNorm/batchnorm/sub ( type:  Sub )\n",
      "164/560: Analysing op name: MobilenetV1/Conv2d_9_depthwise/depthwise_weights ( type:  Const )\n",
      "165/560: Analysing op name: MobilenetV1/Conv2d_9_depthwise/depthwise_weights/read ( type:  Identity )\n",
      "166/560: Analysing op name: MobilenetV1/MobilenetV1/Conv2d_8_pointwise/BatchNorm/batchnorm/add/y ( type:  Const )\n",
      "167/560: Analysing op name: MobilenetV1/Conv2d_8_pointwise/BatchNorm/moving_variance ( type:  Const )\n",
      "168/560: Analysing op name: MobilenetV1/Conv2d_8_pointwise/BatchNorm/moving_variance/read ( type:  Identity )\n",
      "169/560: Analysing op name: MobilenetV1/MobilenetV1/Conv2d_8_pointwise/BatchNorm/batchnorm/add ( type:  Add )\n",
      "170/560: Analysing op name: MobilenetV1/MobilenetV1/Conv2d_8_pointwise/BatchNorm/batchnorm/Rsqrt ( type:  Rsqrt )\n",
      "171/560: Analysing op name: MobilenetV1/Conv2d_8_pointwise/BatchNorm/moving_mean ( type:  Const )\n",
      "172/560: Analysing op name: MobilenetV1/Conv2d_8_pointwise/BatchNorm/moving_mean/read ( type:  Identity )\n",
      "173/560: Analysing op name: MobilenetV1/Conv2d_8_pointwise/BatchNorm/gamma ( type:  Const )\n",
      "174/560: Analysing op name: MobilenetV1/Conv2d_8_pointwise/BatchNorm/gamma/read ( type:  Identity )\n",
      "175/560: Analysing op name: MobilenetV1/MobilenetV1/Conv2d_8_pointwise/BatchNorm/batchnorm/mul ( type:  Mul )\n",
      "176/560: Analysing op name: MobilenetV1/MobilenetV1/Conv2d_8_pointwise/BatchNorm/batchnorm/mul_2 ( type:  Mul )\n",
      "177/560: Analysing op name: MobilenetV1/Conv2d_8_pointwise/BatchNorm/beta ( type:  Const )\n",
      "178/560: Analysing op name: MobilenetV1/Conv2d_8_pointwise/BatchNorm/beta/read ( type:  Identity )\n",
      "179/560: Analysing op name: MobilenetV1/MobilenetV1/Conv2d_8_pointwise/BatchNorm/batchnorm/sub ( type:  Sub )\n",
      "180/560: Analysing op name: MobilenetV1/Conv2d_8_pointwise/weights ( type:  Const )\n",
      "181/560: Analysing op name: MobilenetV1/Conv2d_8_pointwise/weights/read ( type:  Identity )\n",
      "182/560: Analysing op name: MobilenetV1/MobilenetV1/Conv2d_8_depthwise/BatchNorm/batchnorm/add/y ( type:  Const )\n",
      "183/560: Analysing op name: MobilenetV1/Conv2d_8_depthwise/BatchNorm/moving_variance ( type:  Const )\n",
      "184/560: Analysing op name: MobilenetV1/Conv2d_8_depthwise/BatchNorm/moving_variance/read ( type:  Identity )\n",
      "185/560: Analysing op name: MobilenetV1/MobilenetV1/Conv2d_8_depthwise/BatchNorm/batchnorm/add ( type:  Add )\n",
      "186/560: Analysing op name: MobilenetV1/MobilenetV1/Conv2d_8_depthwise/BatchNorm/batchnorm/Rsqrt ( type:  Rsqrt )\n",
      "187/560: Analysing op name: MobilenetV1/Conv2d_8_depthwise/BatchNorm/moving_mean ( type:  Const )\n",
      "188/560: Analysing op name: MobilenetV1/Conv2d_8_depthwise/BatchNorm/moving_mean/read ( type:  Identity )\n",
      "189/560: Analysing op name: MobilenetV1/Conv2d_8_depthwise/BatchNorm/gamma ( type:  Const )\n",
      "190/560: Analysing op name: MobilenetV1/Conv2d_8_depthwise/BatchNorm/gamma/read ( type:  Identity )\n",
      "191/560: Analysing op name: MobilenetV1/MobilenetV1/Conv2d_8_depthwise/BatchNorm/batchnorm/mul ( type:  Mul )\n",
      "192/560: Analysing op name: MobilenetV1/MobilenetV1/Conv2d_8_depthwise/BatchNorm/batchnorm/mul_2 ( type:  Mul )\n",
      "193/560: Analysing op name: MobilenetV1/Conv2d_8_depthwise/BatchNorm/beta ( type:  Const )\n",
      "194/560: Analysing op name: MobilenetV1/Conv2d_8_depthwise/BatchNorm/beta/read ( type:  Identity )\n",
      "195/560: Analysing op name: MobilenetV1/MobilenetV1/Conv2d_8_depthwise/BatchNorm/batchnorm/sub ( type:  Sub )\n",
      "196/560: Analysing op name: MobilenetV1/Conv2d_8_depthwise/depthwise_weights ( type:  Const )\n",
      "197/560: Analysing op name: MobilenetV1/Conv2d_8_depthwise/depthwise_weights/read ( type:  Identity )\n",
      "198/560: Analysing op name: MobilenetV1/MobilenetV1/Conv2d_7_pointwise/BatchNorm/batchnorm/add/y ( type:  Const )\n",
      "199/560: Analysing op name: MobilenetV1/Conv2d_7_pointwise/BatchNorm/moving_variance ( type:  Const )\n",
      "200/560: Analysing op name: MobilenetV1/Conv2d_7_pointwise/BatchNorm/moving_variance/read ( type:  Identity )\n",
      "201/560: Analysing op name: MobilenetV1/MobilenetV1/Conv2d_7_pointwise/BatchNorm/batchnorm/add ( type:  Add )\n",
      "202/560: Analysing op name: MobilenetV1/MobilenetV1/Conv2d_7_pointwise/BatchNorm/batchnorm/Rsqrt ( type:  Rsqrt )\n",
      "203/560: Analysing op name: MobilenetV1/Conv2d_7_pointwise/BatchNorm/moving_mean ( type:  Const )\n",
      "204/560: Analysing op name: MobilenetV1/Conv2d_7_pointwise/BatchNorm/moving_mean/read ( type:  Identity )\n",
      "205/560: Analysing op name: MobilenetV1/Conv2d_7_pointwise/BatchNorm/gamma ( type:  Const )\n",
      "206/560: Analysing op name: MobilenetV1/Conv2d_7_pointwise/BatchNorm/gamma/read ( type:  Identity )\n",
      "207/560: Analysing op name: MobilenetV1/MobilenetV1/Conv2d_7_pointwise/BatchNorm/batchnorm/mul ( type:  Mul )\n",
      "208/560: Analysing op name: MobilenetV1/MobilenetV1/Conv2d_7_pointwise/BatchNorm/batchnorm/mul_2 ( type:  Mul )\n",
      "209/560: Analysing op name: MobilenetV1/Conv2d_7_pointwise/BatchNorm/beta ( type:  Const )\n",
      "210/560: Analysing op name: MobilenetV1/Conv2d_7_pointwise/BatchNorm/beta/read ( type:  Identity )\n",
      "211/560: Analysing op name: MobilenetV1/MobilenetV1/Conv2d_7_pointwise/BatchNorm/batchnorm/sub ( type:  Sub )\n",
      "212/560: Analysing op name: MobilenetV1/Conv2d_7_pointwise/weights ( type:  Const )\n",
      "213/560: Analysing op name: MobilenetV1/Conv2d_7_pointwise/weights/read ( type:  Identity )\n",
      "214/560: Analysing op name: MobilenetV1/MobilenetV1/Conv2d_7_depthwise/BatchNorm/batchnorm/add/y ( type:  Const )\n",
      "215/560: Analysing op name: MobilenetV1/Conv2d_7_depthwise/BatchNorm/moving_variance ( type:  Const )\n",
      "216/560: Analysing op name: MobilenetV1/Conv2d_7_depthwise/BatchNorm/moving_variance/read ( type:  Identity )\n",
      "217/560: Analysing op name: MobilenetV1/MobilenetV1/Conv2d_7_depthwise/BatchNorm/batchnorm/add ( type:  Add )\n",
      "218/560: Analysing op name: MobilenetV1/MobilenetV1/Conv2d_7_depthwise/BatchNorm/batchnorm/Rsqrt ( type:  Rsqrt )\n",
      "219/560: Analysing op name: MobilenetV1/Conv2d_7_depthwise/BatchNorm/moving_mean ( type:  Const )\n",
      "220/560: Analysing op name: MobilenetV1/Conv2d_7_depthwise/BatchNorm/moving_mean/read ( type:  Identity )\n",
      "221/560: Analysing op name: MobilenetV1/Conv2d_7_depthwise/BatchNorm/gamma ( type:  Const )\n",
      "222/560: Analysing op name: MobilenetV1/Conv2d_7_depthwise/BatchNorm/gamma/read ( type:  Identity )\n",
      "223/560: Analysing op name: MobilenetV1/MobilenetV1/Conv2d_7_depthwise/BatchNorm/batchnorm/mul ( type:  Mul )\n",
      "224/560: Analysing op name: MobilenetV1/MobilenetV1/Conv2d_7_depthwise/BatchNorm/batchnorm/mul_2 ( type:  Mul )\n",
      "225/560: Analysing op name: MobilenetV1/Conv2d_7_depthwise/BatchNorm/beta ( type:  Const )\n",
      "226/560: Analysing op name: MobilenetV1/Conv2d_7_depthwise/BatchNorm/beta/read ( type:  Identity )\n",
      "227/560: Analysing op name: MobilenetV1/MobilenetV1/Conv2d_7_depthwise/BatchNorm/batchnorm/sub ( type:  Sub )\n",
      "228/560: Analysing op name: MobilenetV1/Conv2d_7_depthwise/depthwise_weights ( type:  Const )\n",
      "229/560: Analysing op name: MobilenetV1/Conv2d_7_depthwise/depthwise_weights/read ( type:  Identity )\n",
      "230/560: Analysing op name: MobilenetV1/MobilenetV1/Conv2d_6_pointwise/BatchNorm/batchnorm/add/y ( type:  Const )\n",
      "231/560: Analysing op name: MobilenetV1/Conv2d_6_pointwise/BatchNorm/moving_variance ( type:  Const )\n",
      "232/560: Analysing op name: MobilenetV1/Conv2d_6_pointwise/BatchNorm/moving_variance/read ( type:  Identity )\n",
      "233/560: Analysing op name: MobilenetV1/MobilenetV1/Conv2d_6_pointwise/BatchNorm/batchnorm/add ( type:  Add )\n",
      "234/560: Analysing op name: MobilenetV1/MobilenetV1/Conv2d_6_pointwise/BatchNorm/batchnorm/Rsqrt ( type:  Rsqrt )\n",
      "235/560: Analysing op name: MobilenetV1/Conv2d_6_pointwise/BatchNorm/moving_mean ( type:  Const )\n",
      "236/560: Analysing op name: MobilenetV1/Conv2d_6_pointwise/BatchNorm/moving_mean/read ( type:  Identity )\n",
      "237/560: Analysing op name: MobilenetV1/Conv2d_6_pointwise/BatchNorm/gamma ( type:  Const )\n",
      "238/560: Analysing op name: MobilenetV1/Conv2d_6_pointwise/BatchNorm/gamma/read ( type:  Identity )\n",
      "239/560: Analysing op name: MobilenetV1/MobilenetV1/Conv2d_6_pointwise/BatchNorm/batchnorm/mul ( type:  Mul )\n",
      "240/560: Analysing op name: MobilenetV1/MobilenetV1/Conv2d_6_pointwise/BatchNorm/batchnorm/mul_2 ( type:  Mul )\n",
      "241/560: Analysing op name: MobilenetV1/Conv2d_6_pointwise/BatchNorm/beta ( type:  Const )\n",
      "242/560: Analysing op name: MobilenetV1/Conv2d_6_pointwise/BatchNorm/beta/read ( type:  Identity )\n",
      "243/560: Analysing op name: MobilenetV1/MobilenetV1/Conv2d_6_pointwise/BatchNorm/batchnorm/sub ( type:  Sub )\n",
      "244/560: Analysing op name: MobilenetV1/Conv2d_6_pointwise/weights ( type:  Const )\n",
      "245/560: Analysing op name: MobilenetV1/Conv2d_6_pointwise/weights/read ( type:  Identity )\n",
      "246/560: Analysing op name: MobilenetV1/MobilenetV1/Conv2d_6_depthwise/BatchNorm/batchnorm/add/y ( type:  Const )\n",
      "247/560: Analysing op name: MobilenetV1/Conv2d_6_depthwise/BatchNorm/moving_variance ( type:  Const )\n",
      "248/560: Analysing op name: MobilenetV1/Conv2d_6_depthwise/BatchNorm/moving_variance/read ( type:  Identity )\n",
      "249/560: Analysing op name: MobilenetV1/MobilenetV1/Conv2d_6_depthwise/BatchNorm/batchnorm/add ( type:  Add )\n",
      "250/560: Analysing op name: MobilenetV1/MobilenetV1/Conv2d_6_depthwise/BatchNorm/batchnorm/Rsqrt ( type:  Rsqrt )\n",
      "251/560: Analysing op name: MobilenetV1/Conv2d_6_depthwise/BatchNorm/moving_mean ( type:  Const )\n",
      "252/560: Analysing op name: MobilenetV1/Conv2d_6_depthwise/BatchNorm/moving_mean/read ( type:  Identity )\n",
      "253/560: Analysing op name: MobilenetV1/Conv2d_6_depthwise/BatchNorm/gamma ( type:  Const )\n",
      "254/560: Analysing op name: MobilenetV1/Conv2d_6_depthwise/BatchNorm/gamma/read ( type:  Identity )\n",
      "255/560: Analysing op name: MobilenetV1/MobilenetV1/Conv2d_6_depthwise/BatchNorm/batchnorm/mul ( type:  Mul )\n",
      "256/560: Analysing op name: MobilenetV1/MobilenetV1/Conv2d_6_depthwise/BatchNorm/batchnorm/mul_2 ( type:  Mul )\n",
      "257/560: Analysing op name: MobilenetV1/Conv2d_6_depthwise/BatchNorm/beta ( type:  Const )\n",
      "258/560: Analysing op name: MobilenetV1/Conv2d_6_depthwise/BatchNorm/beta/read ( type:  Identity )\n",
      "259/560: Analysing op name: MobilenetV1/MobilenetV1/Conv2d_6_depthwise/BatchNorm/batchnorm/sub ( type:  Sub )\n",
      "260/560: Analysing op name: MobilenetV1/Conv2d_6_depthwise/depthwise_weights ( type:  Const )\n",
      "261/560: Analysing op name: MobilenetV1/Conv2d_6_depthwise/depthwise_weights/read ( type:  Identity )\n",
      "262/560: Analysing op name: MobilenetV1/MobilenetV1/Conv2d_5_pointwise/BatchNorm/batchnorm/add/y ( type:  Const )\n",
      "263/560: Analysing op name: MobilenetV1/Conv2d_5_pointwise/BatchNorm/moving_variance ( type:  Const )\n",
      "264/560: Analysing op name: MobilenetV1/Conv2d_5_pointwise/BatchNorm/moving_variance/read ( type:  Identity )\n",
      "265/560: Analysing op name: MobilenetV1/MobilenetV1/Conv2d_5_pointwise/BatchNorm/batchnorm/add ( type:  Add )\n",
      "266/560: Analysing op name: MobilenetV1/MobilenetV1/Conv2d_5_pointwise/BatchNorm/batchnorm/Rsqrt ( type:  Rsqrt )\n",
      "267/560: Analysing op name: MobilenetV1/Conv2d_5_pointwise/BatchNorm/moving_mean ( type:  Const )\n",
      "268/560: Analysing op name: MobilenetV1/Conv2d_5_pointwise/BatchNorm/moving_mean/read ( type:  Identity )\n",
      "269/560: Analysing op name: MobilenetV1/Conv2d_5_pointwise/BatchNorm/gamma ( type:  Const )\n",
      "270/560: Analysing op name: MobilenetV1/Conv2d_5_pointwise/BatchNorm/gamma/read ( type:  Identity )\n",
      "271/560: Analysing op name: MobilenetV1/MobilenetV1/Conv2d_5_pointwise/BatchNorm/batchnorm/mul ( type:  Mul )\n",
      "272/560: Analysing op name: MobilenetV1/MobilenetV1/Conv2d_5_pointwise/BatchNorm/batchnorm/mul_2 ( type:  Mul )\n",
      "273/560: Analysing op name: MobilenetV1/Conv2d_5_pointwise/BatchNorm/beta ( type:  Const )\n",
      "274/560: Analysing op name: MobilenetV1/Conv2d_5_pointwise/BatchNorm/beta/read ( type:  Identity )\n",
      "275/560: Analysing op name: MobilenetV1/MobilenetV1/Conv2d_5_pointwise/BatchNorm/batchnorm/sub ( type:  Sub )\n",
      "276/560: Analysing op name: MobilenetV1/Conv2d_5_pointwise/weights ( type:  Const )\n",
      "277/560: Analysing op name: MobilenetV1/Conv2d_5_pointwise/weights/read ( type:  Identity )\n",
      "278/560: Analysing op name: MobilenetV1/MobilenetV1/Conv2d_5_depthwise/BatchNorm/batchnorm/add/y ( type:  Const )\n",
      "279/560: Analysing op name: MobilenetV1/Conv2d_5_depthwise/BatchNorm/moving_variance ( type:  Const )\n",
      "280/560: Analysing op name: MobilenetV1/Conv2d_5_depthwise/BatchNorm/moving_variance/read ( type:  Identity )\n",
      "281/560: Analysing op name: MobilenetV1/MobilenetV1/Conv2d_5_depthwise/BatchNorm/batchnorm/add ( type:  Add )\n",
      "282/560: Analysing op name: MobilenetV1/MobilenetV1/Conv2d_5_depthwise/BatchNorm/batchnorm/Rsqrt ( type:  Rsqrt )\n",
      "283/560: Analysing op name: MobilenetV1/Conv2d_5_depthwise/BatchNorm/moving_mean ( type:  Const )\n",
      "284/560: Analysing op name: MobilenetV1/Conv2d_5_depthwise/BatchNorm/moving_mean/read ( type:  Identity )\n",
      "285/560: Analysing op name: MobilenetV1/Conv2d_5_depthwise/BatchNorm/gamma ( type:  Const )\n",
      "286/560: Analysing op name: MobilenetV1/Conv2d_5_depthwise/BatchNorm/gamma/read ( type:  Identity )\n",
      "287/560: Analysing op name: MobilenetV1/MobilenetV1/Conv2d_5_depthwise/BatchNorm/batchnorm/mul ( type:  Mul )\n",
      "288/560: Analysing op name: MobilenetV1/MobilenetV1/Conv2d_5_depthwise/BatchNorm/batchnorm/mul_2 ( type:  Mul )\n",
      "289/560: Analysing op name: MobilenetV1/Conv2d_5_depthwise/BatchNorm/beta ( type:  Const )\n",
      "290/560: Analysing op name: MobilenetV1/Conv2d_5_depthwise/BatchNorm/beta/read ( type:  Identity )\n",
      "291/560: Analysing op name: MobilenetV1/MobilenetV1/Conv2d_5_depthwise/BatchNorm/batchnorm/sub ( type:  Sub )\n",
      "292/560: Analysing op name: MobilenetV1/Conv2d_5_depthwise/depthwise_weights ( type:  Const )\n",
      "293/560: Analysing op name: MobilenetV1/Conv2d_5_depthwise/depthwise_weights/read ( type:  Identity )\n",
      "294/560: Analysing op name: MobilenetV1/MobilenetV1/Conv2d_4_pointwise/BatchNorm/batchnorm/add/y ( type:  Const )\n",
      "295/560: Analysing op name: MobilenetV1/Conv2d_4_pointwise/BatchNorm/moving_variance ( type:  Const )\n",
      "296/560: Analysing op name: MobilenetV1/Conv2d_4_pointwise/BatchNorm/moving_variance/read ( type:  Identity )\n",
      "297/560: Analysing op name: MobilenetV1/MobilenetV1/Conv2d_4_pointwise/BatchNorm/batchnorm/add ( type:  Add )\n",
      "298/560: Analysing op name: MobilenetV1/MobilenetV1/Conv2d_4_pointwise/BatchNorm/batchnorm/Rsqrt ( type:  Rsqrt )\n",
      "299/560: Analysing op name: MobilenetV1/Conv2d_4_pointwise/BatchNorm/moving_mean ( type:  Const )\n",
      "300/560: Analysing op name: MobilenetV1/Conv2d_4_pointwise/BatchNorm/moving_mean/read ( type:  Identity )\n",
      "301/560: Analysing op name: MobilenetV1/Conv2d_4_pointwise/BatchNorm/gamma ( type:  Const )\n",
      "302/560: Analysing op name: MobilenetV1/Conv2d_4_pointwise/BatchNorm/gamma/read ( type:  Identity )\n",
      "303/560: Analysing op name: MobilenetV1/MobilenetV1/Conv2d_4_pointwise/BatchNorm/batchnorm/mul ( type:  Mul )\n",
      "304/560: Analysing op name: MobilenetV1/MobilenetV1/Conv2d_4_pointwise/BatchNorm/batchnorm/mul_2 ( type:  Mul )\n",
      "305/560: Analysing op name: MobilenetV1/Conv2d_4_pointwise/BatchNorm/beta ( type:  Const )\n",
      "306/560: Analysing op name: MobilenetV1/Conv2d_4_pointwise/BatchNorm/beta/read ( type:  Identity )\n",
      "307/560: Analysing op name: MobilenetV1/MobilenetV1/Conv2d_4_pointwise/BatchNorm/batchnorm/sub ( type:  Sub )\n",
      "308/560: Analysing op name: MobilenetV1/Conv2d_4_pointwise/weights ( type:  Const )\n",
      "309/560: Analysing op name: MobilenetV1/Conv2d_4_pointwise/weights/read ( type:  Identity )\n",
      "310/560: Analysing op name: MobilenetV1/MobilenetV1/Conv2d_4_depthwise/BatchNorm/batchnorm/add/y ( type:  Const )\n",
      "311/560: Analysing op name: MobilenetV1/Conv2d_4_depthwise/BatchNorm/moving_variance ( type:  Const )\n",
      "312/560: Analysing op name: MobilenetV1/Conv2d_4_depthwise/BatchNorm/moving_variance/read ( type:  Identity )\n",
      "313/560: Analysing op name: MobilenetV1/MobilenetV1/Conv2d_4_depthwise/BatchNorm/batchnorm/add ( type:  Add )\n",
      "314/560: Analysing op name: MobilenetV1/MobilenetV1/Conv2d_4_depthwise/BatchNorm/batchnorm/Rsqrt ( type:  Rsqrt )\n",
      "315/560: Analysing op name: MobilenetV1/Conv2d_4_depthwise/BatchNorm/moving_mean ( type:  Const )\n",
      "316/560: Analysing op name: MobilenetV1/Conv2d_4_depthwise/BatchNorm/moving_mean/read ( type:  Identity )\n",
      "317/560: Analysing op name: MobilenetV1/Conv2d_4_depthwise/BatchNorm/gamma ( type:  Const )\n",
      "318/560: Analysing op name: MobilenetV1/Conv2d_4_depthwise/BatchNorm/gamma/read ( type:  Identity )\n",
      "319/560: Analysing op name: MobilenetV1/MobilenetV1/Conv2d_4_depthwise/BatchNorm/batchnorm/mul ( type:  Mul )\n",
      "320/560: Analysing op name: MobilenetV1/MobilenetV1/Conv2d_4_depthwise/BatchNorm/batchnorm/mul_2 ( type:  Mul )\n",
      "321/560: Analysing op name: MobilenetV1/Conv2d_4_depthwise/BatchNorm/beta ( type:  Const )\n",
      "322/560: Analysing op name: MobilenetV1/Conv2d_4_depthwise/BatchNorm/beta/read ( type:  Identity )\n",
      "323/560: Analysing op name: MobilenetV1/MobilenetV1/Conv2d_4_depthwise/BatchNorm/batchnorm/sub ( type:  Sub )\n",
      "324/560: Analysing op name: MobilenetV1/Conv2d_4_depthwise/depthwise_weights ( type:  Const )\n",
      "325/560: Analysing op name: MobilenetV1/Conv2d_4_depthwise/depthwise_weights/read ( type:  Identity )\n",
      "326/560: Analysing op name: MobilenetV1/MobilenetV1/Conv2d_3_pointwise/BatchNorm/batchnorm/add/y ( type:  Const )\n",
      "327/560: Analysing op name: MobilenetV1/Conv2d_3_pointwise/BatchNorm/moving_variance ( type:  Const )\n",
      "328/560: Analysing op name: MobilenetV1/Conv2d_3_pointwise/BatchNorm/moving_variance/read ( type:  Identity )\n",
      "329/560: Analysing op name: MobilenetV1/MobilenetV1/Conv2d_3_pointwise/BatchNorm/batchnorm/add ( type:  Add )\n",
      "330/560: Analysing op name: MobilenetV1/MobilenetV1/Conv2d_3_pointwise/BatchNorm/batchnorm/Rsqrt ( type:  Rsqrt )\n",
      "331/560: Analysing op name: MobilenetV1/Conv2d_3_pointwise/BatchNorm/moving_mean ( type:  Const )\n",
      "332/560: Analysing op name: MobilenetV1/Conv2d_3_pointwise/BatchNorm/moving_mean/read ( type:  Identity )\n",
      "333/560: Analysing op name: MobilenetV1/Conv2d_3_pointwise/BatchNorm/gamma ( type:  Const )\n",
      "334/560: Analysing op name: MobilenetV1/Conv2d_3_pointwise/BatchNorm/gamma/read ( type:  Identity )\n",
      "335/560: Analysing op name: MobilenetV1/MobilenetV1/Conv2d_3_pointwise/BatchNorm/batchnorm/mul ( type:  Mul )\n",
      "336/560: Analysing op name: MobilenetV1/MobilenetV1/Conv2d_3_pointwise/BatchNorm/batchnorm/mul_2 ( type:  Mul )\n",
      "337/560: Analysing op name: MobilenetV1/Conv2d_3_pointwise/BatchNorm/beta ( type:  Const )\n",
      "338/560: Analysing op name: MobilenetV1/Conv2d_3_pointwise/BatchNorm/beta/read ( type:  Identity )\n",
      "339/560: Analysing op name: MobilenetV1/MobilenetV1/Conv2d_3_pointwise/BatchNorm/batchnorm/sub ( type:  Sub )\n",
      "340/560: Analysing op name: MobilenetV1/Conv2d_3_pointwise/weights ( type:  Const )\n",
      "341/560: Analysing op name: MobilenetV1/Conv2d_3_pointwise/weights/read ( type:  Identity )\n",
      "342/560: Analysing op name: MobilenetV1/MobilenetV1/Conv2d_3_depthwise/BatchNorm/batchnorm/add/y ( type:  Const )\n",
      "343/560: Analysing op name: MobilenetV1/Conv2d_3_depthwise/BatchNorm/moving_variance ( type:  Const )\n",
      "344/560: Analysing op name: MobilenetV1/Conv2d_3_depthwise/BatchNorm/moving_variance/read ( type:  Identity )\n",
      "345/560: Analysing op name: MobilenetV1/MobilenetV1/Conv2d_3_depthwise/BatchNorm/batchnorm/add ( type:  Add )\n",
      "346/560: Analysing op name: MobilenetV1/MobilenetV1/Conv2d_3_depthwise/BatchNorm/batchnorm/Rsqrt ( type:  Rsqrt )\n",
      "347/560: Analysing op name: MobilenetV1/Conv2d_3_depthwise/BatchNorm/moving_mean ( type:  Const )\n",
      "348/560: Analysing op name: MobilenetV1/Conv2d_3_depthwise/BatchNorm/moving_mean/read ( type:  Identity )\n",
      "349/560: Analysing op name: MobilenetV1/Conv2d_3_depthwise/BatchNorm/gamma ( type:  Const )\n",
      "350/560: Analysing op name: MobilenetV1/Conv2d_3_depthwise/BatchNorm/gamma/read ( type:  Identity )\n",
      "351/560: Analysing op name: MobilenetV1/MobilenetV1/Conv2d_3_depthwise/BatchNorm/batchnorm/mul ( type:  Mul )\n",
      "352/560: Analysing op name: MobilenetV1/MobilenetV1/Conv2d_3_depthwise/BatchNorm/batchnorm/mul_2 ( type:  Mul )\n",
      "353/560: Analysing op name: MobilenetV1/Conv2d_3_depthwise/BatchNorm/beta ( type:  Const )\n",
      "354/560: Analysing op name: MobilenetV1/Conv2d_3_depthwise/BatchNorm/beta/read ( type:  Identity )\n",
      "355/560: Analysing op name: MobilenetV1/MobilenetV1/Conv2d_3_depthwise/BatchNorm/batchnorm/sub ( type:  Sub )\n",
      "356/560: Analysing op name: MobilenetV1/Conv2d_3_depthwise/depthwise_weights ( type:  Const )\n",
      "357/560: Analysing op name: MobilenetV1/Conv2d_3_depthwise/depthwise_weights/read ( type:  Identity )\n",
      "358/560: Analysing op name: MobilenetV1/MobilenetV1/Conv2d_2_pointwise/BatchNorm/batchnorm/add/y ( type:  Const )\n",
      "359/560: Analysing op name: MobilenetV1/Conv2d_2_pointwise/BatchNorm/moving_variance ( type:  Const )\n",
      "360/560: Analysing op name: MobilenetV1/Conv2d_2_pointwise/BatchNorm/moving_variance/read ( type:  Identity )\n",
      "361/560: Analysing op name: MobilenetV1/MobilenetV1/Conv2d_2_pointwise/BatchNorm/batchnorm/add ( type:  Add )\n",
      "362/560: Analysing op name: MobilenetV1/MobilenetV1/Conv2d_2_pointwise/BatchNorm/batchnorm/Rsqrt ( type:  Rsqrt )\n",
      "363/560: Analysing op name: MobilenetV1/Conv2d_2_pointwise/BatchNorm/moving_mean ( type:  Const )\n",
      "364/560: Analysing op name: MobilenetV1/Conv2d_2_pointwise/BatchNorm/moving_mean/read ( type:  Identity )\n",
      "365/560: Analysing op name: MobilenetV1/Conv2d_2_pointwise/BatchNorm/gamma ( type:  Const )\n",
      "366/560: Analysing op name: MobilenetV1/Conv2d_2_pointwise/BatchNorm/gamma/read ( type:  Identity )\n",
      "367/560: Analysing op name: MobilenetV1/MobilenetV1/Conv2d_2_pointwise/BatchNorm/batchnorm/mul ( type:  Mul )\n",
      "368/560: Analysing op name: MobilenetV1/MobilenetV1/Conv2d_2_pointwise/BatchNorm/batchnorm/mul_2 ( type:  Mul )\n",
      "369/560: Analysing op name: MobilenetV1/Conv2d_2_pointwise/BatchNorm/beta ( type:  Const )\n",
      "370/560: Analysing op name: MobilenetV1/Conv2d_2_pointwise/BatchNorm/beta/read ( type:  Identity )\n",
      "371/560: Analysing op name: MobilenetV1/MobilenetV1/Conv2d_2_pointwise/BatchNorm/batchnorm/sub ( type:  Sub )\n",
      "372/560: Analysing op name: MobilenetV1/Conv2d_2_pointwise/weights ( type:  Const )\n",
      "373/560: Analysing op name: MobilenetV1/Conv2d_2_pointwise/weights/read ( type:  Identity )\n",
      "374/560: Analysing op name: MobilenetV1/MobilenetV1/Conv2d_2_depthwise/BatchNorm/batchnorm/add/y ( type:  Const )\n",
      "375/560: Analysing op name: MobilenetV1/Conv2d_2_depthwise/BatchNorm/moving_variance ( type:  Const )\n",
      "376/560: Analysing op name: MobilenetV1/Conv2d_2_depthwise/BatchNorm/moving_variance/read ( type:  Identity )\n",
      "377/560: Analysing op name: MobilenetV1/MobilenetV1/Conv2d_2_depthwise/BatchNorm/batchnorm/add ( type:  Add )\n",
      "378/560: Analysing op name: MobilenetV1/MobilenetV1/Conv2d_2_depthwise/BatchNorm/batchnorm/Rsqrt ( type:  Rsqrt )\n",
      "379/560: Analysing op name: MobilenetV1/Conv2d_2_depthwise/BatchNorm/moving_mean ( type:  Const )\n",
      "380/560: Analysing op name: MobilenetV1/Conv2d_2_depthwise/BatchNorm/moving_mean/read ( type:  Identity )\n",
      "381/560: Analysing op name: MobilenetV1/Conv2d_2_depthwise/BatchNorm/gamma ( type:  Const )\n",
      "382/560: Analysing op name: MobilenetV1/Conv2d_2_depthwise/BatchNorm/gamma/read ( type:  Identity )\n",
      "383/560: Analysing op name: MobilenetV1/MobilenetV1/Conv2d_2_depthwise/BatchNorm/batchnorm/mul ( type:  Mul )\n",
      "384/560: Analysing op name: MobilenetV1/MobilenetV1/Conv2d_2_depthwise/BatchNorm/batchnorm/mul_2 ( type:  Mul )\n",
      "385/560: Analysing op name: MobilenetV1/Conv2d_2_depthwise/BatchNorm/beta ( type:  Const )\n",
      "386/560: Analysing op name: MobilenetV1/Conv2d_2_depthwise/BatchNorm/beta/read ( type:  Identity )\n",
      "387/560: Analysing op name: MobilenetV1/MobilenetV1/Conv2d_2_depthwise/BatchNorm/batchnorm/sub ( type:  Sub )\n",
      "388/560: Analysing op name: MobilenetV1/Conv2d_2_depthwise/depthwise_weights ( type:  Const )\n",
      "389/560: Analysing op name: MobilenetV1/Conv2d_2_depthwise/depthwise_weights/read ( type:  Identity )\n",
      "390/560: Analysing op name: MobilenetV1/MobilenetV1/Conv2d_1_pointwise/BatchNorm/batchnorm/add/y ( type:  Const )\n",
      "391/560: Analysing op name: MobilenetV1/Conv2d_1_pointwise/BatchNorm/moving_variance ( type:  Const )\n",
      "392/560: Analysing op name: MobilenetV1/Conv2d_1_pointwise/BatchNorm/moving_variance/read ( type:  Identity )\n",
      "393/560: Analysing op name: MobilenetV1/MobilenetV1/Conv2d_1_pointwise/BatchNorm/batchnorm/add ( type:  Add )\n",
      "394/560: Analysing op name: MobilenetV1/MobilenetV1/Conv2d_1_pointwise/BatchNorm/batchnorm/Rsqrt ( type:  Rsqrt )\n",
      "395/560: Analysing op name: MobilenetV1/Conv2d_1_pointwise/BatchNorm/moving_mean ( type:  Const )\n",
      "396/560: Analysing op name: MobilenetV1/Conv2d_1_pointwise/BatchNorm/moving_mean/read ( type:  Identity )\n",
      "397/560: Analysing op name: MobilenetV1/Conv2d_1_pointwise/BatchNorm/gamma ( type:  Const )\n",
      "398/560: Analysing op name: MobilenetV1/Conv2d_1_pointwise/BatchNorm/gamma/read ( type:  Identity )\n",
      "399/560: Analysing op name: MobilenetV1/MobilenetV1/Conv2d_1_pointwise/BatchNorm/batchnorm/mul ( type:  Mul )\n",
      "400/560: Analysing op name: MobilenetV1/MobilenetV1/Conv2d_1_pointwise/BatchNorm/batchnorm/mul_2 ( type:  Mul )\n",
      "401/560: Analysing op name: MobilenetV1/Conv2d_1_pointwise/BatchNorm/beta ( type:  Const )\n",
      "402/560: Analysing op name: MobilenetV1/Conv2d_1_pointwise/BatchNorm/beta/read ( type:  Identity )\n",
      "403/560: Analysing op name: MobilenetV1/MobilenetV1/Conv2d_1_pointwise/BatchNorm/batchnorm/sub ( type:  Sub )\n",
      "404/560: Analysing op name: MobilenetV1/Conv2d_1_pointwise/weights ( type:  Const )\n",
      "405/560: Analysing op name: MobilenetV1/Conv2d_1_pointwise/weights/read ( type:  Identity )\n",
      "406/560: Analysing op name: MobilenetV1/MobilenetV1/Conv2d_1_depthwise/BatchNorm/batchnorm/add/y ( type:  Const )\n",
      "407/560: Analysing op name: MobilenetV1/Conv2d_1_depthwise/BatchNorm/moving_variance ( type:  Const )\n",
      "408/560: Analysing op name: MobilenetV1/Conv2d_1_depthwise/BatchNorm/moving_variance/read ( type:  Identity )\n",
      "409/560: Analysing op name: MobilenetV1/MobilenetV1/Conv2d_1_depthwise/BatchNorm/batchnorm/add ( type:  Add )\n",
      "410/560: Analysing op name: MobilenetV1/MobilenetV1/Conv2d_1_depthwise/BatchNorm/batchnorm/Rsqrt ( type:  Rsqrt )\n",
      "411/560: Analysing op name: MobilenetV1/Conv2d_1_depthwise/BatchNorm/moving_mean ( type:  Const )\n",
      "412/560: Analysing op name: MobilenetV1/Conv2d_1_depthwise/BatchNorm/moving_mean/read ( type:  Identity )\n",
      "413/560: Analysing op name: MobilenetV1/Conv2d_1_depthwise/BatchNorm/gamma ( type:  Const )\n",
      "414/560: Analysing op name: MobilenetV1/Conv2d_1_depthwise/BatchNorm/gamma/read ( type:  Identity )\n",
      "415/560: Analysing op name: MobilenetV1/MobilenetV1/Conv2d_1_depthwise/BatchNorm/batchnorm/mul ( type:  Mul )\n",
      "416/560: Analysing op name: MobilenetV1/MobilenetV1/Conv2d_1_depthwise/BatchNorm/batchnorm/mul_2 ( type:  Mul )\n",
      "417/560: Analysing op name: MobilenetV1/Conv2d_1_depthwise/BatchNorm/beta ( type:  Const )\n",
      "418/560: Analysing op name: MobilenetV1/Conv2d_1_depthwise/BatchNorm/beta/read ( type:  Identity )\n",
      "419/560: Analysing op name: MobilenetV1/MobilenetV1/Conv2d_1_depthwise/BatchNorm/batchnorm/sub ( type:  Sub )\n",
      "420/560: Analysing op name: MobilenetV1/Conv2d_1_depthwise/depthwise_weights ( type:  Const )\n",
      "421/560: Analysing op name: MobilenetV1/Conv2d_1_depthwise/depthwise_weights/read ( type:  Identity )\n",
      "422/560: Analysing op name: MobilenetV1/MobilenetV1/Conv2d_0/BatchNorm/batchnorm/add/y ( type:  Const )\n",
      "423/560: Analysing op name: MobilenetV1/Conv2d_0/BatchNorm/moving_variance ( type:  Const )\n",
      "424/560: Analysing op name: MobilenetV1/Conv2d_0/BatchNorm/moving_variance/read ( type:  Identity )\n",
      "425/560: Analysing op name: MobilenetV1/MobilenetV1/Conv2d_0/BatchNorm/batchnorm/add ( type:  Add )\n",
      "426/560: Analysing op name: MobilenetV1/MobilenetV1/Conv2d_0/BatchNorm/batchnorm/Rsqrt ( type:  Rsqrt )\n",
      "427/560: Analysing op name: MobilenetV1/Conv2d_0/BatchNorm/moving_mean ( type:  Const )\n",
      "428/560: Analysing op name: MobilenetV1/Conv2d_0/BatchNorm/moving_mean/read ( type:  Identity )\n",
      "429/560: Analysing op name: MobilenetV1/Conv2d_0/BatchNorm/gamma ( type:  Const )\n",
      "430/560: Analysing op name: MobilenetV1/Conv2d_0/BatchNorm/gamma/read ( type:  Identity )\n",
      "431/560: Analysing op name: MobilenetV1/MobilenetV1/Conv2d_0/BatchNorm/batchnorm/mul ( type:  Mul )\n",
      "432/560: Analysing op name: MobilenetV1/MobilenetV1/Conv2d_0/BatchNorm/batchnorm/mul_2 ( type:  Mul )\n",
      "433/560: Analysing op name: MobilenetV1/Conv2d_0/BatchNorm/beta ( type:  Const )\n",
      "434/560: Analysing op name: MobilenetV1/Conv2d_0/BatchNorm/beta/read ( type:  Identity )\n",
      "435/560: Analysing op name: MobilenetV1/MobilenetV1/Conv2d_0/BatchNorm/batchnorm/sub ( type:  Sub )\n",
      "436/560: Analysing op name: MobilenetV1/Conv2d_0/weights ( type:  Const )\n",
      "437/560: Analysing op name: MobilenetV1/Conv2d_0/weights/read ( type:  Identity )\n",
      "438/560: Analysing op name: input ( type:  Placeholder )\n",
      "Skipping name of placeholder\n",
      "439/560: Analysing op name: MobilenetV1/MobilenetV1/Conv2d_0/convolution ( type:  Conv2D )\n",
      "440/560: Analysing op name: MobilenetV1/MobilenetV1/Conv2d_0/BatchNorm/batchnorm/mul_1 ( type:  Mul )\n",
      "441/560: Analysing op name: MobilenetV1/MobilenetV1/Conv2d_0/BatchNorm/batchnorm/add_1 ( type:  Add )\n",
      "442/560: Analysing op name: MobilenetV1/MobilenetV1/Conv2d_0/Relu6 ( type:  Relu6 )\n",
      "443/560: Analysing op name: MobilenetV1/MobilenetV1/Conv2d_1_depthwise/depthwise ( type:  DepthwiseConv2dNative )\n",
      "444/560: Analysing op name: MobilenetV1/MobilenetV1/Conv2d_1_depthwise/BatchNorm/batchnorm/mul_1 ( type:  Mul )\n",
      "445/560: Analysing op name: MobilenetV1/MobilenetV1/Conv2d_1_depthwise/BatchNorm/batchnorm/add_1 ( type:  Add )\n",
      "446/560: Analysing op name: MobilenetV1/MobilenetV1/Conv2d_1_depthwise/Relu6 ( type:  Relu6 )\n",
      "447/560: Analysing op name: MobilenetV1/MobilenetV1/Conv2d_1_pointwise/convolution ( type:  Conv2D )\n",
      "448/560: Analysing op name: MobilenetV1/MobilenetV1/Conv2d_1_pointwise/BatchNorm/batchnorm/mul_1 ( type:  Mul )\n",
      "449/560: Analysing op name: MobilenetV1/MobilenetV1/Conv2d_1_pointwise/BatchNorm/batchnorm/add_1 ( type:  Add )\n",
      "450/560: Analysing op name: MobilenetV1/MobilenetV1/Conv2d_1_pointwise/Relu6 ( type:  Relu6 )\n",
      "451/560: Analysing op name: MobilenetV1/MobilenetV1/Conv2d_2_depthwise/depthwise ( type:  DepthwiseConv2dNative )\n",
      "452/560: Analysing op name: MobilenetV1/MobilenetV1/Conv2d_2_depthwise/BatchNorm/batchnorm/mul_1 ( type:  Mul )\n",
      "453/560: Analysing op name: MobilenetV1/MobilenetV1/Conv2d_2_depthwise/BatchNorm/batchnorm/add_1 ( type:  Add )\n",
      "454/560: Analysing op name: MobilenetV1/MobilenetV1/Conv2d_2_depthwise/Relu6 ( type:  Relu6 )\n",
      "455/560: Analysing op name: MobilenetV1/MobilenetV1/Conv2d_2_pointwise/convolution ( type:  Conv2D )\n",
      "456/560: Analysing op name: MobilenetV1/MobilenetV1/Conv2d_2_pointwise/BatchNorm/batchnorm/mul_1 ( type:  Mul )\n",
      "457/560: Analysing op name: MobilenetV1/MobilenetV1/Conv2d_2_pointwise/BatchNorm/batchnorm/add_1 ( type:  Add )\n",
      "458/560: Analysing op name: MobilenetV1/MobilenetV1/Conv2d_2_pointwise/Relu6 ( type:  Relu6 )\n",
      "459/560: Analysing op name: MobilenetV1/MobilenetV1/Conv2d_3_depthwise/depthwise ( type:  DepthwiseConv2dNative )\n",
      "460/560: Analysing op name: MobilenetV1/MobilenetV1/Conv2d_3_depthwise/BatchNorm/batchnorm/mul_1 ( type:  Mul )\n",
      "461/560: Analysing op name: MobilenetV1/MobilenetV1/Conv2d_3_depthwise/BatchNorm/batchnorm/add_1 ( type:  Add )\n",
      "462/560: Analysing op name: MobilenetV1/MobilenetV1/Conv2d_3_depthwise/Relu6 ( type:  Relu6 )\n",
      "463/560: Analysing op name: MobilenetV1/MobilenetV1/Conv2d_3_pointwise/convolution ( type:  Conv2D )\n",
      "464/560: Analysing op name: MobilenetV1/MobilenetV1/Conv2d_3_pointwise/BatchNorm/batchnorm/mul_1 ( type:  Mul )\n",
      "465/560: Analysing op name: MobilenetV1/MobilenetV1/Conv2d_3_pointwise/BatchNorm/batchnorm/add_1 ( type:  Add )\n",
      "466/560: Analysing op name: MobilenetV1/MobilenetV1/Conv2d_3_pointwise/Relu6 ( type:  Relu6 )\n",
      "467/560: Analysing op name: MobilenetV1/MobilenetV1/Conv2d_4_depthwise/depthwise ( type:  DepthwiseConv2dNative )\n",
      "468/560: Analysing op name: MobilenetV1/MobilenetV1/Conv2d_4_depthwise/BatchNorm/batchnorm/mul_1 ( type:  Mul )\n",
      "469/560: Analysing op name: MobilenetV1/MobilenetV1/Conv2d_4_depthwise/BatchNorm/batchnorm/add_1 ( type:  Add )\n",
      "470/560: Analysing op name: MobilenetV1/MobilenetV1/Conv2d_4_depthwise/Relu6 ( type:  Relu6 )\n",
      "471/560: Analysing op name: MobilenetV1/MobilenetV1/Conv2d_4_pointwise/convolution ( type:  Conv2D )\n",
      "472/560: Analysing op name: MobilenetV1/MobilenetV1/Conv2d_4_pointwise/BatchNorm/batchnorm/mul_1 ( type:  Mul )\n",
      "473/560: Analysing op name: MobilenetV1/MobilenetV1/Conv2d_4_pointwise/BatchNorm/batchnorm/add_1 ( type:  Add )\n",
      "474/560: Analysing op name: MobilenetV1/MobilenetV1/Conv2d_4_pointwise/Relu6 ( type:  Relu6 )\n",
      "475/560: Analysing op name: MobilenetV1/MobilenetV1/Conv2d_5_depthwise/depthwise ( type:  DepthwiseConv2dNative )\n",
      "476/560: Analysing op name: MobilenetV1/MobilenetV1/Conv2d_5_depthwise/BatchNorm/batchnorm/mul_1 ( type:  Mul )\n",
      "477/560: Analysing op name: MobilenetV1/MobilenetV1/Conv2d_5_depthwise/BatchNorm/batchnorm/add_1 ( type:  Add )\n",
      "478/560: Analysing op name: MobilenetV1/MobilenetV1/Conv2d_5_depthwise/Relu6 ( type:  Relu6 )\n",
      "479/560: Analysing op name: MobilenetV1/MobilenetV1/Conv2d_5_pointwise/convolution ( type:  Conv2D )\n"
     ]
    },
    {
     "name": "stdout",
     "output_type": "stream",
     "text": [
      "480/560: Analysing op name: MobilenetV1/MobilenetV1/Conv2d_5_pointwise/BatchNorm/batchnorm/mul_1 ( type:  Mul )\n",
      "481/560: Analysing op name: MobilenetV1/MobilenetV1/Conv2d_5_pointwise/BatchNorm/batchnorm/add_1 ( type:  Add )\n",
      "482/560: Analysing op name: MobilenetV1/MobilenetV1/Conv2d_5_pointwise/Relu6 ( type:  Relu6 )\n",
      "483/560: Analysing op name: MobilenetV1/MobilenetV1/Conv2d_6_depthwise/depthwise ( type:  DepthwiseConv2dNative )\n",
      "484/560: Analysing op name: MobilenetV1/MobilenetV1/Conv2d_6_depthwise/BatchNorm/batchnorm/mul_1 ( type:  Mul )\n",
      "485/560: Analysing op name: MobilenetV1/MobilenetV1/Conv2d_6_depthwise/BatchNorm/batchnorm/add_1 ( type:  Add )\n",
      "486/560: Analysing op name: MobilenetV1/MobilenetV1/Conv2d_6_depthwise/Relu6 ( type:  Relu6 )\n",
      "487/560: Analysing op name: MobilenetV1/MobilenetV1/Conv2d_6_pointwise/convolution ( type:  Conv2D )\n",
      "488/560: Analysing op name: MobilenetV1/MobilenetV1/Conv2d_6_pointwise/BatchNorm/batchnorm/mul_1 ( type:  Mul )\n",
      "489/560: Analysing op name: MobilenetV1/MobilenetV1/Conv2d_6_pointwise/BatchNorm/batchnorm/add_1 ( type:  Add )\n",
      "490/560: Analysing op name: MobilenetV1/MobilenetV1/Conv2d_6_pointwise/Relu6 ( type:  Relu6 )\n",
      "491/560: Analysing op name: MobilenetV1/MobilenetV1/Conv2d_7_depthwise/depthwise ( type:  DepthwiseConv2dNative )\n",
      "492/560: Analysing op name: MobilenetV1/MobilenetV1/Conv2d_7_depthwise/BatchNorm/batchnorm/mul_1 ( type:  Mul )\n",
      "493/560: Analysing op name: MobilenetV1/MobilenetV1/Conv2d_7_depthwise/BatchNorm/batchnorm/add_1 ( type:  Add )\n",
      "494/560: Analysing op name: MobilenetV1/MobilenetV1/Conv2d_7_depthwise/Relu6 ( type:  Relu6 )\n",
      "495/560: Analysing op name: MobilenetV1/MobilenetV1/Conv2d_7_pointwise/convolution ( type:  Conv2D )\n",
      "496/560: Analysing op name: MobilenetV1/MobilenetV1/Conv2d_7_pointwise/BatchNorm/batchnorm/mul_1 ( type:  Mul )\n",
      "497/560: Analysing op name: MobilenetV1/MobilenetV1/Conv2d_7_pointwise/BatchNorm/batchnorm/add_1 ( type:  Add )\n",
      "498/560: Analysing op name: MobilenetV1/MobilenetV1/Conv2d_7_pointwise/Relu6 ( type:  Relu6 )\n",
      "499/560: Analysing op name: MobilenetV1/MobilenetV1/Conv2d_8_depthwise/depthwise ( type:  DepthwiseConv2dNative )\n",
      "500/560: Analysing op name: MobilenetV1/MobilenetV1/Conv2d_8_depthwise/BatchNorm/batchnorm/mul_1 ( type:  Mul )\n",
      "501/560: Analysing op name: MobilenetV1/MobilenetV1/Conv2d_8_depthwise/BatchNorm/batchnorm/add_1 ( type:  Add )\n",
      "502/560: Analysing op name: MobilenetV1/MobilenetV1/Conv2d_8_depthwise/Relu6 ( type:  Relu6 )\n",
      "503/560: Analysing op name: MobilenetV1/MobilenetV1/Conv2d_8_pointwise/convolution ( type:  Conv2D )\n",
      "504/560: Analysing op name: MobilenetV1/MobilenetV1/Conv2d_8_pointwise/BatchNorm/batchnorm/mul_1 ( type:  Mul )\n",
      "505/560: Analysing op name: MobilenetV1/MobilenetV1/Conv2d_8_pointwise/BatchNorm/batchnorm/add_1 ( type:  Add )\n",
      "506/560: Analysing op name: MobilenetV1/MobilenetV1/Conv2d_8_pointwise/Relu6 ( type:  Relu6 )\n",
      "507/560: Analysing op name: MobilenetV1/MobilenetV1/Conv2d_9_depthwise/depthwise ( type:  DepthwiseConv2dNative )\n",
      "508/560: Analysing op name: MobilenetV1/MobilenetV1/Conv2d_9_depthwise/BatchNorm/batchnorm/mul_1 ( type:  Mul )\n",
      "509/560: Analysing op name: MobilenetV1/MobilenetV1/Conv2d_9_depthwise/BatchNorm/batchnorm/add_1 ( type:  Add )\n",
      "510/560: Analysing op name: MobilenetV1/MobilenetV1/Conv2d_9_depthwise/Relu6 ( type:  Relu6 )\n",
      "511/560: Analysing op name: MobilenetV1/MobilenetV1/Conv2d_9_pointwise/convolution ( type:  Conv2D )\n",
      "512/560: Analysing op name: MobilenetV1/MobilenetV1/Conv2d_9_pointwise/BatchNorm/batchnorm/mul_1 ( type:  Mul )\n",
      "513/560: Analysing op name: MobilenetV1/MobilenetV1/Conv2d_9_pointwise/BatchNorm/batchnorm/add_1 ( type:  Add )\n",
      "514/560: Analysing op name: MobilenetV1/MobilenetV1/Conv2d_9_pointwise/Relu6 ( type:  Relu6 )\n",
      "515/560: Analysing op name: MobilenetV1/MobilenetV1/Conv2d_10_depthwise/depthwise ( type:  DepthwiseConv2dNative )\n",
      "516/560: Analysing op name: MobilenetV1/MobilenetV1/Conv2d_10_depthwise/BatchNorm/batchnorm/mul_1 ( type:  Mul )\n",
      "517/560: Analysing op name: MobilenetV1/MobilenetV1/Conv2d_10_depthwise/BatchNorm/batchnorm/add_1 ( type:  Add )\n",
      "518/560: Analysing op name: MobilenetV1/MobilenetV1/Conv2d_10_depthwise/Relu6 ( type:  Relu6 )\n",
      "519/560: Analysing op name: MobilenetV1/MobilenetV1/Conv2d_10_pointwise/convolution ( type:  Conv2D )\n",
      "520/560: Analysing op name: MobilenetV1/MobilenetV1/Conv2d_10_pointwise/BatchNorm/batchnorm/mul_1 ( type:  Mul )\n",
      "521/560: Analysing op name: MobilenetV1/MobilenetV1/Conv2d_10_pointwise/BatchNorm/batchnorm/add_1 ( type:  Add )\n",
      "522/560: Analysing op name: MobilenetV1/MobilenetV1/Conv2d_10_pointwise/Relu6 ( type:  Relu6 )\n",
      "523/560: Analysing op name: MobilenetV1/MobilenetV1/Conv2d_11_depthwise/depthwise ( type:  DepthwiseConv2dNative )\n",
      "524/560: Analysing op name: MobilenetV1/MobilenetV1/Conv2d_11_depthwise/BatchNorm/batchnorm/mul_1 ( type:  Mul )\n",
      "525/560: Analysing op name: MobilenetV1/MobilenetV1/Conv2d_11_depthwise/BatchNorm/batchnorm/add_1 ( type:  Add )\n",
      "526/560: Analysing op name: MobilenetV1/MobilenetV1/Conv2d_11_depthwise/Relu6 ( type:  Relu6 )\n",
      "527/560: Analysing op name: MobilenetV1/MobilenetV1/Conv2d_11_pointwise/convolution ( type:  Conv2D )\n",
      "528/560: Analysing op name: MobilenetV1/MobilenetV1/Conv2d_11_pointwise/BatchNorm/batchnorm/mul_1 ( type:  Mul )\n",
      "529/560: Analysing op name: MobilenetV1/MobilenetV1/Conv2d_11_pointwise/BatchNorm/batchnorm/add_1 ( type:  Add )\n",
      "530/560: Analysing op name: MobilenetV1/MobilenetV1/Conv2d_11_pointwise/Relu6 ( type:  Relu6 )\n",
      "531/560: Analysing op name: MobilenetV1/MobilenetV1/Conv2d_12_depthwise/depthwise ( type:  DepthwiseConv2dNative )\n",
      "532/560: Analysing op name: MobilenetV1/MobilenetV1/Conv2d_12_depthwise/BatchNorm/batchnorm/mul_1 ( type:  Mul )\n",
      "533/560: Analysing op name: MobilenetV1/MobilenetV1/Conv2d_12_depthwise/BatchNorm/batchnorm/add_1 ( type:  Add )\n",
      "534/560: Analysing op name: MobilenetV1/MobilenetV1/Conv2d_12_depthwise/Relu6 ( type:  Relu6 )\n",
      "535/560: Analysing op name: MobilenetV1/MobilenetV1/Conv2d_12_pointwise/convolution ( type:  Conv2D )\n",
      "536/560: Analysing op name: MobilenetV1/MobilenetV1/Conv2d_12_pointwise/BatchNorm/batchnorm/mul_1 ( type:  Mul )\n",
      "537/560: Analysing op name: MobilenetV1/MobilenetV1/Conv2d_12_pointwise/BatchNorm/batchnorm/add_1 ( type:  Add )\n",
      "538/560: Analysing op name: MobilenetV1/MobilenetV1/Conv2d_12_pointwise/Relu6 ( type:  Relu6 )\n",
      "539/560: Analysing op name: MobilenetV1/MobilenetV1/Conv2d_13_depthwise/depthwise ( type:  DepthwiseConv2dNative )\n",
      "540/560: Analysing op name: MobilenetV1/MobilenetV1/Conv2d_13_depthwise/BatchNorm/batchnorm/mul_1 ( type:  Mul )\n",
      "541/560: Analysing op name: MobilenetV1/MobilenetV1/Conv2d_13_depthwise/BatchNorm/batchnorm/add_1 ( type:  Add )\n",
      "542/560: Analysing op name: MobilenetV1/MobilenetV1/Conv2d_13_depthwise/Relu6 ( type:  Relu6 )\n",
      "543/560: Analysing op name: MobilenetV1/MobilenetV1/Conv2d_13_pointwise/convolution ( type:  Conv2D )\n",
      "544/560: Analysing op name: MobilenetV1/MobilenetV1/Conv2d_13_pointwise/BatchNorm/batchnorm/mul_1 ( type:  Mul )\n",
      "545/560: Analysing op name: MobilenetV1/MobilenetV1/Conv2d_13_pointwise/BatchNorm/batchnorm/add_1 ( type:  Add )\n",
      "546/560: Analysing op name: MobilenetV1/MobilenetV1/Conv2d_13_pointwise/Relu6 ( type:  Relu6 )\n",
      "547/560: Analysing op name: MobilenetV1/Logits/AvgPool_1a/AvgPool ( type:  AvgPool )\n",
      "548/560: Analysing op name: MobilenetV1/Logits/Dropout_1b/Identity ( type:  Identity )\n",
      "549/560: Analysing op name: MobilenetV1/Logits/Conv2d_1c_1x1/convolution ( type:  Conv2D )\n",
      "550/560: Analysing op name: MobilenetV1/Logits/Conv2d_1c_1x1/BiasAdd ( type:  BiasAdd )\n",
      "551/560: Analysing op name: MobilenetV1/Logits/SpatialSqueeze ( type:  Squeeze )\n",
      "552/560: Analysing op name: MobilenetV1/Predictions/Reshape ( type:  Reshape )\n",
      "553/560: Analysing op name: input_1/BottleneckInputPlaceholder ( type:  PlaceholderWithDefault )\n",
      "554/560: Analysing op name: final_training_ops/weights/final_weights ( type:  Const )\n",
      "555/560: Analysing op name: final_training_ops/weights/final_weights/read ( type:  Identity )\n",
      "556/560: Analysing op name: final_training_ops/Wx_plus_b/MatMul ( type:  MatMul )\n",
      "557/560: Analysing op name: final_training_ops/biases/final_biases ( type:  Const )\n",
      "558/560: Analysing op name: final_training_ops/biases/final_biases/read ( type:  Identity )\n",
      "559/560: Analysing op name: final_training_ops/Wx_plus_b/add ( type:  Add )\n",
      "560/560: Analysing op name: final_result ( type:  Softmax )\n",
      "\n",
      " Core ML model generated. Saved at location: maradona.mlmodel \n",
      "\n",
      "Core ML input(s): \n",
      " [name: \"input__0\"\n",
      "type {\n",
      "  imageType {\n",
      "    width: 224\n",
      "    height: 224\n",
      "    colorSpace: RGB\n",
      "  }\n",
      "}\n",
      "]\n",
      "Core ML output(s): \n",
      " [name: \"final_result__0\"\n",
      "type {\n",
      "  dictionaryType {\n",
      "    stringKeyType {\n",
      "    }\n",
      "  }\n",
      "}\n",
      ", name: \"classLabel\"\n",
      "type {\n",
      "  stringType {\n",
      "  }\n",
      "}\n",
      "]\n"
     ]
    },
    {
     "data": {
      "text/plain": [
       "input {\n",
       "  name: \"input__0\"\n",
       "  type {\n",
       "    imageType {\n",
       "      width: 224\n",
       "      height: 224\n",
       "      colorSpace: RGB\n",
       "    }\n",
       "  }\n",
       "}\n",
       "output {\n",
       "  name: \"final_result__0\"\n",
       "  type {\n",
       "    dictionaryType {\n",
       "      stringKeyType {\n",
       "      }\n",
       "    }\n",
       "  }\n",
       "}\n",
       "output {\n",
       "  name: \"classLabel\"\n",
       "  type {\n",
       "    stringType {\n",
       "    }\n",
       "  }\n",
       "}\n",
       "predictedFeatureName: \"classLabel\"\n",
       "predictedProbabilitiesName: \"final_result__0\""
      ]
     },
     "execution_count": 42,
     "metadata": {},
     "output_type": "execute_result"
    }
   ],
   "source": [
    "model_name = 'maradona.mlmodel'\n",
    "\n",
    "tf_converter.convert(tf_model_path = 'tf_files/retrained_graph.pb',\n",
    "                     mlmodel_path = model_name,\n",
    "                     image_input_names = 'input:0',\n",
    "                     class_labels = 'tf_files/retrained_labels.txt',\n",
    "                     output_feature_names = ['final_result:0'],\n",
    "                     red_bias = -1,\n",
    "                     green_bias = -1,\n",
    "                     blue_bias = -1,\n",
    "                     image_scale = 2.0/255.0)"
   ]
  },
  {
   "cell_type": "markdown",
   "metadata": {},
   "source": [
    "Done!"
   ]
  },
  {
   "cell_type": "code",
   "execution_count": null,
   "metadata": {},
   "outputs": [
    {
     "name": "stdout",
     "output_type": "stream",
     "text": [
      "2018-06-07 16:50:04.878451: I tensorflow/core/platform/cpu_feature_guard.cc:140] Your CPU supports instructions that this TensorFlow binary was not compiled to use: AVX2 FMA\n",
      "TensorBoard 1.8.0 at http://Martins-MacBook-Pro.local:6006 (Press CTRL+C to quit)\n"
     ]
    }
   ],
   "source": [
    "!tensorboard --logdir=tf_files/training_summaries/"
   ]
  },
  {
   "cell_type": "code",
   "execution_count": null,
   "metadata": {},
   "outputs": [],
   "source": []
  }
 ],
 "metadata": {
  "kernelspec": {
   "display_name": "machine_learning",
   "language": "python",
   "name": "machine_learning"
  },
  "language_info": {
   "codemirror_mode": {
    "name": "ipython",
    "version": 3
   },
   "file_extension": ".py",
   "mimetype": "text/x-python",
   "name": "python",
   "nbconvert_exporter": "python",
   "pygments_lexer": "ipython3",
   "version": "3.6.4"
  }
 },
 "nbformat": 4,
 "nbformat_minor": 2
}
